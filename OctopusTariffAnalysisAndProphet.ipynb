{
 "cells": [
  {
   "cell_type": "markdown",
   "metadata": {},
   "source": [
    "Copyright 2023 Borislav Rumenov Varbanov\n",
    "\n",
    "Licensed under the Apache License, Version 2.0 (the \"License\"); you may not use this file except in compliance with the License. You may obtain a copy of the License at\n",
    "\n",
    "http://www.apache.org/licenses/LICENSE-2.0\n",
    "\n",
    "Unless required by applicable law or agreed to in writing, software distributed under the License is distributed on an \"AS IS\" BASIS, WITHOUT WARRANTIES OR CONDITIONS OF ANY KIND, either express or implied. See the License for the specific language governing permissions and limitations under the License."
   ]
  },
  {
   "cell_type": "code",
   "execution_count": 1,
   "metadata": {},
   "outputs": [],
   "source": [
    "import requests\n",
    "import pandas as pd\n",
    "from requests.auth import HTTPBasicAuth\n",
    "import json\n",
    "import calendar\n",
    "import plotly.express as px\n",
    "import plotly.graph_objects as go\n",
    "from scipy.stats import zscore\n",
    "from prophet import Prophet\n",
    "import re\n",
    "\n",
    "debug_bool = False\n",
    "\n",
    "# Load configuration from JSON file\n",
    "def load_config():\n",
    "    with open('config.json', 'r') as f:\n",
    "        return json.load(f)\n",
    "\n",
    "config = load_config()\n",
    "if debug_bool:\n",
    "    print(\"Config dict print:\")\n",
    "    for enum, value in config.items():\n",
    "        print(\"  \", enum, \" : \", value)"
   ]
  },
  {
   "cell_type": "code",
   "execution_count": 2,
   "metadata": {},
   "outputs": [],
   "source": [
    "BASE_URL = \"https://api.octopus.energy\"\n",
    "\n",
    "def fetch_tariff_data(tariff_code):\n",
    "    TARIFF_URL = f\"{BASE_URL}/v1/products/{config['PRODUCT_CODE']}/{tariff_code}/standard-unit-rates/\"\n",
    "    PARAMS = {\n",
    "        \"period_from\": config['PERIOD_FROM'],\n",
    "        \"period_to\": config['PERIOD_TO'],\n",
    "        \"page_size\": config['PAGE_SIZE']\n",
    "    }\n",
    "    response = requests.get(TARIFF_URL, params=PARAMS, auth=HTTPBasicAuth(config['API_KEY'], \"\"))\n",
    "    \n",
    "    if response.status_code != 200:\n",
    "        print(f\"Error fetching data for {tariff_code}: {response.status_code} - {response.text}\")\n",
    "        return None\n",
    "    else:\n",
    "        return response.json()\n",
    "\n",
    "all_data = []\n",
    "\n",
    "for utility, tariff_code in config['TARIFF_CODE'].items():\n",
    "    if debug_bool:\n",
    "        print(tariff_code)\n",
    "    tariff_data = fetch_tariff_data(tariff_code)\n",
    "    \n",
    "    if tariff_data:\n",
    "        data = []\n",
    "        for result in tariff_data['results']:\n",
    "            valid_from = result['valid_from']\n",
    "            valid_to = result['valid_to']\n",
    "            value_inc_vat = result['value_inc_vat']\n",
    "            if debug_bool:\n",
    "                print(f\"Price between {valid_from} and {valid_to} for {tariff_code} is {value_inc_vat} p/kWh\")\n",
    "            data.append([tariff_code, valid_from, valid_to, value_inc_vat])\n",
    "        \n",
    "        all_data.extend(data)\n",
    "\n",
    "if all_data:\n",
    "    df = pd.DataFrame(all_data, columns=['Tariff Code', 'Valid From', 'Valid To', 'Price (p/kWh)'])\n",
    "    csv_file = \"tariff_data.csv\"\n",
    "    df.to_csv(csv_file, index=False)\n",
    "    if debug_bool:\n",
    "        print(f\"Data saved to {csv_file}\")\n",
    "else:\n",
    "    if debug_bool:\n",
    "        print(\"No data to process.\")"
   ]
  },
  {
   "cell_type": "code",
   "execution_count": 3,
   "metadata": {},
   "outputs": [
    {
     "data": {
      "application/vnd.plotly.v1+json": {
       "config": {
        "plotlyServerURL": "https://plot.ly"
       },
       "data": [
        {
         "alignmentgroup": "True",
         "customdata": [
          [
           2022
          ],
          [
           2022
          ]
         ],
         "hovertemplate": "Tariff Code=electricity-tariffs/E-1R-SILVER-FLEX-22-11-25-A<br>Year=%{customdata[0]}<br>Month=%{x}<br>Price (p/kWh)=%{y}<extra></extra>",
         "legendgroup": "electricity-tariffs/E-1R-SILVER-FLEX-22-11-25-A",
         "marker": {
          "color": "#636efa",
          "pattern": {
           "shape": ""
          }
         },
         "name": "electricity-tariffs/E-1R-SILVER-FLEX-22-11-25-A",
         "offsetgroup": "electricity-tariffs/E-1R-SILVER-FLEX-22-11-25-A",
         "orientation": "v",
         "showlegend": true,
         "textposition": "auto",
         "type": "bar",
         "x": [
          "November",
          "December"
         ],
         "xaxis": "x2",
         "y": [
          26.6581875,
          31.33663693548387
         ],
         "yaxis": "y2"
        },
        {
         "alignmentgroup": "True",
         "customdata": [
          [
           2023
          ],
          [
           2023
          ],
          [
           2023
          ],
          [
           2023
          ],
          [
           2023
          ],
          [
           2023
          ],
          [
           2023
          ],
          [
           2023
          ],
          [
           2023
          ],
          [
           2023
          ]
         ],
         "hovertemplate": "Tariff Code=electricity-tariffs/E-1R-SILVER-FLEX-22-11-25-A<br>Year=%{customdata[0]}<br>Month=%{x}<br>Price (p/kWh)=%{y}<extra></extra>",
         "legendgroup": "electricity-tariffs/E-1R-SILVER-FLEX-22-11-25-A",
         "marker": {
          "color": "#636efa",
          "pattern": {
           "shape": ""
          }
         },
         "name": "electricity-tariffs/E-1R-SILVER-FLEX-22-11-25-A",
         "offsetgroup": "electricity-tariffs/E-1R-SILVER-FLEX-22-11-25-A",
         "orientation": "v",
         "showlegend": false,
         "textposition": "auto",
         "type": "bar",
         "x": [
          "January",
          "February",
          "March",
          "April",
          "May",
          "June",
          "July",
          "August",
          "September",
          "October"
         ],
         "xaxis": "x",
         "y": [
          24.11917741935484,
          24.586125,
          21.980765625,
          20.31155,
          17.6295,
          18.0012,
          16.483306451612904,
          17.91875806451613,
          17.82865,
          17.956125
         ],
         "yaxis": "y"
        },
        {
         "alignmentgroup": "True",
         "customdata": [
          [
           2022
          ],
          [
           2022
          ]
         ],
         "hovertemplate": "Tariff Code=gas-tariffs/G-1R-SILVER-FLEX-22-11-25-A<br>Year=%{customdata[0]}<br>Month=%{x}<br>Price (p/kWh)=%{y}<extra></extra>",
         "legendgroup": "gas-tariffs/G-1R-SILVER-FLEX-22-11-25-A",
         "marker": {
          "color": "#EF553B",
          "pattern": {
           "shape": ""
          }
         },
         "name": "gas-tariffs/G-1R-SILVER-FLEX-22-11-25-A",
         "offsetgroup": "gas-tariffs/G-1R-SILVER-FLEX-22-11-25-A",
         "orientation": "v",
         "showlegend": true,
         "textposition": "auto",
         "type": "bar",
         "x": [
          "November",
          "December"
         ],
         "xaxis": "x2",
         "y": [
          6.46107,
          9.483735483870968
         ],
         "yaxis": "y2"
        },
        {
         "alignmentgroup": "True",
         "customdata": [
          [
           2023
          ],
          [
           2023
          ],
          [
           2023
          ],
          [
           2023
          ],
          [
           2023
          ],
          [
           2023
          ],
          [
           2023
          ],
          [
           2023
          ],
          [
           2023
          ],
          [
           2023
          ]
         ],
         "hovertemplate": "Tariff Code=gas-tariffs/G-1R-SILVER-FLEX-22-11-25-A<br>Year=%{customdata[0]}<br>Month=%{x}<br>Price (p/kWh)=%{y}<extra></extra>",
         "legendgroup": "gas-tariffs/G-1R-SILVER-FLEX-22-11-25-A",
         "marker": {
          "color": "#EF553B",
          "pattern": {
           "shape": ""
          }
         },
         "name": "gas-tariffs/G-1R-SILVER-FLEX-22-11-25-A",
         "offsetgroup": "gas-tariffs/G-1R-SILVER-FLEX-22-11-25-A",
         "orientation": "v",
         "showlegend": false,
         "textposition": "auto",
         "type": "bar",
         "x": [
          "January",
          "February",
          "March",
          "April",
          "May",
          "June",
          "July",
          "August",
          "September",
          "October"
         ],
         "xaxis": "x",
         "y": [
          7.106467741935484,
          6.276000000000001,
          5.401265625,
          5.00745,
          3.9236129032258065,
          4.13175,
          3.8846612903225806,
          4.326,
          4.65325,
          5.122125
         ],
         "yaxis": "y"
        }
       ],
       "layout": {
        "annotations": [
         {
          "font": {},
          "showarrow": false,
          "text": "Year=2023",
          "textangle": 90,
          "x": 0.98,
          "xanchor": "left",
          "xref": "paper",
          "y": 0.2425,
          "yanchor": "middle",
          "yref": "paper"
         },
         {
          "font": {},
          "showarrow": false,
          "text": "Year=2022",
          "textangle": 90,
          "x": 0.98,
          "xanchor": "left",
          "xref": "paper",
          "y": 0.7575000000000001,
          "yanchor": "middle",
          "yref": "paper"
         }
        ],
        "barmode": "relative",
        "hovermode": "x unified",
        "legend": {
         "title": {
          "text": "Tariff Code"
         },
         "tracegroupgap": 0
        },
        "template": {
         "data": {
          "bar": [
           {
            "error_x": {
             "color": "#2a3f5f"
            },
            "error_y": {
             "color": "#2a3f5f"
            },
            "marker": {
             "line": {
              "color": "#E5ECF6",
              "width": 0.5
             },
             "pattern": {
              "fillmode": "overlay",
              "size": 10,
              "solidity": 0.2
             }
            },
            "type": "bar"
           }
          ],
          "barpolar": [
           {
            "marker": {
             "line": {
              "color": "#E5ECF6",
              "width": 0.5
             },
             "pattern": {
              "fillmode": "overlay",
              "size": 10,
              "solidity": 0.2
             }
            },
            "type": "barpolar"
           }
          ],
          "carpet": [
           {
            "aaxis": {
             "endlinecolor": "#2a3f5f",
             "gridcolor": "white",
             "linecolor": "white",
             "minorgridcolor": "white",
             "startlinecolor": "#2a3f5f"
            },
            "baxis": {
             "endlinecolor": "#2a3f5f",
             "gridcolor": "white",
             "linecolor": "white",
             "minorgridcolor": "white",
             "startlinecolor": "#2a3f5f"
            },
            "type": "carpet"
           }
          ],
          "choropleth": [
           {
            "colorbar": {
             "outlinewidth": 0,
             "ticks": ""
            },
            "type": "choropleth"
           }
          ],
          "contour": [
           {
            "colorbar": {
             "outlinewidth": 0,
             "ticks": ""
            },
            "colorscale": [
             [
              0,
              "#0d0887"
             ],
             [
              0.1111111111111111,
              "#46039f"
             ],
             [
              0.2222222222222222,
              "#7201a8"
             ],
             [
              0.3333333333333333,
              "#9c179e"
             ],
             [
              0.4444444444444444,
              "#bd3786"
             ],
             [
              0.5555555555555556,
              "#d8576b"
             ],
             [
              0.6666666666666666,
              "#ed7953"
             ],
             [
              0.7777777777777778,
              "#fb9f3a"
             ],
             [
              0.8888888888888888,
              "#fdca26"
             ],
             [
              1,
              "#f0f921"
             ]
            ],
            "type": "contour"
           }
          ],
          "contourcarpet": [
           {
            "colorbar": {
             "outlinewidth": 0,
             "ticks": ""
            },
            "type": "contourcarpet"
           }
          ],
          "heatmap": [
           {
            "colorbar": {
             "outlinewidth": 0,
             "ticks": ""
            },
            "colorscale": [
             [
              0,
              "#0d0887"
             ],
             [
              0.1111111111111111,
              "#46039f"
             ],
             [
              0.2222222222222222,
              "#7201a8"
             ],
             [
              0.3333333333333333,
              "#9c179e"
             ],
             [
              0.4444444444444444,
              "#bd3786"
             ],
             [
              0.5555555555555556,
              "#d8576b"
             ],
             [
              0.6666666666666666,
              "#ed7953"
             ],
             [
              0.7777777777777778,
              "#fb9f3a"
             ],
             [
              0.8888888888888888,
              "#fdca26"
             ],
             [
              1,
              "#f0f921"
             ]
            ],
            "type": "heatmap"
           }
          ],
          "heatmapgl": [
           {
            "colorbar": {
             "outlinewidth": 0,
             "ticks": ""
            },
            "colorscale": [
             [
              0,
              "#0d0887"
             ],
             [
              0.1111111111111111,
              "#46039f"
             ],
             [
              0.2222222222222222,
              "#7201a8"
             ],
             [
              0.3333333333333333,
              "#9c179e"
             ],
             [
              0.4444444444444444,
              "#bd3786"
             ],
             [
              0.5555555555555556,
              "#d8576b"
             ],
             [
              0.6666666666666666,
              "#ed7953"
             ],
             [
              0.7777777777777778,
              "#fb9f3a"
             ],
             [
              0.8888888888888888,
              "#fdca26"
             ],
             [
              1,
              "#f0f921"
             ]
            ],
            "type": "heatmapgl"
           }
          ],
          "histogram": [
           {
            "marker": {
             "pattern": {
              "fillmode": "overlay",
              "size": 10,
              "solidity": 0.2
             }
            },
            "type": "histogram"
           }
          ],
          "histogram2d": [
           {
            "colorbar": {
             "outlinewidth": 0,
             "ticks": ""
            },
            "colorscale": [
             [
              0,
              "#0d0887"
             ],
             [
              0.1111111111111111,
              "#46039f"
             ],
             [
              0.2222222222222222,
              "#7201a8"
             ],
             [
              0.3333333333333333,
              "#9c179e"
             ],
             [
              0.4444444444444444,
              "#bd3786"
             ],
             [
              0.5555555555555556,
              "#d8576b"
             ],
             [
              0.6666666666666666,
              "#ed7953"
             ],
             [
              0.7777777777777778,
              "#fb9f3a"
             ],
             [
              0.8888888888888888,
              "#fdca26"
             ],
             [
              1,
              "#f0f921"
             ]
            ],
            "type": "histogram2d"
           }
          ],
          "histogram2dcontour": [
           {
            "colorbar": {
             "outlinewidth": 0,
             "ticks": ""
            },
            "colorscale": [
             [
              0,
              "#0d0887"
             ],
             [
              0.1111111111111111,
              "#46039f"
             ],
             [
              0.2222222222222222,
              "#7201a8"
             ],
             [
              0.3333333333333333,
              "#9c179e"
             ],
             [
              0.4444444444444444,
              "#bd3786"
             ],
             [
              0.5555555555555556,
              "#d8576b"
             ],
             [
              0.6666666666666666,
              "#ed7953"
             ],
             [
              0.7777777777777778,
              "#fb9f3a"
             ],
             [
              0.8888888888888888,
              "#fdca26"
             ],
             [
              1,
              "#f0f921"
             ]
            ],
            "type": "histogram2dcontour"
           }
          ],
          "mesh3d": [
           {
            "colorbar": {
             "outlinewidth": 0,
             "ticks": ""
            },
            "type": "mesh3d"
           }
          ],
          "parcoords": [
           {
            "line": {
             "colorbar": {
              "outlinewidth": 0,
              "ticks": ""
             }
            },
            "type": "parcoords"
           }
          ],
          "pie": [
           {
            "automargin": true,
            "type": "pie"
           }
          ],
          "scatter": [
           {
            "fillpattern": {
             "fillmode": "overlay",
             "size": 10,
             "solidity": 0.2
            },
            "type": "scatter"
           }
          ],
          "scatter3d": [
           {
            "line": {
             "colorbar": {
              "outlinewidth": 0,
              "ticks": ""
             }
            },
            "marker": {
             "colorbar": {
              "outlinewidth": 0,
              "ticks": ""
             }
            },
            "type": "scatter3d"
           }
          ],
          "scattercarpet": [
           {
            "marker": {
             "colorbar": {
              "outlinewidth": 0,
              "ticks": ""
             }
            },
            "type": "scattercarpet"
           }
          ],
          "scattergeo": [
           {
            "marker": {
             "colorbar": {
              "outlinewidth": 0,
              "ticks": ""
             }
            },
            "type": "scattergeo"
           }
          ],
          "scattergl": [
           {
            "marker": {
             "colorbar": {
              "outlinewidth": 0,
              "ticks": ""
             }
            },
            "type": "scattergl"
           }
          ],
          "scattermapbox": [
           {
            "marker": {
             "colorbar": {
              "outlinewidth": 0,
              "ticks": ""
             }
            },
            "type": "scattermapbox"
           }
          ],
          "scatterpolar": [
           {
            "marker": {
             "colorbar": {
              "outlinewidth": 0,
              "ticks": ""
             }
            },
            "type": "scatterpolar"
           }
          ],
          "scatterpolargl": [
           {
            "marker": {
             "colorbar": {
              "outlinewidth": 0,
              "ticks": ""
             }
            },
            "type": "scatterpolargl"
           }
          ],
          "scatterternary": [
           {
            "marker": {
             "colorbar": {
              "outlinewidth": 0,
              "ticks": ""
             }
            },
            "type": "scatterternary"
           }
          ],
          "surface": [
           {
            "colorbar": {
             "outlinewidth": 0,
             "ticks": ""
            },
            "colorscale": [
             [
              0,
              "#0d0887"
             ],
             [
              0.1111111111111111,
              "#46039f"
             ],
             [
              0.2222222222222222,
              "#7201a8"
             ],
             [
              0.3333333333333333,
              "#9c179e"
             ],
             [
              0.4444444444444444,
              "#bd3786"
             ],
             [
              0.5555555555555556,
              "#d8576b"
             ],
             [
              0.6666666666666666,
              "#ed7953"
             ],
             [
              0.7777777777777778,
              "#fb9f3a"
             ],
             [
              0.8888888888888888,
              "#fdca26"
             ],
             [
              1,
              "#f0f921"
             ]
            ],
            "type": "surface"
           }
          ],
          "table": [
           {
            "cells": {
             "fill": {
              "color": "#EBF0F8"
             },
             "line": {
              "color": "white"
             }
            },
            "header": {
             "fill": {
              "color": "#C8D4E3"
             },
             "line": {
              "color": "white"
             }
            },
            "type": "table"
           }
          ]
         },
         "layout": {
          "annotationdefaults": {
           "arrowcolor": "#2a3f5f",
           "arrowhead": 0,
           "arrowwidth": 1
          },
          "autotypenumbers": "strict",
          "coloraxis": {
           "colorbar": {
            "outlinewidth": 0,
            "ticks": ""
           }
          },
          "colorscale": {
           "diverging": [
            [
             0,
             "#8e0152"
            ],
            [
             0.1,
             "#c51b7d"
            ],
            [
             0.2,
             "#de77ae"
            ],
            [
             0.3,
             "#f1b6da"
            ],
            [
             0.4,
             "#fde0ef"
            ],
            [
             0.5,
             "#f7f7f7"
            ],
            [
             0.6,
             "#e6f5d0"
            ],
            [
             0.7,
             "#b8e186"
            ],
            [
             0.8,
             "#7fbc41"
            ],
            [
             0.9,
             "#4d9221"
            ],
            [
             1,
             "#276419"
            ]
           ],
           "sequential": [
            [
             0,
             "#0d0887"
            ],
            [
             0.1111111111111111,
             "#46039f"
            ],
            [
             0.2222222222222222,
             "#7201a8"
            ],
            [
             0.3333333333333333,
             "#9c179e"
            ],
            [
             0.4444444444444444,
             "#bd3786"
            ],
            [
             0.5555555555555556,
             "#d8576b"
            ],
            [
             0.6666666666666666,
             "#ed7953"
            ],
            [
             0.7777777777777778,
             "#fb9f3a"
            ],
            [
             0.8888888888888888,
             "#fdca26"
            ],
            [
             1,
             "#f0f921"
            ]
           ],
           "sequentialminus": [
            [
             0,
             "#0d0887"
            ],
            [
             0.1111111111111111,
             "#46039f"
            ],
            [
             0.2222222222222222,
             "#7201a8"
            ],
            [
             0.3333333333333333,
             "#9c179e"
            ],
            [
             0.4444444444444444,
             "#bd3786"
            ],
            [
             0.5555555555555556,
             "#d8576b"
            ],
            [
             0.6666666666666666,
             "#ed7953"
            ],
            [
             0.7777777777777778,
             "#fb9f3a"
            ],
            [
             0.8888888888888888,
             "#fdca26"
            ],
            [
             1,
             "#f0f921"
            ]
           ]
          },
          "colorway": [
           "#636efa",
           "#EF553B",
           "#00cc96",
           "#ab63fa",
           "#FFA15A",
           "#19d3f3",
           "#FF6692",
           "#B6E880",
           "#FF97FF",
           "#FECB52"
          ],
          "font": {
           "color": "#2a3f5f"
          },
          "geo": {
           "bgcolor": "white",
           "lakecolor": "white",
           "landcolor": "#E5ECF6",
           "showlakes": true,
           "showland": true,
           "subunitcolor": "white"
          },
          "hoverlabel": {
           "align": "left"
          },
          "hovermode": "closest",
          "mapbox": {
           "style": "light"
          },
          "paper_bgcolor": "white",
          "plot_bgcolor": "#E5ECF6",
          "polar": {
           "angularaxis": {
            "gridcolor": "white",
            "linecolor": "white",
            "ticks": ""
           },
           "bgcolor": "#E5ECF6",
           "radialaxis": {
            "gridcolor": "white",
            "linecolor": "white",
            "ticks": ""
           }
          },
          "scene": {
           "xaxis": {
            "backgroundcolor": "#E5ECF6",
            "gridcolor": "white",
            "gridwidth": 2,
            "linecolor": "white",
            "showbackground": true,
            "ticks": "",
            "zerolinecolor": "white"
           },
           "yaxis": {
            "backgroundcolor": "#E5ECF6",
            "gridcolor": "white",
            "gridwidth": 2,
            "linecolor": "white",
            "showbackground": true,
            "ticks": "",
            "zerolinecolor": "white"
           },
           "zaxis": {
            "backgroundcolor": "#E5ECF6",
            "gridcolor": "white",
            "gridwidth": 2,
            "linecolor": "white",
            "showbackground": true,
            "ticks": "",
            "zerolinecolor": "white"
           }
          },
          "shapedefaults": {
           "line": {
            "color": "#2a3f5f"
           }
          },
          "ternary": {
           "aaxis": {
            "gridcolor": "white",
            "linecolor": "white",
            "ticks": ""
           },
           "baxis": {
            "gridcolor": "white",
            "linecolor": "white",
            "ticks": ""
           },
           "bgcolor": "#E5ECF6",
           "caxis": {
            "gridcolor": "white",
            "linecolor": "white",
            "ticks": ""
           }
          },
          "title": {
           "x": 0.05
          },
          "xaxis": {
           "automargin": true,
           "gridcolor": "white",
           "linecolor": "white",
           "ticks": "",
           "title": {
            "standoff": 15
           },
           "zerolinecolor": "white",
           "zerolinewidth": 2
          },
          "yaxis": {
           "automargin": true,
           "gridcolor": "white",
           "linecolor": "white",
           "ticks": "",
           "title": {
            "standoff": 15
           },
           "zerolinecolor": "white",
           "zerolinewidth": 2
          }
         }
        },
        "title": {
         "text": "Monthly Energy Prices"
        },
        "xaxis": {
         "anchor": "y",
         "domain": [
          0,
          0.98
         ],
         "title": {
          "text": "Month"
         }
        },
        "xaxis2": {
         "anchor": "y2",
         "domain": [
          0,
          0.98
         ],
         "matches": "x",
         "showticklabels": false
        },
        "yaxis": {
         "anchor": "x",
         "domain": [
          0,
          0.485
         ],
         "title": {
          "text": "Price (p/kWh)"
         }
        },
        "yaxis2": {
         "anchor": "x2",
         "domain": [
          0.515,
          1
         ],
         "matches": "y",
         "title": {
          "text": "Price (p/kWh)"
         }
        }
       }
      }
     },
     "metadata": {},
     "output_type": "display_data"
    }
   ],
   "source": [
    "df = pd.DataFrame(all_data, columns=['Tariff Code', 'Valid From', 'Valid To', 'Price (p/kWh)'])\n",
    "\n",
    "df['Valid From'] = pd.to_datetime(df['Valid From'])\n",
    "df['Valid To'] = pd.to_datetime(df['Valid To'])\n",
    "\n",
    "df['Date'] = df['Valid From'].dt.date\n",
    "df['Month'] = df['Valid From'].dt.month_name()\n",
    "monthly_prices = df.groupby(['Tariff Code', 'Month'])['Price (p/kWh)'].mean().reset_index()\n",
    "# Extract the year\n",
    "df['Year'] = df['Valid From'].dt.year\n",
    "\n",
    "# Group by Tariff Code, Year and Month, then calculate the mean price\n",
    "monthly_prices = df.groupby(['Tariff Code', 'Year', 'Month'])['Price (p/kWh)'].mean().reset_index()\n",
    "\n",
    "# Sort 'Month' in chronological order\n",
    "month_order = ['January', 'February', 'March', 'April', 'May', 'June', 'July', 'August', 'September', 'October', 'November', 'December']\n",
    "monthly_prices['Month'] = pd.Categorical(monthly_prices['Month'], categories=month_order, ordered=True)\n",
    "monthly_prices = monthly_prices.sort_values(['Year', 'Month'])\n",
    "\n",
    "# Create interactive bar plot using Plotly\n",
    "fig = px.bar(\n",
    "    monthly_prices,\n",
    "    x='Month',\n",
    "    y='Price (p/kWh)',\n",
    "    color='Tariff Code',\n",
    "    title='Monthly Energy Prices',\n",
    "    labels={'Month': 'Month', 'Price (p/kWh)': 'Price (p/kWh)'},\n",
    "    hover_data=['Price (p/kWh)', 'Year'],\n",
    "    facet_row='Year'  # Separate plot for each year\n",
    ")\n",
    "\n",
    "# Update layout\n",
    "fig.update_layout(\n",
    "    xaxis_title='Month',\n",
    "    yaxis_title='Price (p/kWh)',\n",
    "    hovermode=\"x unified\"\n",
    ")\n",
    "\n",
    "# Save as HTML\n",
    "fig.write_html(\"energy_month_year_average_plot_interactive.html\")\n",
    "\n",
    "# Show the plot\n",
    "fig.show()"
   ]
  },
  {
   "cell_type": "code",
   "execution_count": 4,
   "metadata": {},
   "outputs": [
    {
     "data": {
      "application/vnd.plotly.v1+json": {
       "config": {
        "plotlyServerURL": "https://plot.ly"
       },
       "data": [
        {
         "hoverinfo": "x+y",
         "legendgroup": "2022",
         "name": "Mean electricity-tariffs/E-1R-SILVER-FLEX-22-11-25-A 2022",
         "type": "bar",
         "x": [
          "November",
          "December"
         ],
         "y": [
          26.6581875,
          31.33663693548387
         ]
        },
        {
         "hoverinfo": "x+y",
         "legendgroup": "2023",
         "name": "Mean electricity-tariffs/E-1R-SILVER-FLEX-22-11-25-A 2023",
         "type": "bar",
         "x": [
          "January",
          "February",
          "March",
          "April",
          "May",
          "June",
          "July",
          "August",
          "September",
          "October"
         ],
         "y": [
          24.11917741935484,
          24.586125,
          21.980765625,
          20.31155,
          17.6295,
          18.0012,
          16.483306451612904,
          17.91875806451613,
          17.82865,
          17.956125
         ]
        },
        {
         "hoverinfo": "x+y",
         "legendgroup": "2022",
         "name": "Mean gas-tariffs/G-1R-SILVER-FLEX-22-11-25-A 2022",
         "type": "bar",
         "x": [
          "November",
          "December"
         ],
         "y": [
          6.46107,
          9.483735483870968
         ]
        },
        {
         "hoverinfo": "x+y",
         "legendgroup": "2023",
         "name": "Mean gas-tariffs/G-1R-SILVER-FLEX-22-11-25-A 2023",
         "type": "bar",
         "x": [
          "January",
          "February",
          "March",
          "April",
          "May",
          "June",
          "July",
          "August",
          "September",
          "October"
         ],
         "y": [
          7.106467741935484,
          6.276000000000001,
          5.401265625,
          5.00745,
          3.9236129032258065,
          4.13175,
          3.8846612903225806,
          4.326,
          4.65325,
          5.122125
         ]
        },
        {
         "hoverinfo": "x+y",
         "legendgroup": "2022",
         "mode": "lines+markers",
         "name": "Total Mean 2022",
         "type": "scatter",
         "x": [
          "November",
          "December"
         ],
         "y": [
          16.559628749999998,
          20.410186209677416
         ]
        },
        {
         "hoverinfo": "x+y",
         "legendgroup": "2023",
         "mode": "lines+markers",
         "name": "Total Mean 2023",
         "type": "scatter",
         "x": [
          "January",
          "February",
          "March",
          "April",
          "May",
          "June",
          "July",
          "August",
          "September",
          "October"
         ],
         "y": [
          15.612822580645162,
          15.4310625,
          13.691015625,
          12.659500000000001,
          10.776556451612903,
          11.066475,
          10.183983870967742,
          11.122379032258063,
          11.24095,
          11.539125
         ]
        }
       ],
       "layout": {
        "barmode": "group",
        "hovermode": "x unified",
        "template": {
         "data": {
          "bar": [
           {
            "error_x": {
             "color": "#2a3f5f"
            },
            "error_y": {
             "color": "#2a3f5f"
            },
            "marker": {
             "line": {
              "color": "#E5ECF6",
              "width": 0.5
             },
             "pattern": {
              "fillmode": "overlay",
              "size": 10,
              "solidity": 0.2
             }
            },
            "type": "bar"
           }
          ],
          "barpolar": [
           {
            "marker": {
             "line": {
              "color": "#E5ECF6",
              "width": 0.5
             },
             "pattern": {
              "fillmode": "overlay",
              "size": 10,
              "solidity": 0.2
             }
            },
            "type": "barpolar"
           }
          ],
          "carpet": [
           {
            "aaxis": {
             "endlinecolor": "#2a3f5f",
             "gridcolor": "white",
             "linecolor": "white",
             "minorgridcolor": "white",
             "startlinecolor": "#2a3f5f"
            },
            "baxis": {
             "endlinecolor": "#2a3f5f",
             "gridcolor": "white",
             "linecolor": "white",
             "minorgridcolor": "white",
             "startlinecolor": "#2a3f5f"
            },
            "type": "carpet"
           }
          ],
          "choropleth": [
           {
            "colorbar": {
             "outlinewidth": 0,
             "ticks": ""
            },
            "type": "choropleth"
           }
          ],
          "contour": [
           {
            "colorbar": {
             "outlinewidth": 0,
             "ticks": ""
            },
            "colorscale": [
             [
              0,
              "#0d0887"
             ],
             [
              0.1111111111111111,
              "#46039f"
             ],
             [
              0.2222222222222222,
              "#7201a8"
             ],
             [
              0.3333333333333333,
              "#9c179e"
             ],
             [
              0.4444444444444444,
              "#bd3786"
             ],
             [
              0.5555555555555556,
              "#d8576b"
             ],
             [
              0.6666666666666666,
              "#ed7953"
             ],
             [
              0.7777777777777778,
              "#fb9f3a"
             ],
             [
              0.8888888888888888,
              "#fdca26"
             ],
             [
              1,
              "#f0f921"
             ]
            ],
            "type": "contour"
           }
          ],
          "contourcarpet": [
           {
            "colorbar": {
             "outlinewidth": 0,
             "ticks": ""
            },
            "type": "contourcarpet"
           }
          ],
          "heatmap": [
           {
            "colorbar": {
             "outlinewidth": 0,
             "ticks": ""
            },
            "colorscale": [
             [
              0,
              "#0d0887"
             ],
             [
              0.1111111111111111,
              "#46039f"
             ],
             [
              0.2222222222222222,
              "#7201a8"
             ],
             [
              0.3333333333333333,
              "#9c179e"
             ],
             [
              0.4444444444444444,
              "#bd3786"
             ],
             [
              0.5555555555555556,
              "#d8576b"
             ],
             [
              0.6666666666666666,
              "#ed7953"
             ],
             [
              0.7777777777777778,
              "#fb9f3a"
             ],
             [
              0.8888888888888888,
              "#fdca26"
             ],
             [
              1,
              "#f0f921"
             ]
            ],
            "type": "heatmap"
           }
          ],
          "heatmapgl": [
           {
            "colorbar": {
             "outlinewidth": 0,
             "ticks": ""
            },
            "colorscale": [
             [
              0,
              "#0d0887"
             ],
             [
              0.1111111111111111,
              "#46039f"
             ],
             [
              0.2222222222222222,
              "#7201a8"
             ],
             [
              0.3333333333333333,
              "#9c179e"
             ],
             [
              0.4444444444444444,
              "#bd3786"
             ],
             [
              0.5555555555555556,
              "#d8576b"
             ],
             [
              0.6666666666666666,
              "#ed7953"
             ],
             [
              0.7777777777777778,
              "#fb9f3a"
             ],
             [
              0.8888888888888888,
              "#fdca26"
             ],
             [
              1,
              "#f0f921"
             ]
            ],
            "type": "heatmapgl"
           }
          ],
          "histogram": [
           {
            "marker": {
             "pattern": {
              "fillmode": "overlay",
              "size": 10,
              "solidity": 0.2
             }
            },
            "type": "histogram"
           }
          ],
          "histogram2d": [
           {
            "colorbar": {
             "outlinewidth": 0,
             "ticks": ""
            },
            "colorscale": [
             [
              0,
              "#0d0887"
             ],
             [
              0.1111111111111111,
              "#46039f"
             ],
             [
              0.2222222222222222,
              "#7201a8"
             ],
             [
              0.3333333333333333,
              "#9c179e"
             ],
             [
              0.4444444444444444,
              "#bd3786"
             ],
             [
              0.5555555555555556,
              "#d8576b"
             ],
             [
              0.6666666666666666,
              "#ed7953"
             ],
             [
              0.7777777777777778,
              "#fb9f3a"
             ],
             [
              0.8888888888888888,
              "#fdca26"
             ],
             [
              1,
              "#f0f921"
             ]
            ],
            "type": "histogram2d"
           }
          ],
          "histogram2dcontour": [
           {
            "colorbar": {
             "outlinewidth": 0,
             "ticks": ""
            },
            "colorscale": [
             [
              0,
              "#0d0887"
             ],
             [
              0.1111111111111111,
              "#46039f"
             ],
             [
              0.2222222222222222,
              "#7201a8"
             ],
             [
              0.3333333333333333,
              "#9c179e"
             ],
             [
              0.4444444444444444,
              "#bd3786"
             ],
             [
              0.5555555555555556,
              "#d8576b"
             ],
             [
              0.6666666666666666,
              "#ed7953"
             ],
             [
              0.7777777777777778,
              "#fb9f3a"
             ],
             [
              0.8888888888888888,
              "#fdca26"
             ],
             [
              1,
              "#f0f921"
             ]
            ],
            "type": "histogram2dcontour"
           }
          ],
          "mesh3d": [
           {
            "colorbar": {
             "outlinewidth": 0,
             "ticks": ""
            },
            "type": "mesh3d"
           }
          ],
          "parcoords": [
           {
            "line": {
             "colorbar": {
              "outlinewidth": 0,
              "ticks": ""
             }
            },
            "type": "parcoords"
           }
          ],
          "pie": [
           {
            "automargin": true,
            "type": "pie"
           }
          ],
          "scatter": [
           {
            "fillpattern": {
             "fillmode": "overlay",
             "size": 10,
             "solidity": 0.2
            },
            "type": "scatter"
           }
          ],
          "scatter3d": [
           {
            "line": {
             "colorbar": {
              "outlinewidth": 0,
              "ticks": ""
             }
            },
            "marker": {
             "colorbar": {
              "outlinewidth": 0,
              "ticks": ""
             }
            },
            "type": "scatter3d"
           }
          ],
          "scattercarpet": [
           {
            "marker": {
             "colorbar": {
              "outlinewidth": 0,
              "ticks": ""
             }
            },
            "type": "scattercarpet"
           }
          ],
          "scattergeo": [
           {
            "marker": {
             "colorbar": {
              "outlinewidth": 0,
              "ticks": ""
             }
            },
            "type": "scattergeo"
           }
          ],
          "scattergl": [
           {
            "marker": {
             "colorbar": {
              "outlinewidth": 0,
              "ticks": ""
             }
            },
            "type": "scattergl"
           }
          ],
          "scattermapbox": [
           {
            "marker": {
             "colorbar": {
              "outlinewidth": 0,
              "ticks": ""
             }
            },
            "type": "scattermapbox"
           }
          ],
          "scatterpolar": [
           {
            "marker": {
             "colorbar": {
              "outlinewidth": 0,
              "ticks": ""
             }
            },
            "type": "scatterpolar"
           }
          ],
          "scatterpolargl": [
           {
            "marker": {
             "colorbar": {
              "outlinewidth": 0,
              "ticks": ""
             }
            },
            "type": "scatterpolargl"
           }
          ],
          "scatterternary": [
           {
            "marker": {
             "colorbar": {
              "outlinewidth": 0,
              "ticks": ""
             }
            },
            "type": "scatterternary"
           }
          ],
          "surface": [
           {
            "colorbar": {
             "outlinewidth": 0,
             "ticks": ""
            },
            "colorscale": [
             [
              0,
              "#0d0887"
             ],
             [
              0.1111111111111111,
              "#46039f"
             ],
             [
              0.2222222222222222,
              "#7201a8"
             ],
             [
              0.3333333333333333,
              "#9c179e"
             ],
             [
              0.4444444444444444,
              "#bd3786"
             ],
             [
              0.5555555555555556,
              "#d8576b"
             ],
             [
              0.6666666666666666,
              "#ed7953"
             ],
             [
              0.7777777777777778,
              "#fb9f3a"
             ],
             [
              0.8888888888888888,
              "#fdca26"
             ],
             [
              1,
              "#f0f921"
             ]
            ],
            "type": "surface"
           }
          ],
          "table": [
           {
            "cells": {
             "fill": {
              "color": "#EBF0F8"
             },
             "line": {
              "color": "white"
             }
            },
            "header": {
             "fill": {
              "color": "#C8D4E3"
             },
             "line": {
              "color": "white"
             }
            },
            "type": "table"
           }
          ]
         },
         "layout": {
          "annotationdefaults": {
           "arrowcolor": "#2a3f5f",
           "arrowhead": 0,
           "arrowwidth": 1
          },
          "autotypenumbers": "strict",
          "coloraxis": {
           "colorbar": {
            "outlinewidth": 0,
            "ticks": ""
           }
          },
          "colorscale": {
           "diverging": [
            [
             0,
             "#8e0152"
            ],
            [
             0.1,
             "#c51b7d"
            ],
            [
             0.2,
             "#de77ae"
            ],
            [
             0.3,
             "#f1b6da"
            ],
            [
             0.4,
             "#fde0ef"
            ],
            [
             0.5,
             "#f7f7f7"
            ],
            [
             0.6,
             "#e6f5d0"
            ],
            [
             0.7,
             "#b8e186"
            ],
            [
             0.8,
             "#7fbc41"
            ],
            [
             0.9,
             "#4d9221"
            ],
            [
             1,
             "#276419"
            ]
           ],
           "sequential": [
            [
             0,
             "#0d0887"
            ],
            [
             0.1111111111111111,
             "#46039f"
            ],
            [
             0.2222222222222222,
             "#7201a8"
            ],
            [
             0.3333333333333333,
             "#9c179e"
            ],
            [
             0.4444444444444444,
             "#bd3786"
            ],
            [
             0.5555555555555556,
             "#d8576b"
            ],
            [
             0.6666666666666666,
             "#ed7953"
            ],
            [
             0.7777777777777778,
             "#fb9f3a"
            ],
            [
             0.8888888888888888,
             "#fdca26"
            ],
            [
             1,
             "#f0f921"
            ]
           ],
           "sequentialminus": [
            [
             0,
             "#0d0887"
            ],
            [
             0.1111111111111111,
             "#46039f"
            ],
            [
             0.2222222222222222,
             "#7201a8"
            ],
            [
             0.3333333333333333,
             "#9c179e"
            ],
            [
             0.4444444444444444,
             "#bd3786"
            ],
            [
             0.5555555555555556,
             "#d8576b"
            ],
            [
             0.6666666666666666,
             "#ed7953"
            ],
            [
             0.7777777777777778,
             "#fb9f3a"
            ],
            [
             0.8888888888888888,
             "#fdca26"
            ],
            [
             1,
             "#f0f921"
            ]
           ]
          },
          "colorway": [
           "#636efa",
           "#EF553B",
           "#00cc96",
           "#ab63fa",
           "#FFA15A",
           "#19d3f3",
           "#FF6692",
           "#B6E880",
           "#FF97FF",
           "#FECB52"
          ],
          "font": {
           "color": "#2a3f5f"
          },
          "geo": {
           "bgcolor": "white",
           "lakecolor": "white",
           "landcolor": "#E5ECF6",
           "showlakes": true,
           "showland": true,
           "subunitcolor": "white"
          },
          "hoverlabel": {
           "align": "left"
          },
          "hovermode": "closest",
          "mapbox": {
           "style": "light"
          },
          "paper_bgcolor": "white",
          "plot_bgcolor": "#E5ECF6",
          "polar": {
           "angularaxis": {
            "gridcolor": "white",
            "linecolor": "white",
            "ticks": ""
           },
           "bgcolor": "#E5ECF6",
           "radialaxis": {
            "gridcolor": "white",
            "linecolor": "white",
            "ticks": ""
           }
          },
          "scene": {
           "xaxis": {
            "backgroundcolor": "#E5ECF6",
            "gridcolor": "white",
            "gridwidth": 2,
            "linecolor": "white",
            "showbackground": true,
            "ticks": "",
            "zerolinecolor": "white"
           },
           "yaxis": {
            "backgroundcolor": "#E5ECF6",
            "gridcolor": "white",
            "gridwidth": 2,
            "linecolor": "white",
            "showbackground": true,
            "ticks": "",
            "zerolinecolor": "white"
           },
           "zaxis": {
            "backgroundcolor": "#E5ECF6",
            "gridcolor": "white",
            "gridwidth": 2,
            "linecolor": "white",
            "showbackground": true,
            "ticks": "",
            "zerolinecolor": "white"
           }
          },
          "shapedefaults": {
           "line": {
            "color": "#2a3f5f"
           }
          },
          "ternary": {
           "aaxis": {
            "gridcolor": "white",
            "linecolor": "white",
            "ticks": ""
           },
           "baxis": {
            "gridcolor": "white",
            "linecolor": "white",
            "ticks": ""
           },
           "bgcolor": "#E5ECF6",
           "caxis": {
            "gridcolor": "white",
            "linecolor": "white",
            "ticks": ""
           }
          },
          "title": {
           "x": 0.05
          },
          "xaxis": {
           "automargin": true,
           "gridcolor": "white",
           "linecolor": "white",
           "ticks": "",
           "title": {
            "standoff": 15
           },
           "zerolinecolor": "white",
           "zerolinewidth": 2
          },
          "yaxis": {
           "automargin": true,
           "gridcolor": "white",
           "linecolor": "white",
           "ticks": "",
           "title": {
            "standoff": 15
           },
           "zerolinecolor": "white",
           "zerolinewidth": 2
          }
         }
        },
        "title": {
         "text": "Monthly Energy Prices: Mean and Total"
        },
        "xaxis": {
         "title": {
          "text": "Month"
         }
        },
        "yaxis": {
         "title": {
          "text": "Price (p/kWh)"
         }
        }
       }
      }
     },
     "metadata": {},
     "output_type": "display_data"
    }
   ],
   "source": [
    "# Create a mapping of month names to numbers\n",
    "month_to_num = {name: num for num, name in enumerate(calendar.month_name) if num}\n",
    "\n",
    "# Calculate mean and total prices for each Tariff Code\n",
    "monthly_stats = df.groupby(['Tariff Code', 'Year', 'Month']).agg({'Price (p/kWh)': 'mean'}).reset_index()\n",
    "\n",
    "# Calculate total mean prices across all Tariff Codes\n",
    "total_monthly_stats = df.groupby(['Year', 'Month']).agg({'Price (p/kWh)': 'mean'}).reset_index()\n",
    "\n",
    "# Map month names to numbers in the DataFrames\n",
    "monthly_stats['Month_num'] = monthly_stats['Month'].map(month_to_num)\n",
    "total_monthly_stats['Month_num'] = total_monthly_stats['Month'].map(month_to_num)\n",
    "\n",
    "# Sort by Year and Month_num\n",
    "monthly_stats = monthly_stats.sort_values(['Year', 'Month_num'])\n",
    "total_monthly_stats = total_monthly_stats.sort_values(['Year', 'Month_num'])\n",
    "\n",
    "\n",
    "\n",
    "fig = go.Figure()\n",
    "\n",
    "# Add bar traces for mean prices by Tariff Code\n",
    "for tariff_code in monthly_stats['Tariff Code'].unique():\n",
    "    subset = monthly_stats[monthly_stats['Tariff Code'] == tariff_code]\n",
    "    for year in subset['Year'].unique():\n",
    "        yearly_subset = subset[subset['Year'] == year]\n",
    "        fig.add_trace(go.Bar(x=yearly_subset['Month'], y=yearly_subset['Price (p/kWh)'], \n",
    "                             name=f'Mean {tariff_code} {year}', legendgroup=str(year),\n",
    "                             hoverinfo='x+y'))\n",
    "\n",
    "# Add line traces for total mean prices across all Tariff Codes\n",
    "for year in total_monthly_stats['Year'].unique():\n",
    "    yearly_subset = total_monthly_stats[total_monthly_stats['Year'] == year]\n",
    "    fig.add_trace(go.Scatter(x=yearly_subset['Month'], y=yearly_subset['Price (p/kWh)'], \n",
    "                             mode='lines+markers', name=f'Total Mean {year}', legendgroup=str(year),\n",
    "                             hoverinfo='x+y'))\n",
    "\n",
    "# Update layout\n",
    "fig.update_layout(\n",
    "    title='Monthly Energy Prices: Mean and Total',\n",
    "    xaxis_title='Month',\n",
    "    yaxis_title='Price (p/kWh)',\n",
    "    hovermode=\"x unified\",\n",
    "    barmode='group'\n",
    ")\n",
    "\n",
    "# Save as HTML\n",
    "fig.write_html(\"energy_month_year_mean_total_combined_plot_interactive.html\")\n",
    "\n",
    "# Show the plot\n",
    "fig.show()"
   ]
  },
  {
   "cell_type": "code",
   "execution_count": 5,
   "metadata": {},
   "outputs": [
    {
     "data": {
      "application/vnd.plotly.v1+json": {
       "config": {
        "plotlyServerURL": "https://plot.ly"
       },
       "data": [
        {
         "mode": "lines",
         "name": "Tariff electricity-tariffs/E-1R-SILVER-FLEX-22-11-25-A",
         "type": "scatter",
         "x": [
          "2023-10-28T23:00:00+00:00",
          "2023-10-27T23:00:00+00:00",
          "2023-10-26T23:00:00+00:00",
          "2023-10-25T23:00:00+00:00",
          "2023-10-24T23:00:00+00:00",
          "2023-10-23T23:00:00+00:00",
          "2023-10-22T23:00:00+00:00",
          "2023-10-21T23:00:00+00:00",
          "2023-10-20T23:00:00+00:00",
          "2023-10-19T23:00:00+00:00",
          "2023-10-18T23:00:00+00:00",
          "2023-10-17T23:00:00+00:00",
          "2023-10-16T23:00:00+00:00",
          "2023-10-15T23:00:00+00:00",
          "2023-10-14T23:00:00+00:00",
          "2023-10-13T23:00:00+00:00",
          "2023-10-12T23:00:00+00:00",
          "2023-10-11T23:00:00+00:00",
          "2023-10-10T23:00:00+00:00",
          "2023-10-09T23:00:00+00:00",
          "2023-10-08T23:00:00+00:00",
          "2023-10-07T23:00:00+00:00",
          "2023-10-06T23:00:00+00:00",
          "2023-10-05T23:00:00+00:00",
          "2023-10-04T23:00:00+00:00",
          "2023-10-03T23:00:00+00:00",
          "2023-10-02T23:00:00+00:00",
          "2023-10-01T23:00:00+00:00",
          "2023-09-30T23:00:00+00:00",
          "2023-09-29T23:00:00+00:00",
          "2023-09-28T23:00:00+00:00",
          "2023-09-27T23:00:00+00:00",
          "2023-09-26T23:00:00+00:00",
          "2023-09-25T23:00:00+00:00",
          "2023-09-24T23:00:00+00:00",
          "2023-09-23T23:00:00+00:00",
          "2023-09-22T23:00:00+00:00",
          "2023-09-21T23:00:00+00:00",
          "2023-09-20T23:00:00+00:00",
          "2023-09-19T23:00:00+00:00",
          "2023-09-18T23:00:00+00:00",
          "2023-09-17T23:00:00+00:00",
          "2023-09-16T23:00:00+00:00",
          "2023-09-15T23:00:00+00:00",
          "2023-09-14T23:00:00+00:00",
          "2023-09-13T23:00:00+00:00",
          "2023-09-12T23:00:00+00:00",
          "2023-09-11T23:00:00+00:00",
          "2023-09-10T23:00:00+00:00",
          "2023-09-09T23:00:00+00:00",
          "2023-09-08T23:00:00+00:00",
          "2023-09-07T23:00:00+00:00",
          "2023-09-06T23:00:00+00:00",
          "2023-09-05T23:00:00+00:00",
          "2023-09-04T23:00:00+00:00",
          "2023-09-03T23:00:00+00:00",
          "2023-09-02T23:00:00+00:00",
          "2023-09-01T23:00:00+00:00",
          "2023-08-31T23:00:00+00:00",
          "2023-08-30T23:00:00+00:00",
          "2023-08-29T23:00:00+00:00",
          "2023-08-28T23:00:00+00:00",
          "2023-08-27T23:00:00+00:00",
          "2023-08-26T23:00:00+00:00",
          "2023-08-25T23:00:00+00:00",
          "2023-08-24T23:00:00+00:00",
          "2023-08-23T23:00:00+00:00",
          "2023-08-22T23:00:00+00:00",
          "2023-08-21T23:00:00+00:00",
          "2023-08-20T23:00:00+00:00",
          "2023-08-19T23:00:00+00:00",
          "2023-08-18T23:00:00+00:00",
          "2023-08-17T23:00:00+00:00",
          "2023-08-16T23:00:00+00:00",
          "2023-08-15T23:00:00+00:00",
          "2023-08-14T23:00:00+00:00",
          "2023-08-13T23:00:00+00:00",
          "2023-08-12T23:00:00+00:00",
          "2023-08-11T23:00:00+00:00",
          "2023-08-10T23:00:00+00:00",
          "2023-08-09T23:00:00+00:00",
          "2023-08-08T23:00:00+00:00",
          "2023-08-07T23:00:00+00:00",
          "2023-08-06T23:00:00+00:00",
          "2023-08-05T23:00:00+00:00",
          "2023-08-04T23:00:00+00:00",
          "2023-08-03T23:00:00+00:00",
          "2023-08-02T23:00:00+00:00",
          "2023-08-01T23:00:00+00:00",
          "2023-07-31T23:00:00+00:00",
          "2023-07-30T23:00:00+00:00",
          "2023-07-29T23:00:00+00:00",
          "2023-07-28T23:00:00+00:00",
          "2023-07-27T23:00:00+00:00",
          "2023-07-26T23:00:00+00:00",
          "2023-07-25T23:00:00+00:00",
          "2023-07-24T23:00:00+00:00",
          "2023-07-23T23:00:00+00:00",
          "2023-07-22T23:00:00+00:00",
          "2023-07-21T23:00:00+00:00",
          "2023-07-20T23:00:00+00:00",
          "2023-07-19T23:00:00+00:00",
          "2023-07-18T23:00:00+00:00",
          "2023-07-17T23:00:00+00:00",
          "2023-07-16T23:00:00+00:00",
          "2023-07-15T23:00:00+00:00",
          "2023-07-14T23:00:00+00:00",
          "2023-07-13T23:00:00+00:00",
          "2023-07-12T23:00:00+00:00",
          "2023-07-11T23:00:00+00:00",
          "2023-07-10T23:00:00+00:00",
          "2023-07-09T23:00:00+00:00",
          "2023-07-08T23:00:00+00:00",
          "2023-07-07T23:00:00+00:00",
          "2023-07-06T23:00:00+00:00",
          "2023-07-05T23:00:00+00:00",
          "2023-07-04T23:00:00+00:00",
          "2023-07-03T23:00:00+00:00",
          "2023-07-02T23:00:00+00:00",
          "2023-07-01T23:00:00+00:00",
          "2023-06-30T23:00:00+00:00",
          "2023-06-29T23:00:00+00:00",
          "2023-06-28T23:00:00+00:00",
          "2023-06-27T23:00:00+00:00",
          "2023-06-26T23:00:00+00:00",
          "2023-06-25T23:00:00+00:00",
          "2023-06-24T23:00:00+00:00",
          "2023-06-23T23:00:00+00:00",
          "2023-06-22T23:00:00+00:00",
          "2023-06-21T23:00:00+00:00",
          "2023-06-20T23:00:00+00:00",
          "2023-06-19T23:00:00+00:00",
          "2023-06-18T23:00:00+00:00",
          "2023-06-17T23:00:00+00:00",
          "2023-06-16T23:00:00+00:00",
          "2023-06-15T23:00:00+00:00",
          "2023-06-14T23:00:00+00:00",
          "2023-06-13T23:00:00+00:00",
          "2023-06-12T23:00:00+00:00",
          "2023-06-11T23:00:00+00:00",
          "2023-06-10T23:00:00+00:00",
          "2023-06-09T23:00:00+00:00",
          "2023-06-08T23:00:00+00:00",
          "2023-06-07T23:00:00+00:00",
          "2023-06-06T23:00:00+00:00",
          "2023-06-05T23:00:00+00:00",
          "2023-06-04T23:00:00+00:00",
          "2023-06-03T23:00:00+00:00",
          "2023-06-02T23:00:00+00:00",
          "2023-06-01T23:00:00+00:00",
          "2023-05-31T23:00:00+00:00",
          "2023-05-30T23:00:00+00:00",
          "2023-05-29T23:00:00+00:00",
          "2023-05-28T23:00:00+00:00",
          "2023-05-27T23:00:00+00:00",
          "2023-05-26T23:00:00+00:00",
          "2023-05-25T23:00:00+00:00",
          "2023-05-24T23:00:00+00:00",
          "2023-05-23T23:00:00+00:00",
          "2023-05-22T23:00:00+00:00",
          "2023-05-21T23:00:00+00:00",
          "2023-05-20T23:00:00+00:00",
          "2023-05-19T23:00:00+00:00",
          "2023-05-18T23:00:00+00:00",
          "2023-05-17T23:00:00+00:00",
          "2023-05-16T23:00:00+00:00",
          "2023-05-15T23:00:00+00:00",
          "2023-05-14T23:00:00+00:00",
          "2023-05-13T23:00:00+00:00",
          "2023-05-12T23:00:00+00:00",
          "2023-05-11T23:00:00+00:00",
          "2023-05-10T23:00:00+00:00",
          "2023-05-09T23:00:00+00:00",
          "2023-05-08T23:00:00+00:00",
          "2023-05-07T23:00:00+00:00",
          "2023-05-06T23:00:00+00:00",
          "2023-05-05T23:00:00+00:00",
          "2023-05-04T23:00:00+00:00",
          "2023-05-03T23:00:00+00:00",
          "2023-05-02T23:00:00+00:00",
          "2023-05-01T23:00:00+00:00",
          "2023-04-30T23:00:00+00:00",
          "2023-04-29T23:00:00+00:00",
          "2023-04-28T23:00:00+00:00",
          "2023-04-27T23:00:00+00:00",
          "2023-04-26T23:00:00+00:00",
          "2023-04-25T23:00:00+00:00",
          "2023-04-24T23:00:00+00:00",
          "2023-04-23T23:00:00+00:00",
          "2023-04-22T23:00:00+00:00",
          "2023-04-21T23:00:00+00:00",
          "2023-04-20T23:00:00+00:00",
          "2023-04-19T23:00:00+00:00",
          "2023-04-18T23:00:00+00:00",
          "2023-04-17T23:00:00+00:00",
          "2023-04-16T23:00:00+00:00",
          "2023-04-15T23:00:00+00:00",
          "2023-04-14T23:00:00+00:00",
          "2023-04-13T23:00:00+00:00",
          "2023-04-12T23:00:00+00:00",
          "2023-04-11T23:00:00+00:00",
          "2023-04-10T23:00:00+00:00",
          "2023-04-09T23:00:00+00:00",
          "2023-04-08T23:00:00+00:00",
          "2023-04-07T23:00:00+00:00",
          "2023-04-06T23:00:00+00:00",
          "2023-04-05T23:00:00+00:00",
          "2023-04-04T23:00:00+00:00",
          "2023-04-03T23:00:00+00:00",
          "2023-04-02T23:00:00+00:00",
          "2023-04-01T23:00:00+00:00",
          "2023-03-31T23:00:00+00:00",
          "2023-03-30T23:00:00+00:00",
          "2023-03-29T23:00:00+00:00",
          "2023-03-28T23:00:00+00:00",
          "2023-03-27T23:00:00+00:00",
          "2023-03-26T23:00:00+00:00",
          "2023-03-26T00:00:00+00:00",
          "2023-03-25T00:00:00+00:00",
          "2023-03-24T00:00:00+00:00",
          "2023-03-23T00:00:00+00:00",
          "2023-03-22T00:00:00+00:00",
          "2023-03-21T00:00:00+00:00",
          "2023-03-20T00:00:00+00:00",
          "2023-03-19T00:00:00+00:00",
          "2023-03-18T00:00:00+00:00",
          "2023-03-17T00:00:00+00:00",
          "2023-03-16T00:00:00+00:00",
          "2023-03-15T00:00:00+00:00",
          "2023-03-14T00:00:00+00:00",
          "2023-03-13T00:00:00+00:00",
          "2023-03-12T00:00:00+00:00",
          "2023-03-11T00:00:00+00:00",
          "2023-03-10T00:00:00+00:00",
          "2023-03-09T00:00:00+00:00",
          "2023-03-08T00:00:00+00:00",
          "2023-03-07T00:00:00+00:00",
          "2023-03-06T00:00:00+00:00",
          "2023-03-05T00:00:00+00:00",
          "2023-03-04T00:00:00+00:00",
          "2023-03-03T00:00:00+00:00",
          "2023-03-02T00:00:00+00:00",
          "2023-03-01T00:00:00+00:00",
          "2023-02-28T00:00:00+00:00",
          "2023-02-27T00:00:00+00:00",
          "2023-02-26T00:00:00+00:00",
          "2023-02-25T00:00:00+00:00",
          "2023-02-24T00:00:00+00:00",
          "2023-02-23T00:00:00+00:00",
          "2023-02-22T00:00:00+00:00",
          "2023-02-21T00:00:00+00:00",
          "2023-02-20T00:00:00+00:00",
          "2023-02-19T00:00:00+00:00",
          "2023-02-18T00:00:00+00:00",
          "2023-02-17T00:00:00+00:00",
          "2023-02-16T00:00:00+00:00",
          "2023-02-15T00:00:00+00:00",
          "2023-02-14T00:00:00+00:00",
          "2023-02-13T00:00:00+00:00",
          "2023-02-12T00:00:00+00:00",
          "2023-02-11T00:00:00+00:00",
          "2023-02-10T00:00:00+00:00",
          "2023-02-09T00:00:00+00:00",
          "2023-02-08T00:00:00+00:00",
          "2023-02-07T00:00:00+00:00",
          "2023-02-06T00:00:00+00:00",
          "2023-02-05T00:00:00+00:00",
          "2023-02-04T00:00:00+00:00",
          "2023-02-03T00:00:00+00:00",
          "2023-02-02T00:00:00+00:00",
          "2023-02-01T00:00:00+00:00",
          "2023-01-31T00:00:00+00:00",
          "2023-01-30T00:00:00+00:00",
          "2023-01-29T00:00:00+00:00",
          "2023-01-28T00:00:00+00:00",
          "2023-01-27T00:00:00+00:00",
          "2023-01-26T00:00:00+00:00",
          "2023-01-25T00:00:00+00:00",
          "2023-01-24T00:00:00+00:00",
          "2023-01-23T00:00:00+00:00",
          "2023-01-22T00:00:00+00:00",
          "2023-01-21T00:00:00+00:00",
          "2023-01-20T00:00:00+00:00",
          "2023-01-19T00:00:00+00:00",
          "2023-01-18T00:00:00+00:00",
          "2023-01-17T00:00:00+00:00",
          "2023-01-16T00:00:00+00:00",
          "2023-01-15T00:00:00+00:00",
          "2023-01-14T00:00:00+00:00",
          "2023-01-13T00:00:00+00:00",
          "2023-01-12T00:00:00+00:00",
          "2023-01-11T00:00:00+00:00",
          "2023-01-10T00:00:00+00:00",
          "2023-01-09T00:00:00+00:00",
          "2023-01-08T00:00:00+00:00",
          "2023-01-07T00:00:00+00:00",
          "2023-01-06T00:00:00+00:00",
          "2023-01-05T00:00:00+00:00",
          "2023-01-04T00:00:00+00:00",
          "2023-01-03T00:00:00+00:00",
          "2023-01-02T00:00:00+00:00",
          "2023-01-01T00:00:00+00:00",
          "2022-12-31T00:00:00+00:00",
          "2022-12-30T00:00:00+00:00",
          "2022-12-29T00:00:00+00:00",
          "2022-12-28T00:00:00+00:00",
          "2022-12-27T00:00:00+00:00",
          "2022-12-26T00:00:00+00:00",
          "2022-12-25T00:00:00+00:00",
          "2022-12-24T00:00:00+00:00",
          "2022-12-23T00:00:00+00:00",
          "2022-12-22T00:00:00+00:00",
          "2022-12-21T00:00:00+00:00",
          "2022-12-20T00:00:00+00:00",
          "2022-12-19T00:00:00+00:00",
          "2022-12-18T00:00:00+00:00",
          "2022-12-17T00:00:00+00:00",
          "2022-12-16T00:00:00+00:00",
          "2022-12-15T00:00:00+00:00",
          "2022-12-14T00:00:00+00:00",
          "2022-12-13T00:00:00+00:00",
          "2022-12-12T00:00:00+00:00",
          "2022-12-11T00:00:00+00:00",
          "2022-12-10T00:00:00+00:00",
          "2022-12-09T00:00:00+00:00",
          "2022-12-08T00:00:00+00:00",
          "2022-12-07T00:00:00+00:00",
          "2022-12-06T00:00:00+00:00",
          "2022-12-05T00:00:00+00:00",
          "2022-12-04T00:00:00+00:00",
          "2022-12-03T00:00:00+00:00",
          "2022-12-02T00:00:00+00:00",
          "2022-12-01T00:00:00+00:00",
          "2022-11-30T00:00:00+00:00",
          "2022-11-29T00:00:00+00:00",
          "2022-11-28T00:00:00+00:00",
          "2022-11-27T00:00:00+00:00",
          "2022-11-26T00:00:00+00:00",
          "2022-11-25T00:00:00+00:00",
          "2022-11-24T00:00:00+00:00",
          "2022-11-23T00:00:00+00:00",
          "2022-11-22T00:00:00+00:00",
          "2022-11-21T00:00:00+00:00",
          "2022-11-20T00:00:00+00:00",
          "2022-11-19T00:00:00+00:00",
          "2022-11-18T00:00:00+00:00",
          "2022-11-17T00:00:00+00:00"
         ],
         "y": [
          13.398,
          17.115,
          20.7795,
          21.3885,
          21.819,
          20.475,
          21.168,
          19.173,
          17.619,
          16.7265,
          16.7685,
          15.624,
          21.6195,
          23.94,
          16.8735,
          11.7495,
          17.073,
          21.399,
          16.59,
          18.018,
          19.719,
          17.703,
          13.965,
          14.994,
          16.8525,
          15.4455,
          15.435,
          19.341,
          16.9785,
          18.837,
          17.3565,
          15.309,
          19.0995,
          19.1205,
          15.8025,
          13.356,
          19.1415,
          18.648,
          17.9445,
          14.175,
          14.742,
          17.6505,
          18.1125,
          17.9025,
          18.837,
          18.6795,
          18.7425,
          19.5615,
          20.1915,
          18.1755,
          17.9865,
          18.8685,
          18.6375,
          18.3015,
          18.102,
          18.543,
          18.0495,
          18.0075,
          19.0155,
          18.795,
          19.1205,
          19.2255,
          18.8685,
          18.207,
          18.2175,
          19.551,
          22.4595,
          21.7875,
          19.068,
          18.7425,
          17.997,
          13.9755,
          17.808,
          18.144,
          18.9,
          17.955,
          18.018,
          16.695,
          15.813,
          17.787,
          17.6505,
          17.2515,
          16.6425,
          16.5165,
          15.351,
          17.2725,
          17.4825,
          14.931,
          16.233,
          16.8,
          15.9075,
          11.907,
          15.8865,
          17.4825,
          18.27,
          17.9865,
          17.8395,
          16.989,
          15.0465,
          17.5035,
          17.2305,
          17.5455,
          17.64,
          18.7845,
          16.6005,
          8.232,
          11.487,
          16.569,
          17.955,
          17.451,
          18.5535,
          18.942,
          18.144,
          16.149,
          17.703,
          18.816,
          18.228,
          18.837,
          15.9915,
          8.505,
          13.2195,
          18.3015,
          19.53,
          19.677,
          18.921,
          18.039,
          15.099,
          18.0075,
          19.4775,
          21.1365,
          20.748,
          20.4855,
          19.845,
          18.6585,
          19.3725,
          21.084,
          19.74,
          18.1965,
          18.228,
          19.2045,
          17.43,
          15.2355,
          16.548,
          16.191,
          17.2305,
          16.884,
          16.632,
          15.1515,
          15.393,
          16.3695,
          16.128,
          16.0965,
          16.401,
          15.918,
          15.645,
          15.099,
          16.632,
          16.8105,
          16.905,
          16.8315,
          16.9785,
          16.968,
          17.0415,
          17.913,
          17.6925,
          17.9445,
          18.039,
          17.8605,
          17.8185,
          18.0705,
          18.3855,
          19.8555,
          19.131,
          19.278,
          18.711,
          18.375,
          18.4905,
          18.4695,
          17.9865,
          19.1625,
          19.8765,
          18.4485,
          18.984,
          19.656,
          19.32,
          19.761,
          21.8715,
          20.475,
          19.509,
          20.5065,
          19.908,
          20.202,
          20.517,
          19.971,
          20.3175,
          21.2625,
          20.139,
          20.097,
          22.281,
          20.1495,
          18.942,
          17.808,
          16.2855,
          19.3725,
          21.1785,
          21.168,
          22.029,
          23.2365,
          22.7745,
          21.756,
          21.42,
          20.349,
          21.315,
          20.7165,
          20.9895,
          21.6825,
          21.5985,
          20.874,
          18.291,
          18.648,
          18.522,
          17.4615,
          20.244,
          21.273,
          21.861,
          21.9975,
          21.882,
          22.281,
          24.759,
          22.0815,
          19.761,
          21.756,
          23.688,
          22.155,
          23.289,
          24.15,
          24.633,
          24.7695,
          24.192,
          23.7825,
          25.242,
          24.8115,
          24.3285,
          25.0215,
          25.2105,
          23.9505,
          24.171,
          23.814,
          24.318,
          24.5175,
          24.3705,
          21.4935,
          22.785,
          21.987,
          22.3755,
          25.284,
          24.381,
          25.221,
          25.7355,
          24.927,
          25.179,
          25.2,
          25.7985,
          25.851,
          29.0745,
          27.237,
          25.1055,
          24.969,
          23.583,
          23.814,
          23.037,
          24.024,
          23.499,
          24.99,
          25.011,
          27.405,
          25.9665,
          27.3945,
          29.9355,
          31.1535,
          27.9615,
          25.7355,
          27.9825,
          26.985,
          24.843,
          27.2265,
          26.6175,
          19.509,
          19.3725,
          20.055,
          19.9815,
          19.908,
          22.9215,
          22.6905,
          17.3355,
          20.727,
          21.084,
          23.5935,
          20.9895,
          25.4415,
          28.098,
          19.257,
          23.9505,
          17.7765,
          13.335,
          20.7795,
          24.2865,
          16.9995,
          21.315,
          21.231,
          29.2845,
          33.621,
          29.883,
          31.1745,
          27.7095,
          34.9755,
          35.056875,
          35.806785,
          35.056875,
          35.176785,
          38.515785,
          61.594785,
          30.556785,
          35.056875,
          37.329285,
          35.565285,
          35.056875,
          35.056875,
          35.056875,
          35.056875,
          35.056875,
          35.056875,
          35.056875,
          35.056875,
          35.056875,
          35.056875,
          24.633,
          26.0715,
          25.7775,
          22.9005,
          23.3205,
          29.799,
          25.221,
          22.302,
          24.339,
          21.4305,
          22.2495
         ]
        },
        {
         "mode": "lines",
         "name": "Tariff gas-tariffs/G-1R-SILVER-FLEX-22-11-25-A",
         "type": "scatter",
         "x": [
          "2023-10-28T23:00:00+00:00",
          "2023-10-27T23:00:00+00:00",
          "2023-10-26T23:00:00+00:00",
          "2023-10-25T23:00:00+00:00",
          "2023-10-24T23:00:00+00:00",
          "2023-10-23T23:00:00+00:00",
          "2023-10-22T23:00:00+00:00",
          "2023-10-21T23:00:00+00:00",
          "2023-10-20T23:00:00+00:00",
          "2023-10-19T23:00:00+00:00",
          "2023-10-18T23:00:00+00:00",
          "2023-10-17T23:00:00+00:00",
          "2023-10-16T23:00:00+00:00",
          "2023-10-15T23:00:00+00:00",
          "2023-10-14T23:00:00+00:00",
          "2023-10-13T23:00:00+00:00",
          "2023-10-12T23:00:00+00:00",
          "2023-10-11T23:00:00+00:00",
          "2023-10-10T23:00:00+00:00",
          "2023-10-09T23:00:00+00:00",
          "2023-10-08T23:00:00+00:00",
          "2023-10-07T23:00:00+00:00",
          "2023-10-06T23:00:00+00:00",
          "2023-10-05T23:00:00+00:00",
          "2023-10-04T23:00:00+00:00",
          "2023-10-03T23:00:00+00:00",
          "2023-10-02T23:00:00+00:00",
          "2023-10-01T23:00:00+00:00",
          "2023-09-30T23:00:00+00:00",
          "2023-09-29T23:00:00+00:00",
          "2023-09-28T23:00:00+00:00",
          "2023-09-27T23:00:00+00:00",
          "2023-09-26T23:00:00+00:00",
          "2023-09-25T23:00:00+00:00",
          "2023-09-24T23:00:00+00:00",
          "2023-09-23T23:00:00+00:00",
          "2023-09-22T23:00:00+00:00",
          "2023-09-21T23:00:00+00:00",
          "2023-09-20T23:00:00+00:00",
          "2023-09-19T23:00:00+00:00",
          "2023-09-18T23:00:00+00:00",
          "2023-09-17T23:00:00+00:00",
          "2023-09-16T23:00:00+00:00",
          "2023-09-15T23:00:00+00:00",
          "2023-09-14T23:00:00+00:00",
          "2023-09-13T23:00:00+00:00",
          "2023-09-12T23:00:00+00:00",
          "2023-09-11T23:00:00+00:00",
          "2023-09-10T23:00:00+00:00",
          "2023-09-09T23:00:00+00:00",
          "2023-09-08T23:00:00+00:00",
          "2023-09-07T23:00:00+00:00",
          "2023-09-06T23:00:00+00:00",
          "2023-09-05T23:00:00+00:00",
          "2023-09-04T23:00:00+00:00",
          "2023-09-03T23:00:00+00:00",
          "2023-09-02T23:00:00+00:00",
          "2023-09-01T23:00:00+00:00",
          "2023-08-31T23:00:00+00:00",
          "2023-08-30T23:00:00+00:00",
          "2023-08-29T23:00:00+00:00",
          "2023-08-28T23:00:00+00:00",
          "2023-08-27T23:00:00+00:00",
          "2023-08-26T23:00:00+00:00",
          "2023-08-25T23:00:00+00:00",
          "2023-08-24T23:00:00+00:00",
          "2023-08-23T23:00:00+00:00",
          "2023-08-22T23:00:00+00:00",
          "2023-08-21T23:00:00+00:00",
          "2023-08-20T23:00:00+00:00",
          "2023-08-19T23:00:00+00:00",
          "2023-08-18T23:00:00+00:00",
          "2023-08-17T23:00:00+00:00",
          "2023-08-16T23:00:00+00:00",
          "2023-08-15T23:00:00+00:00",
          "2023-08-14T23:00:00+00:00",
          "2023-08-13T23:00:00+00:00",
          "2023-08-12T23:00:00+00:00",
          "2023-08-11T23:00:00+00:00",
          "2023-08-10T23:00:00+00:00",
          "2023-08-09T23:00:00+00:00",
          "2023-08-08T23:00:00+00:00",
          "2023-08-07T23:00:00+00:00",
          "2023-08-06T23:00:00+00:00",
          "2023-08-05T23:00:00+00:00",
          "2023-08-04T23:00:00+00:00",
          "2023-08-03T23:00:00+00:00",
          "2023-08-02T23:00:00+00:00",
          "2023-08-01T23:00:00+00:00",
          "2023-07-31T23:00:00+00:00",
          "2023-07-30T23:00:00+00:00",
          "2023-07-29T23:00:00+00:00",
          "2023-07-28T23:00:00+00:00",
          "2023-07-27T23:00:00+00:00",
          "2023-07-26T23:00:00+00:00",
          "2023-07-25T23:00:00+00:00",
          "2023-07-24T23:00:00+00:00",
          "2023-07-23T23:00:00+00:00",
          "2023-07-22T23:00:00+00:00",
          "2023-07-21T23:00:00+00:00",
          "2023-07-20T23:00:00+00:00",
          "2023-07-19T23:00:00+00:00",
          "2023-07-18T23:00:00+00:00",
          "2023-07-17T23:00:00+00:00",
          "2023-07-16T23:00:00+00:00",
          "2023-07-15T23:00:00+00:00",
          "2023-07-14T23:00:00+00:00",
          "2023-07-13T23:00:00+00:00",
          "2023-07-12T23:00:00+00:00",
          "2023-07-11T23:00:00+00:00",
          "2023-07-10T23:00:00+00:00",
          "2023-07-09T23:00:00+00:00",
          "2023-07-08T23:00:00+00:00",
          "2023-07-07T23:00:00+00:00",
          "2023-07-06T23:00:00+00:00",
          "2023-07-05T23:00:00+00:00",
          "2023-07-04T23:00:00+00:00",
          "2023-07-03T23:00:00+00:00",
          "2023-07-02T23:00:00+00:00",
          "2023-07-01T23:00:00+00:00",
          "2023-06-30T23:00:00+00:00",
          "2023-06-29T23:00:00+00:00",
          "2023-06-28T23:00:00+00:00",
          "2023-06-27T23:00:00+00:00",
          "2023-06-26T23:00:00+00:00",
          "2023-06-25T23:00:00+00:00",
          "2023-06-24T23:00:00+00:00",
          "2023-06-23T23:00:00+00:00",
          "2023-06-22T23:00:00+00:00",
          "2023-06-21T23:00:00+00:00",
          "2023-06-20T23:00:00+00:00",
          "2023-06-19T23:00:00+00:00",
          "2023-06-18T23:00:00+00:00",
          "2023-06-17T23:00:00+00:00",
          "2023-06-16T23:00:00+00:00",
          "2023-06-15T23:00:00+00:00",
          "2023-06-14T23:00:00+00:00",
          "2023-06-13T23:00:00+00:00",
          "2023-06-12T23:00:00+00:00",
          "2023-06-11T23:00:00+00:00",
          "2023-06-10T23:00:00+00:00",
          "2023-06-09T23:00:00+00:00",
          "2023-06-08T23:00:00+00:00",
          "2023-06-07T23:00:00+00:00",
          "2023-06-06T23:00:00+00:00",
          "2023-06-05T23:00:00+00:00",
          "2023-06-04T23:00:00+00:00",
          "2023-06-03T23:00:00+00:00",
          "2023-06-02T23:00:00+00:00",
          "2023-06-01T23:00:00+00:00",
          "2023-05-31T23:00:00+00:00",
          "2023-05-30T23:00:00+00:00",
          "2023-05-29T23:00:00+00:00",
          "2023-05-28T23:00:00+00:00",
          "2023-05-27T23:00:00+00:00",
          "2023-05-26T23:00:00+00:00",
          "2023-05-25T23:00:00+00:00",
          "2023-05-24T23:00:00+00:00",
          "2023-05-23T23:00:00+00:00",
          "2023-05-22T23:00:00+00:00",
          "2023-05-21T23:00:00+00:00",
          "2023-05-20T23:00:00+00:00",
          "2023-05-19T23:00:00+00:00",
          "2023-05-18T23:00:00+00:00",
          "2023-05-17T23:00:00+00:00",
          "2023-05-16T23:00:00+00:00",
          "2023-05-15T23:00:00+00:00",
          "2023-05-14T23:00:00+00:00",
          "2023-05-13T23:00:00+00:00",
          "2023-05-12T23:00:00+00:00",
          "2023-05-11T23:00:00+00:00",
          "2023-05-10T23:00:00+00:00",
          "2023-05-09T23:00:00+00:00",
          "2023-05-08T23:00:00+00:00",
          "2023-05-07T23:00:00+00:00",
          "2023-05-06T23:00:00+00:00",
          "2023-05-05T23:00:00+00:00",
          "2023-05-04T23:00:00+00:00",
          "2023-05-03T23:00:00+00:00",
          "2023-05-02T23:00:00+00:00",
          "2023-05-01T23:00:00+00:00",
          "2023-04-30T23:00:00+00:00",
          "2023-04-29T23:00:00+00:00",
          "2023-04-28T23:00:00+00:00",
          "2023-04-27T23:00:00+00:00",
          "2023-04-26T23:00:00+00:00",
          "2023-04-25T23:00:00+00:00",
          "2023-04-24T23:00:00+00:00",
          "2023-04-23T23:00:00+00:00",
          "2023-04-22T23:00:00+00:00",
          "2023-04-21T23:00:00+00:00",
          "2023-04-20T23:00:00+00:00",
          "2023-04-19T23:00:00+00:00",
          "2023-04-18T23:00:00+00:00",
          "2023-04-17T23:00:00+00:00",
          "2023-04-16T23:00:00+00:00",
          "2023-04-15T23:00:00+00:00",
          "2023-04-14T23:00:00+00:00",
          "2023-04-13T23:00:00+00:00",
          "2023-04-12T23:00:00+00:00",
          "2023-04-11T23:00:00+00:00",
          "2023-04-10T23:00:00+00:00",
          "2023-04-09T23:00:00+00:00",
          "2023-04-08T23:00:00+00:00",
          "2023-04-07T23:00:00+00:00",
          "2023-04-06T23:00:00+00:00",
          "2023-04-05T23:00:00+00:00",
          "2023-04-04T23:00:00+00:00",
          "2023-04-03T23:00:00+00:00",
          "2023-04-02T23:00:00+00:00",
          "2023-04-01T23:00:00+00:00",
          "2023-03-31T23:00:00+00:00",
          "2023-03-30T23:00:00+00:00",
          "2023-03-29T23:00:00+00:00",
          "2023-03-28T23:00:00+00:00",
          "2023-03-27T23:00:00+00:00",
          "2023-03-26T23:00:00+00:00",
          "2023-03-26T00:00:00+00:00",
          "2023-03-25T00:00:00+00:00",
          "2023-03-24T00:00:00+00:00",
          "2023-03-23T00:00:00+00:00",
          "2023-03-22T00:00:00+00:00",
          "2023-03-21T00:00:00+00:00",
          "2023-03-20T00:00:00+00:00",
          "2023-03-19T00:00:00+00:00",
          "2023-03-18T00:00:00+00:00",
          "2023-03-17T00:00:00+00:00",
          "2023-03-16T00:00:00+00:00",
          "2023-03-15T00:00:00+00:00",
          "2023-03-14T00:00:00+00:00",
          "2023-03-13T00:00:00+00:00",
          "2023-03-12T00:00:00+00:00",
          "2023-03-11T00:00:00+00:00",
          "2023-03-10T00:00:00+00:00",
          "2023-03-09T00:00:00+00:00",
          "2023-03-08T00:00:00+00:00",
          "2023-03-07T00:00:00+00:00",
          "2023-03-06T00:00:00+00:00",
          "2023-03-05T00:00:00+00:00",
          "2023-03-04T00:00:00+00:00",
          "2023-03-03T00:00:00+00:00",
          "2023-03-02T00:00:00+00:00",
          "2023-03-01T00:00:00+00:00",
          "2023-02-28T00:00:00+00:00",
          "2023-02-27T00:00:00+00:00",
          "2023-02-26T00:00:00+00:00",
          "2023-02-25T00:00:00+00:00",
          "2023-02-24T00:00:00+00:00",
          "2023-02-23T00:00:00+00:00",
          "2023-02-22T00:00:00+00:00",
          "2023-02-21T00:00:00+00:00",
          "2023-02-20T00:00:00+00:00",
          "2023-02-19T00:00:00+00:00",
          "2023-02-18T00:00:00+00:00",
          "2023-02-17T00:00:00+00:00",
          "2023-02-16T00:00:00+00:00",
          "2023-02-15T00:00:00+00:00",
          "2023-02-14T00:00:00+00:00",
          "2023-02-13T00:00:00+00:00",
          "2023-02-12T00:00:00+00:00",
          "2023-02-11T00:00:00+00:00",
          "2023-02-10T00:00:00+00:00",
          "2023-02-09T00:00:00+00:00",
          "2023-02-08T00:00:00+00:00",
          "2023-02-07T00:00:00+00:00",
          "2023-02-06T00:00:00+00:00",
          "2023-02-05T00:00:00+00:00",
          "2023-02-04T00:00:00+00:00",
          "2023-02-03T00:00:00+00:00",
          "2023-02-02T00:00:00+00:00",
          "2023-02-01T00:00:00+00:00",
          "2023-01-31T00:00:00+00:00",
          "2023-01-30T00:00:00+00:00",
          "2023-01-29T00:00:00+00:00",
          "2023-01-28T00:00:00+00:00",
          "2023-01-27T00:00:00+00:00",
          "2023-01-26T00:00:00+00:00",
          "2023-01-25T00:00:00+00:00",
          "2023-01-24T00:00:00+00:00",
          "2023-01-23T00:00:00+00:00",
          "2023-01-22T00:00:00+00:00",
          "2023-01-21T00:00:00+00:00",
          "2023-01-20T00:00:00+00:00",
          "2023-01-19T00:00:00+00:00",
          "2023-01-18T00:00:00+00:00",
          "2023-01-17T00:00:00+00:00",
          "2023-01-16T00:00:00+00:00",
          "2023-01-15T00:00:00+00:00",
          "2023-01-14T00:00:00+00:00",
          "2023-01-13T00:00:00+00:00",
          "2023-01-12T00:00:00+00:00",
          "2023-01-11T00:00:00+00:00",
          "2023-01-10T00:00:00+00:00",
          "2023-01-09T00:00:00+00:00",
          "2023-01-08T00:00:00+00:00",
          "2023-01-07T00:00:00+00:00",
          "2023-01-06T00:00:00+00:00",
          "2023-01-05T00:00:00+00:00",
          "2023-01-04T00:00:00+00:00",
          "2023-01-03T00:00:00+00:00",
          "2023-01-02T00:00:00+00:00",
          "2023-01-01T00:00:00+00:00",
          "2022-12-31T00:00:00+00:00",
          "2022-12-30T00:00:00+00:00",
          "2022-12-29T00:00:00+00:00",
          "2022-12-28T00:00:00+00:00",
          "2022-12-27T00:00:00+00:00",
          "2022-12-26T00:00:00+00:00",
          "2022-12-25T00:00:00+00:00",
          "2022-12-24T00:00:00+00:00",
          "2022-12-23T00:00:00+00:00",
          "2022-12-22T00:00:00+00:00",
          "2022-12-21T00:00:00+00:00",
          "2022-12-20T00:00:00+00:00",
          "2022-12-19T00:00:00+00:00",
          "2022-12-18T00:00:00+00:00",
          "2022-12-17T00:00:00+00:00",
          "2022-12-16T00:00:00+00:00",
          "2022-12-15T00:00:00+00:00",
          "2022-12-14T00:00:00+00:00",
          "2022-12-13T00:00:00+00:00",
          "2022-12-12T00:00:00+00:00",
          "2022-12-11T00:00:00+00:00",
          "2022-12-10T00:00:00+00:00",
          "2022-12-09T00:00:00+00:00",
          "2022-12-08T00:00:00+00:00",
          "2022-12-07T00:00:00+00:00",
          "2022-12-06T00:00:00+00:00",
          "2022-12-05T00:00:00+00:00",
          "2022-12-04T00:00:00+00:00",
          "2022-12-03T00:00:00+00:00",
          "2022-12-02T00:00:00+00:00",
          "2022-12-01T00:00:00+00:00",
          "2022-11-30T00:00:00+00:00",
          "2022-11-29T00:00:00+00:00",
          "2022-11-28T00:00:00+00:00",
          "2022-11-27T00:00:00+00:00",
          "2022-11-26T00:00:00+00:00",
          "2022-11-25T00:00:00+00:00",
          "2022-11-24T00:00:00+00:00",
          "2022-11-23T00:00:00+00:00",
          "2022-11-22T00:00:00+00:00",
          "2022-11-21T00:00:00+00:00",
          "2022-11-20T00:00:00+00:00",
          "2022-11-19T00:00:00+00:00",
          "2022-11-18T00:00:00+00:00",
          "2022-11-17T00:00:00+00:00"
         ],
         "y": [
          5.502,
          5.502,
          5.691,
          5.775,
          5.691,
          5.691,
          5.145,
          5.166,
          5.166,
          5.124,
          5.355,
          4.977,
          5.2395,
          6.4155,
          6.3525,
          6.3525,
          5.6175,
          5.4705,
          5.292,
          4.725,
          4.137,
          4.179,
          4.179,
          3.5805,
          4.1055,
          3.9585,
          4.2525,
          4.7775,
          4.7565,
          4.7565,
          4.9245,
          4.956,
          4.956,
          5.4075,
          5.0925,
          5.124,
          5.124,
          4.9665,
          4.8405,
          4.788,
          4.452,
          4.6725,
          4.6935,
          4.6935,
          4.599,
          4.7565,
          4.599,
          4.725,
          4.368,
          4.305,
          4.305,
          4.2525,
          4.0635,
          4.2525,
          4.179,
          4.3155,
          4.3365,
          4.3365,
          4.452,
          4.6095,
          4.5255,
          4.5465,
          4.5885,
          4.5885,
          4.5885,
          4.263,
          4.6725,
          5.2815,
          4.788,
          4.41,
          4.389,
          4.389,
          4.263,
          4.452,
          4.5885,
          4.2525,
          4.1475,
          4.1055,
          4.1055,
          4.41,
          4.6935,
          3.9585,
          3.9165,
          3.9165,
          3.9165,
          3.9165,
          4.0005,
          3.759,
          3.612,
          3.7065,
          3.5595,
          3.4965,
          3.4965,
          3.78,
          3.8745,
          3.99,
          3.99,
          3.7275,
          3.717,
          3.717,
          3.822,
          3.633,
          3.675,
          3.4965,
          3.6225,
          3.5805,
          3.6225,
          3.6225,
          3.6645,
          3.9375,
          3.927,
          4.2525,
          4.2105,
          4.2105,
          4.1265,
          4.347,
          4.431,
          4.368,
          4.41,
          4.41,
          4.41,
          4.41,
          4.3785,
          4.4625,
          4.221,
          4.2,
          4.179,
          4.179,
          4.4415,
          4.7145,
          4.7355,
          4.221,
          4.2945,
          4.305,
          4.305,
          5.1135,
          4.83,
          3.9375,
          4.0635,
          4.221,
          4.1265,
          4.1265,
          3.6645,
          3.6645,
          3.6015,
          3.801,
          3.339,
          3.3495,
          3.3495,
          3.3075,
          3.57,
          3.4755,
          3.402,
          3.3915,
          3.3915,
          3.3915,
          3.3915,
          3.675,
          3.7485,
          3.633,
          3.6645,
          3.591,
          3.591,
          3.612,
          3.8955,
          4.011,
          3.9585,
          4.158,
          4.158,
          4.158,
          4.158,
          4.2735,
          4.41,
          4.3155,
          4.3155,
          4.3155,
          4.3155,
          4.3155,
          4.3155,
          4.431,
          4.599,
          4.599,
          4.599,
          4.599,
          4.599,
          4.62,
          4.8825,
          4.872,
          4.9035,
          4.914,
          4.914,
          4.8405,
          4.788,
          5.019,
          4.893,
          4.9035,
          4.893,
          4.893,
          4.998,
          4.977,
          4.9665,
          5.1555,
          5.1555,
          5.1555,
          5.1555,
          5.1555,
          5.1555,
          5.4285,
          5.9955,
          5.607,
          5.586,
          5.586,
          5.208,
          5.019,
          4.935,
          5.04,
          5.061,
          5.0715,
          5.0715,
          4.977,
          4.746,
          4.8825,
          4.641,
          4.914,
          4.935,
          4.935,
          5.124,
          5.0925,
          5.586,
          5.922,
          6.3525,
          6.426,
          6.426,
          5.6175,
          5.481,
          5.67,
          5.502,
          5.6805,
          5.67,
          5.67,
          5.8905,
          5.9325,
          5.775,
          5.8065,
          6.153,
          6.0795,
          6.0795,
          5.9955,
          5.9745,
          5.8485,
          5.8065,
          5.691,
          5.67,
          5.67,
          5.88,
          6.342,
          6.1635,
          6.111,
          6.426,
          6.4155,
          6.4155,
          6.1845,
          6.3735,
          6.5415,
          6.9195,
          6.9825,
          6.9825,
          6.9825,
          6.5415,
          6.909,
          6.783,
          6.426,
          6.6045,
          6.699,
          6.699,
          6.5625,
          6.6465,
          6.8355,
          7.5915,
          7.6965,
          7.7805,
          7.7805,
          7.1715,
          7.245,
          6.741,
          6.531,
          7.5075,
          7.1715,
          7.1715,
          7.434,
          6.951,
          7.035,
          7.665,
          7.1925,
          7.056,
          7.056,
          6.7515,
          6.4155,
          7.623,
          6.762,
          7.749,
          7.749,
          7.749,
          7.644,
          7.2135,
          7.245,
          7.287,
          7.287,
          7.287,
          7.287,
          8.3475,
          8.757,
          9.7965,
          10.30974,
          10.30974,
          10.30974,
          10.30974,
          10.30974,
          10.30974,
          10.30974,
          10.30974,
          10.38849,
          10.93449,
          10.93449,
          10.30974,
          10.88199,
          10.30974,
          10.30974,
          10.30974,
          10.30974,
          10.30974,
          10.30974,
          10.30974,
          10.30974,
          10.30974,
          7.2135,
          7.2135,
          7.2135,
          7.1715,
          5.775,
          5.355,
          5.2395,
          5.124,
          5.0925,
          5.0925,
          5.124,
          4.221
         ]
        },
        {
         "marker": {
          "color": "green",
          "size": 10
         },
         "mode": "markers",
         "showlegend": false,
         "type": "scatter",
         "x": [
          "2023-07-15T23:00:00+00:00"
         ],
         "y": [
          8.232
         ]
        },
        {
         "marker": {
          "color": "green",
          "size": 10
         },
         "mode": "markers",
         "showlegend": false,
         "type": "scatter",
         "x": [
          "2023-07-01T23:00:00+00:00"
         ],
         "y": [
          8.505
         ]
        },
        {
         "marker": {
          "color": "red",
          "size": 10
         },
         "mode": "markers",
         "showlegend": false,
         "type": "scatter",
         "x": [
          "2022-12-22T00:00:00+00:00"
         ],
         "y": [
          33.621
         ]
        },
        {
         "marker": {
          "color": "red",
          "size": 10
         },
         "mode": "markers",
         "showlegend": false,
         "type": "scatter",
         "x": [
          "2022-12-18T00:00:00+00:00"
         ],
         "y": [
          34.9755
         ]
        },
        {
         "marker": {
          "color": "red",
          "size": 10
         },
         "mode": "markers",
         "showlegend": false,
         "type": "scatter",
         "x": [
          "2022-12-17T00:00:00+00:00"
         ],
         "y": [
          35.056875
         ]
        },
        {
         "marker": {
          "color": "red",
          "size": 10
         },
         "mode": "markers",
         "showlegend": false,
         "type": "scatter",
         "x": [
          "2022-12-16T00:00:00+00:00"
         ],
         "y": [
          35.806785
         ]
        },
        {
         "marker": {
          "color": "red",
          "size": 10
         },
         "mode": "markers",
         "showlegend": false,
         "type": "scatter",
         "x": [
          "2022-12-15T00:00:00+00:00"
         ],
         "y": [
          35.056875
         ]
        },
        {
         "marker": {
          "color": "red",
          "size": 10
         },
         "mode": "markers",
         "showlegend": false,
         "type": "scatter",
         "x": [
          "2022-12-14T00:00:00+00:00"
         ],
         "y": [
          35.176785
         ]
        },
        {
         "marker": {
          "color": "red",
          "size": 10
         },
         "mode": "markers",
         "showlegend": false,
         "type": "scatter",
         "x": [
          "2022-12-13T00:00:00+00:00"
         ],
         "y": [
          38.515785
         ]
        },
        {
         "marker": {
          "color": "red",
          "size": 10
         },
         "mode": "markers",
         "showlegend": false,
         "type": "scatter",
         "x": [
          "2022-12-12T00:00:00+00:00"
         ],
         "y": [
          61.594785
         ]
        },
        {
         "marker": {
          "color": "red",
          "size": 10
         },
         "mode": "markers",
         "showlegend": false,
         "type": "scatter",
         "x": [
          "2022-12-10T00:00:00+00:00"
         ],
         "y": [
          35.056875
         ]
        },
        {
         "marker": {
          "color": "red",
          "size": 10
         },
         "mode": "markers",
         "showlegend": false,
         "type": "scatter",
         "x": [
          "2022-12-09T00:00:00+00:00"
         ],
         "y": [
          37.329285
         ]
        },
        {
         "marker": {
          "color": "red",
          "size": 10
         },
         "mode": "markers",
         "showlegend": false,
         "type": "scatter",
         "x": [
          "2022-12-08T00:00:00+00:00"
         ],
         "y": [
          35.565285
         ]
        },
        {
         "marker": {
          "color": "red",
          "size": 10
         },
         "mode": "markers",
         "showlegend": false,
         "type": "scatter",
         "x": [
          "2022-12-07T00:00:00+00:00"
         ],
         "y": [
          35.056875
         ]
        },
        {
         "marker": {
          "color": "red",
          "size": 10
         },
         "mode": "markers",
         "showlegend": false,
         "type": "scatter",
         "x": [
          "2022-12-06T00:00:00+00:00"
         ],
         "y": [
          35.056875
         ]
        },
        {
         "marker": {
          "color": "red",
          "size": 10
         },
         "mode": "markers",
         "showlegend": false,
         "type": "scatter",
         "x": [
          "2022-12-05T00:00:00+00:00"
         ],
         "y": [
          35.056875
         ]
        },
        {
         "marker": {
          "color": "red",
          "size": 10
         },
         "mode": "markers",
         "showlegend": false,
         "type": "scatter",
         "x": [
          "2022-12-04T00:00:00+00:00"
         ],
         "y": [
          35.056875
         ]
        },
        {
         "marker": {
          "color": "red",
          "size": 10
         },
         "mode": "markers",
         "showlegend": false,
         "type": "scatter",
         "x": [
          "2022-12-03T00:00:00+00:00"
         ],
         "y": [
          35.056875
         ]
        },
        {
         "marker": {
          "color": "red",
          "size": 10
         },
         "mode": "markers",
         "showlegend": false,
         "type": "scatter",
         "x": [
          "2022-12-02T00:00:00+00:00"
         ],
         "y": [
          35.056875
         ]
        },
        {
         "marker": {
          "color": "red",
          "size": 10
         },
         "mode": "markers",
         "showlegend": false,
         "type": "scatter",
         "x": [
          "2022-12-01T00:00:00+00:00"
         ],
         "y": [
          35.056875
         ]
        },
        {
         "marker": {
          "color": "red",
          "size": 10
         },
         "mode": "markers",
         "showlegend": false,
         "type": "scatter",
         "x": [
          "2022-11-30T00:00:00+00:00"
         ],
         "y": [
          35.056875
         ]
        },
        {
         "marker": {
          "color": "red",
          "size": 10
         },
         "mode": "markers",
         "showlegend": false,
         "type": "scatter",
         "x": [
          "2022-11-29T00:00:00+00:00"
         ],
         "y": [
          35.056875
         ]
        },
        {
         "marker": {
          "color": "red",
          "size": 10
         },
         "mode": "markers",
         "showlegend": false,
         "type": "scatter",
         "x": [
          "2022-11-28T00:00:00+00:00"
         ],
         "y": [
          35.056875
         ]
        },
        {
         "marker": {
          "color": "red",
          "size": 10
         },
         "mode": "markers",
         "showlegend": false,
         "type": "scatter",
         "x": [
          "2022-12-21T00:00:00+00:00"
         ],
         "y": [
          9.7965
         ]
        },
        {
         "marker": {
          "color": "red",
          "size": 10
         },
         "mode": "markers",
         "showlegend": false,
         "type": "scatter",
         "x": [
          "2022-12-20T00:00:00+00:00"
         ],
         "y": [
          10.30974
         ]
        },
        {
         "marker": {
          "color": "red",
          "size": 10
         },
         "mode": "markers",
         "showlegend": false,
         "type": "scatter",
         "x": [
          "2022-12-19T00:00:00+00:00"
         ],
         "y": [
          10.30974
         ]
        },
        {
         "marker": {
          "color": "red",
          "size": 10
         },
         "mode": "markers",
         "showlegend": false,
         "type": "scatter",
         "x": [
          "2022-12-18T00:00:00+00:00"
         ],
         "y": [
          10.30974
         ]
        },
        {
         "marker": {
          "color": "red",
          "size": 10
         },
         "mode": "markers",
         "showlegend": false,
         "type": "scatter",
         "x": [
          "2022-12-17T00:00:00+00:00"
         ],
         "y": [
          10.30974
         ]
        },
        {
         "marker": {
          "color": "red",
          "size": 10
         },
         "mode": "markers",
         "showlegend": false,
         "type": "scatter",
         "x": [
          "2022-12-16T00:00:00+00:00"
         ],
         "y": [
          10.30974
         ]
        },
        {
         "marker": {
          "color": "red",
          "size": 10
         },
         "mode": "markers",
         "showlegend": false,
         "type": "scatter",
         "x": [
          "2022-12-15T00:00:00+00:00"
         ],
         "y": [
          10.30974
         ]
        },
        {
         "marker": {
          "color": "red",
          "size": 10
         },
         "mode": "markers",
         "showlegend": false,
         "type": "scatter",
         "x": [
          "2022-12-14T00:00:00+00:00"
         ],
         "y": [
          10.30974
         ]
        },
        {
         "marker": {
          "color": "red",
          "size": 10
         },
         "mode": "markers",
         "showlegend": false,
         "type": "scatter",
         "x": [
          "2022-12-13T00:00:00+00:00"
         ],
         "y": [
          10.30974
         ]
        },
        {
         "marker": {
          "color": "red",
          "size": 10
         },
         "mode": "markers",
         "showlegend": false,
         "type": "scatter",
         "x": [
          "2022-12-12T00:00:00+00:00"
         ],
         "y": [
          10.38849
         ]
        },
        {
         "marker": {
          "color": "red",
          "size": 10
         },
         "mode": "markers",
         "showlegend": false,
         "type": "scatter",
         "x": [
          "2022-12-11T00:00:00+00:00"
         ],
         "y": [
          10.93449
         ]
        },
        {
         "marker": {
          "color": "red",
          "size": 10
         },
         "mode": "markers",
         "showlegend": false,
         "type": "scatter",
         "x": [
          "2022-12-10T00:00:00+00:00"
         ],
         "y": [
          10.93449
         ]
        },
        {
         "marker": {
          "color": "red",
          "size": 10
         },
         "mode": "markers",
         "showlegend": false,
         "type": "scatter",
         "x": [
          "2022-12-09T00:00:00+00:00"
         ],
         "y": [
          10.30974
         ]
        },
        {
         "marker": {
          "color": "red",
          "size": 10
         },
         "mode": "markers",
         "showlegend": false,
         "type": "scatter",
         "x": [
          "2022-12-08T00:00:00+00:00"
         ],
         "y": [
          10.88199
         ]
        },
        {
         "marker": {
          "color": "red",
          "size": 10
         },
         "mode": "markers",
         "showlegend": false,
         "type": "scatter",
         "x": [
          "2022-12-07T00:00:00+00:00"
         ],
         "y": [
          10.30974
         ]
        },
        {
         "marker": {
          "color": "red",
          "size": 10
         },
         "mode": "markers",
         "showlegend": false,
         "type": "scatter",
         "x": [
          "2022-12-06T00:00:00+00:00"
         ],
         "y": [
          10.30974
         ]
        },
        {
         "marker": {
          "color": "red",
          "size": 10
         },
         "mode": "markers",
         "showlegend": false,
         "type": "scatter",
         "x": [
          "2022-12-05T00:00:00+00:00"
         ],
         "y": [
          10.30974
         ]
        },
        {
         "marker": {
          "color": "red",
          "size": 10
         },
         "mode": "markers",
         "showlegend": false,
         "type": "scatter",
         "x": [
          "2022-12-04T00:00:00+00:00"
         ],
         "y": [
          10.30974
         ]
        },
        {
         "marker": {
          "color": "red",
          "size": 10
         },
         "mode": "markers",
         "showlegend": false,
         "type": "scatter",
         "x": [
          "2022-12-03T00:00:00+00:00"
         ],
         "y": [
          10.30974
         ]
        },
        {
         "marker": {
          "color": "red",
          "size": 10
         },
         "mode": "markers",
         "showlegend": false,
         "type": "scatter",
         "x": [
          "2022-12-02T00:00:00+00:00"
         ],
         "y": [
          10.30974
         ]
        },
        {
         "marker": {
          "color": "red",
          "size": 10
         },
         "mode": "markers",
         "showlegend": false,
         "type": "scatter",
         "x": [
          "2022-12-01T00:00:00+00:00"
         ],
         "y": [
          10.30974
         ]
        },
        {
         "marker": {
          "color": "red",
          "size": 10
         },
         "mode": "markers",
         "showlegend": false,
         "type": "scatter",
         "x": [
          "2022-11-30T00:00:00+00:00"
         ],
         "y": [
          10.30974
         ]
        },
        {
         "marker": {
          "color": "red",
          "size": 10
         },
         "mode": "markers",
         "showlegend": false,
         "type": "scatter",
         "x": [
          "2022-11-29T00:00:00+00:00"
         ],
         "y": [
          10.30974
         ]
        }
       ],
       "layout": {
        "annotations": [
         {
          "arrowhead": 1,
          "ax": 0,
          "ay": -40,
          "showarrow": true,
          "text": "8.232",
          "x": "2023-07-15T23:00:00+00:00",
          "y": 8.232
         },
         {
          "arrowhead": 1,
          "ax": 0,
          "ay": -40,
          "showarrow": true,
          "text": "8.505",
          "x": "2023-07-01T23:00:00+00:00",
          "y": 8.505
         },
         {
          "arrowhead": 1,
          "ax": 0,
          "ay": -40,
          "showarrow": true,
          "text": "33.621",
          "x": "2022-12-22T00:00:00+00:00",
          "y": 33.621
         },
         {
          "arrowhead": 1,
          "ax": 0,
          "ay": -40,
          "showarrow": true,
          "text": "34.9755",
          "x": "2022-12-18T00:00:00+00:00",
          "y": 34.9755
         },
         {
          "arrowhead": 1,
          "ax": 0,
          "ay": -40,
          "showarrow": true,
          "text": "35.056875",
          "x": "2022-12-17T00:00:00+00:00",
          "y": 35.056875
         },
         {
          "arrowhead": 1,
          "ax": 0,
          "ay": -40,
          "showarrow": true,
          "text": "35.806785",
          "x": "2022-12-16T00:00:00+00:00",
          "y": 35.806785
         },
         {
          "arrowhead": 1,
          "ax": 0,
          "ay": -40,
          "showarrow": true,
          "text": "35.056875",
          "x": "2022-12-15T00:00:00+00:00",
          "y": 35.056875
         },
         {
          "arrowhead": 1,
          "ax": 0,
          "ay": -40,
          "showarrow": true,
          "text": "35.176785",
          "x": "2022-12-14T00:00:00+00:00",
          "y": 35.176785
         },
         {
          "arrowhead": 1,
          "ax": 0,
          "ay": -40,
          "showarrow": true,
          "text": "38.515785",
          "x": "2022-12-13T00:00:00+00:00",
          "y": 38.515785
         },
         {
          "arrowhead": 1,
          "ax": 0,
          "ay": -40,
          "showarrow": true,
          "text": "61.594785",
          "x": "2022-12-12T00:00:00+00:00",
          "y": 61.594785
         },
         {
          "arrowhead": 1,
          "ax": 0,
          "ay": -40,
          "showarrow": true,
          "text": "35.056875",
          "x": "2022-12-10T00:00:00+00:00",
          "y": 35.056875
         },
         {
          "arrowhead": 1,
          "ax": 0,
          "ay": -40,
          "showarrow": true,
          "text": "37.329285",
          "x": "2022-12-09T00:00:00+00:00",
          "y": 37.329285
         },
         {
          "arrowhead": 1,
          "ax": 0,
          "ay": -40,
          "showarrow": true,
          "text": "35.565285",
          "x": "2022-12-08T00:00:00+00:00",
          "y": 35.565285
         },
         {
          "arrowhead": 1,
          "ax": 0,
          "ay": -40,
          "showarrow": true,
          "text": "35.056875",
          "x": "2022-12-07T00:00:00+00:00",
          "y": 35.056875
         },
         {
          "arrowhead": 1,
          "ax": 0,
          "ay": -40,
          "showarrow": true,
          "text": "35.056875",
          "x": "2022-12-06T00:00:00+00:00",
          "y": 35.056875
         },
         {
          "arrowhead": 1,
          "ax": 0,
          "ay": -40,
          "showarrow": true,
          "text": "35.056875",
          "x": "2022-12-05T00:00:00+00:00",
          "y": 35.056875
         },
         {
          "arrowhead": 1,
          "ax": 0,
          "ay": -40,
          "showarrow": true,
          "text": "35.056875",
          "x": "2022-12-04T00:00:00+00:00",
          "y": 35.056875
         },
         {
          "arrowhead": 1,
          "ax": 0,
          "ay": -40,
          "showarrow": true,
          "text": "35.056875",
          "x": "2022-12-03T00:00:00+00:00",
          "y": 35.056875
         },
         {
          "arrowhead": 1,
          "ax": 0,
          "ay": -40,
          "showarrow": true,
          "text": "35.056875",
          "x": "2022-12-02T00:00:00+00:00",
          "y": 35.056875
         },
         {
          "arrowhead": 1,
          "ax": 0,
          "ay": -40,
          "showarrow": true,
          "text": "35.056875",
          "x": "2022-12-01T00:00:00+00:00",
          "y": 35.056875
         },
         {
          "arrowhead": 1,
          "ax": 0,
          "ay": -40,
          "showarrow": true,
          "text": "35.056875",
          "x": "2022-11-30T00:00:00+00:00",
          "y": 35.056875
         },
         {
          "arrowhead": 1,
          "ax": 0,
          "ay": -40,
          "showarrow": true,
          "text": "35.056875",
          "x": "2022-11-29T00:00:00+00:00",
          "y": 35.056875
         },
         {
          "arrowhead": 1,
          "ax": 0,
          "ay": -40,
          "showarrow": true,
          "text": "35.056875",
          "x": "2022-11-28T00:00:00+00:00",
          "y": 35.056875
         },
         {
          "arrowhead": 1,
          "ax": 0,
          "ay": -40,
          "showarrow": true,
          "text": "9.7965",
          "x": "2022-12-21T00:00:00+00:00",
          "y": 9.7965
         },
         {
          "arrowhead": 1,
          "ax": 0,
          "ay": -40,
          "showarrow": true,
          "text": "10.30974",
          "x": "2022-12-20T00:00:00+00:00",
          "y": 10.30974
         },
         {
          "arrowhead": 1,
          "ax": 0,
          "ay": -40,
          "showarrow": true,
          "text": "10.30974",
          "x": "2022-12-19T00:00:00+00:00",
          "y": 10.30974
         },
         {
          "arrowhead": 1,
          "ax": 0,
          "ay": -40,
          "showarrow": true,
          "text": "10.30974",
          "x": "2022-12-18T00:00:00+00:00",
          "y": 10.30974
         },
         {
          "arrowhead": 1,
          "ax": 0,
          "ay": -40,
          "showarrow": true,
          "text": "10.30974",
          "x": "2022-12-17T00:00:00+00:00",
          "y": 10.30974
         },
         {
          "arrowhead": 1,
          "ax": 0,
          "ay": -40,
          "showarrow": true,
          "text": "10.30974",
          "x": "2022-12-16T00:00:00+00:00",
          "y": 10.30974
         },
         {
          "arrowhead": 1,
          "ax": 0,
          "ay": -40,
          "showarrow": true,
          "text": "10.30974",
          "x": "2022-12-15T00:00:00+00:00",
          "y": 10.30974
         },
         {
          "arrowhead": 1,
          "ax": 0,
          "ay": -40,
          "showarrow": true,
          "text": "10.30974",
          "x": "2022-12-14T00:00:00+00:00",
          "y": 10.30974
         },
         {
          "arrowhead": 1,
          "ax": 0,
          "ay": -40,
          "showarrow": true,
          "text": "10.30974",
          "x": "2022-12-13T00:00:00+00:00",
          "y": 10.30974
         },
         {
          "arrowhead": 1,
          "ax": 0,
          "ay": -40,
          "showarrow": true,
          "text": "10.38849",
          "x": "2022-12-12T00:00:00+00:00",
          "y": 10.38849
         },
         {
          "arrowhead": 1,
          "ax": 0,
          "ay": -40,
          "showarrow": true,
          "text": "10.93449",
          "x": "2022-12-11T00:00:00+00:00",
          "y": 10.93449
         },
         {
          "arrowhead": 1,
          "ax": 0,
          "ay": -40,
          "showarrow": true,
          "text": "10.93449",
          "x": "2022-12-10T00:00:00+00:00",
          "y": 10.93449
         },
         {
          "arrowhead": 1,
          "ax": 0,
          "ay": -40,
          "showarrow": true,
          "text": "10.30974",
          "x": "2022-12-09T00:00:00+00:00",
          "y": 10.30974
         },
         {
          "arrowhead": 1,
          "ax": 0,
          "ay": -40,
          "showarrow": true,
          "text": "10.88199",
          "x": "2022-12-08T00:00:00+00:00",
          "y": 10.88199
         },
         {
          "arrowhead": 1,
          "ax": 0,
          "ay": -40,
          "showarrow": true,
          "text": "10.30974",
          "x": "2022-12-07T00:00:00+00:00",
          "y": 10.30974
         },
         {
          "arrowhead": 1,
          "ax": 0,
          "ay": -40,
          "showarrow": true,
          "text": "10.30974",
          "x": "2022-12-06T00:00:00+00:00",
          "y": 10.30974
         },
         {
          "arrowhead": 1,
          "ax": 0,
          "ay": -40,
          "showarrow": true,
          "text": "10.30974",
          "x": "2022-12-05T00:00:00+00:00",
          "y": 10.30974
         },
         {
          "arrowhead": 1,
          "ax": 0,
          "ay": -40,
          "showarrow": true,
          "text": "10.30974",
          "x": "2022-12-04T00:00:00+00:00",
          "y": 10.30974
         },
         {
          "arrowhead": 1,
          "ax": 0,
          "ay": -40,
          "showarrow": true,
          "text": "10.30974",
          "x": "2022-12-03T00:00:00+00:00",
          "y": 10.30974
         },
         {
          "arrowhead": 1,
          "ax": 0,
          "ay": -40,
          "showarrow": true,
          "text": "10.30974",
          "x": "2022-12-02T00:00:00+00:00",
          "y": 10.30974
         },
         {
          "arrowhead": 1,
          "ax": 0,
          "ay": -40,
          "showarrow": true,
          "text": "10.30974",
          "x": "2022-12-01T00:00:00+00:00",
          "y": 10.30974
         },
         {
          "arrowhead": 1,
          "ax": 0,
          "ay": -40,
          "showarrow": true,
          "text": "10.30974",
          "x": "2022-11-30T00:00:00+00:00",
          "y": 10.30974
         },
         {
          "arrowhead": 1,
          "ax": 0,
          "ay": -40,
          "showarrow": true,
          "text": "10.30974",
          "x": "2022-11-29T00:00:00+00:00",
          "y": 10.30974
         }
        ],
        "hovermode": "x unified",
        "template": {
         "data": {
          "bar": [
           {
            "error_x": {
             "color": "#2a3f5f"
            },
            "error_y": {
             "color": "#2a3f5f"
            },
            "marker": {
             "line": {
              "color": "#E5ECF6",
              "width": 0.5
             },
             "pattern": {
              "fillmode": "overlay",
              "size": 10,
              "solidity": 0.2
             }
            },
            "type": "bar"
           }
          ],
          "barpolar": [
           {
            "marker": {
             "line": {
              "color": "#E5ECF6",
              "width": 0.5
             },
             "pattern": {
              "fillmode": "overlay",
              "size": 10,
              "solidity": 0.2
             }
            },
            "type": "barpolar"
           }
          ],
          "carpet": [
           {
            "aaxis": {
             "endlinecolor": "#2a3f5f",
             "gridcolor": "white",
             "linecolor": "white",
             "minorgridcolor": "white",
             "startlinecolor": "#2a3f5f"
            },
            "baxis": {
             "endlinecolor": "#2a3f5f",
             "gridcolor": "white",
             "linecolor": "white",
             "minorgridcolor": "white",
             "startlinecolor": "#2a3f5f"
            },
            "type": "carpet"
           }
          ],
          "choropleth": [
           {
            "colorbar": {
             "outlinewidth": 0,
             "ticks": ""
            },
            "type": "choropleth"
           }
          ],
          "contour": [
           {
            "colorbar": {
             "outlinewidth": 0,
             "ticks": ""
            },
            "colorscale": [
             [
              0,
              "#0d0887"
             ],
             [
              0.1111111111111111,
              "#46039f"
             ],
             [
              0.2222222222222222,
              "#7201a8"
             ],
             [
              0.3333333333333333,
              "#9c179e"
             ],
             [
              0.4444444444444444,
              "#bd3786"
             ],
             [
              0.5555555555555556,
              "#d8576b"
             ],
             [
              0.6666666666666666,
              "#ed7953"
             ],
             [
              0.7777777777777778,
              "#fb9f3a"
             ],
             [
              0.8888888888888888,
              "#fdca26"
             ],
             [
              1,
              "#f0f921"
             ]
            ],
            "type": "contour"
           }
          ],
          "contourcarpet": [
           {
            "colorbar": {
             "outlinewidth": 0,
             "ticks": ""
            },
            "type": "contourcarpet"
           }
          ],
          "heatmap": [
           {
            "colorbar": {
             "outlinewidth": 0,
             "ticks": ""
            },
            "colorscale": [
             [
              0,
              "#0d0887"
             ],
             [
              0.1111111111111111,
              "#46039f"
             ],
             [
              0.2222222222222222,
              "#7201a8"
             ],
             [
              0.3333333333333333,
              "#9c179e"
             ],
             [
              0.4444444444444444,
              "#bd3786"
             ],
             [
              0.5555555555555556,
              "#d8576b"
             ],
             [
              0.6666666666666666,
              "#ed7953"
             ],
             [
              0.7777777777777778,
              "#fb9f3a"
             ],
             [
              0.8888888888888888,
              "#fdca26"
             ],
             [
              1,
              "#f0f921"
             ]
            ],
            "type": "heatmap"
           }
          ],
          "heatmapgl": [
           {
            "colorbar": {
             "outlinewidth": 0,
             "ticks": ""
            },
            "colorscale": [
             [
              0,
              "#0d0887"
             ],
             [
              0.1111111111111111,
              "#46039f"
             ],
             [
              0.2222222222222222,
              "#7201a8"
             ],
             [
              0.3333333333333333,
              "#9c179e"
             ],
             [
              0.4444444444444444,
              "#bd3786"
             ],
             [
              0.5555555555555556,
              "#d8576b"
             ],
             [
              0.6666666666666666,
              "#ed7953"
             ],
             [
              0.7777777777777778,
              "#fb9f3a"
             ],
             [
              0.8888888888888888,
              "#fdca26"
             ],
             [
              1,
              "#f0f921"
             ]
            ],
            "type": "heatmapgl"
           }
          ],
          "histogram": [
           {
            "marker": {
             "pattern": {
              "fillmode": "overlay",
              "size": 10,
              "solidity": 0.2
             }
            },
            "type": "histogram"
           }
          ],
          "histogram2d": [
           {
            "colorbar": {
             "outlinewidth": 0,
             "ticks": ""
            },
            "colorscale": [
             [
              0,
              "#0d0887"
             ],
             [
              0.1111111111111111,
              "#46039f"
             ],
             [
              0.2222222222222222,
              "#7201a8"
             ],
             [
              0.3333333333333333,
              "#9c179e"
             ],
             [
              0.4444444444444444,
              "#bd3786"
             ],
             [
              0.5555555555555556,
              "#d8576b"
             ],
             [
              0.6666666666666666,
              "#ed7953"
             ],
             [
              0.7777777777777778,
              "#fb9f3a"
             ],
             [
              0.8888888888888888,
              "#fdca26"
             ],
             [
              1,
              "#f0f921"
             ]
            ],
            "type": "histogram2d"
           }
          ],
          "histogram2dcontour": [
           {
            "colorbar": {
             "outlinewidth": 0,
             "ticks": ""
            },
            "colorscale": [
             [
              0,
              "#0d0887"
             ],
             [
              0.1111111111111111,
              "#46039f"
             ],
             [
              0.2222222222222222,
              "#7201a8"
             ],
             [
              0.3333333333333333,
              "#9c179e"
             ],
             [
              0.4444444444444444,
              "#bd3786"
             ],
             [
              0.5555555555555556,
              "#d8576b"
             ],
             [
              0.6666666666666666,
              "#ed7953"
             ],
             [
              0.7777777777777778,
              "#fb9f3a"
             ],
             [
              0.8888888888888888,
              "#fdca26"
             ],
             [
              1,
              "#f0f921"
             ]
            ],
            "type": "histogram2dcontour"
           }
          ],
          "mesh3d": [
           {
            "colorbar": {
             "outlinewidth": 0,
             "ticks": ""
            },
            "type": "mesh3d"
           }
          ],
          "parcoords": [
           {
            "line": {
             "colorbar": {
              "outlinewidth": 0,
              "ticks": ""
             }
            },
            "type": "parcoords"
           }
          ],
          "pie": [
           {
            "automargin": true,
            "type": "pie"
           }
          ],
          "scatter": [
           {
            "fillpattern": {
             "fillmode": "overlay",
             "size": 10,
             "solidity": 0.2
            },
            "type": "scatter"
           }
          ],
          "scatter3d": [
           {
            "line": {
             "colorbar": {
              "outlinewidth": 0,
              "ticks": ""
             }
            },
            "marker": {
             "colorbar": {
              "outlinewidth": 0,
              "ticks": ""
             }
            },
            "type": "scatter3d"
           }
          ],
          "scattercarpet": [
           {
            "marker": {
             "colorbar": {
              "outlinewidth": 0,
              "ticks": ""
             }
            },
            "type": "scattercarpet"
           }
          ],
          "scattergeo": [
           {
            "marker": {
             "colorbar": {
              "outlinewidth": 0,
              "ticks": ""
             }
            },
            "type": "scattergeo"
           }
          ],
          "scattergl": [
           {
            "marker": {
             "colorbar": {
              "outlinewidth": 0,
              "ticks": ""
             }
            },
            "type": "scattergl"
           }
          ],
          "scattermapbox": [
           {
            "marker": {
             "colorbar": {
              "outlinewidth": 0,
              "ticks": ""
             }
            },
            "type": "scattermapbox"
           }
          ],
          "scatterpolar": [
           {
            "marker": {
             "colorbar": {
              "outlinewidth": 0,
              "ticks": ""
             }
            },
            "type": "scatterpolar"
           }
          ],
          "scatterpolargl": [
           {
            "marker": {
             "colorbar": {
              "outlinewidth": 0,
              "ticks": ""
             }
            },
            "type": "scatterpolargl"
           }
          ],
          "scatterternary": [
           {
            "marker": {
             "colorbar": {
              "outlinewidth": 0,
              "ticks": ""
             }
            },
            "type": "scatterternary"
           }
          ],
          "surface": [
           {
            "colorbar": {
             "outlinewidth": 0,
             "ticks": ""
            },
            "colorscale": [
             [
              0,
              "#0d0887"
             ],
             [
              0.1111111111111111,
              "#46039f"
             ],
             [
              0.2222222222222222,
              "#7201a8"
             ],
             [
              0.3333333333333333,
              "#9c179e"
             ],
             [
              0.4444444444444444,
              "#bd3786"
             ],
             [
              0.5555555555555556,
              "#d8576b"
             ],
             [
              0.6666666666666666,
              "#ed7953"
             ],
             [
              0.7777777777777778,
              "#fb9f3a"
             ],
             [
              0.8888888888888888,
              "#fdca26"
             ],
             [
              1,
              "#f0f921"
             ]
            ],
            "type": "surface"
           }
          ],
          "table": [
           {
            "cells": {
             "fill": {
              "color": "#EBF0F8"
             },
             "line": {
              "color": "white"
             }
            },
            "header": {
             "fill": {
              "color": "#C8D4E3"
             },
             "line": {
              "color": "white"
             }
            },
            "type": "table"
           }
          ]
         },
         "layout": {
          "annotationdefaults": {
           "arrowcolor": "#2a3f5f",
           "arrowhead": 0,
           "arrowwidth": 1
          },
          "autotypenumbers": "strict",
          "coloraxis": {
           "colorbar": {
            "outlinewidth": 0,
            "ticks": ""
           }
          },
          "colorscale": {
           "diverging": [
            [
             0,
             "#8e0152"
            ],
            [
             0.1,
             "#c51b7d"
            ],
            [
             0.2,
             "#de77ae"
            ],
            [
             0.3,
             "#f1b6da"
            ],
            [
             0.4,
             "#fde0ef"
            ],
            [
             0.5,
             "#f7f7f7"
            ],
            [
             0.6,
             "#e6f5d0"
            ],
            [
             0.7,
             "#b8e186"
            ],
            [
             0.8,
             "#7fbc41"
            ],
            [
             0.9,
             "#4d9221"
            ],
            [
             1,
             "#276419"
            ]
           ],
           "sequential": [
            [
             0,
             "#0d0887"
            ],
            [
             0.1111111111111111,
             "#46039f"
            ],
            [
             0.2222222222222222,
             "#7201a8"
            ],
            [
             0.3333333333333333,
             "#9c179e"
            ],
            [
             0.4444444444444444,
             "#bd3786"
            ],
            [
             0.5555555555555556,
             "#d8576b"
            ],
            [
             0.6666666666666666,
             "#ed7953"
            ],
            [
             0.7777777777777778,
             "#fb9f3a"
            ],
            [
             0.8888888888888888,
             "#fdca26"
            ],
            [
             1,
             "#f0f921"
            ]
           ],
           "sequentialminus": [
            [
             0,
             "#0d0887"
            ],
            [
             0.1111111111111111,
             "#46039f"
            ],
            [
             0.2222222222222222,
             "#7201a8"
            ],
            [
             0.3333333333333333,
             "#9c179e"
            ],
            [
             0.4444444444444444,
             "#bd3786"
            ],
            [
             0.5555555555555556,
             "#d8576b"
            ],
            [
             0.6666666666666666,
             "#ed7953"
            ],
            [
             0.7777777777777778,
             "#fb9f3a"
            ],
            [
             0.8888888888888888,
             "#fdca26"
            ],
            [
             1,
             "#f0f921"
            ]
           ]
          },
          "colorway": [
           "#636efa",
           "#EF553B",
           "#00cc96",
           "#ab63fa",
           "#FFA15A",
           "#19d3f3",
           "#FF6692",
           "#B6E880",
           "#FF97FF",
           "#FECB52"
          ],
          "font": {
           "color": "#2a3f5f"
          },
          "geo": {
           "bgcolor": "white",
           "lakecolor": "white",
           "landcolor": "#E5ECF6",
           "showlakes": true,
           "showland": true,
           "subunitcolor": "white"
          },
          "hoverlabel": {
           "align": "left"
          },
          "hovermode": "closest",
          "mapbox": {
           "style": "light"
          },
          "paper_bgcolor": "white",
          "plot_bgcolor": "#E5ECF6",
          "polar": {
           "angularaxis": {
            "gridcolor": "white",
            "linecolor": "white",
            "ticks": ""
           },
           "bgcolor": "#E5ECF6",
           "radialaxis": {
            "gridcolor": "white",
            "linecolor": "white",
            "ticks": ""
           }
          },
          "scene": {
           "xaxis": {
            "backgroundcolor": "#E5ECF6",
            "gridcolor": "white",
            "gridwidth": 2,
            "linecolor": "white",
            "showbackground": true,
            "ticks": "",
            "zerolinecolor": "white"
           },
           "yaxis": {
            "backgroundcolor": "#E5ECF6",
            "gridcolor": "white",
            "gridwidth": 2,
            "linecolor": "white",
            "showbackground": true,
            "ticks": "",
            "zerolinecolor": "white"
           },
           "zaxis": {
            "backgroundcolor": "#E5ECF6",
            "gridcolor": "white",
            "gridwidth": 2,
            "linecolor": "white",
            "showbackground": true,
            "ticks": "",
            "zerolinecolor": "white"
           }
          },
          "shapedefaults": {
           "line": {
            "color": "#2a3f5f"
           }
          },
          "ternary": {
           "aaxis": {
            "gridcolor": "white",
            "linecolor": "white",
            "ticks": ""
           },
           "baxis": {
            "gridcolor": "white",
            "linecolor": "white",
            "ticks": ""
           },
           "bgcolor": "#E5ECF6",
           "caxis": {
            "gridcolor": "white",
            "linecolor": "white",
            "ticks": ""
           }
          },
          "title": {
           "x": 0.05
          },
          "xaxis": {
           "automargin": true,
           "gridcolor": "white",
           "linecolor": "white",
           "ticks": "",
           "title": {
            "standoff": 15
           },
           "zerolinecolor": "white",
           "zerolinewidth": 2
          },
          "yaxis": {
           "automargin": true,
           "gridcolor": "white",
           "linecolor": "white",
           "ticks": "",
           "title": {
            "standoff": 15
           },
           "zerolinecolor": "white",
           "zerolinewidth": 2
          }
         }
        },
        "title": {
         "text": "Energy Prices with Anomalies"
        },
        "xaxis": {
         "title": {
          "text": "Date and Time"
         }
        },
        "yaxis": {
         "title": {
          "text": "Price (p/kWh)"
         }
        }
       }
      }
     },
     "metadata": {},
     "output_type": "display_data"
    }
   ],
   "source": [
    "df['Z-Score'] = df.groupby('Tariff Code')['Price (p/kWh)'].transform(zscore)\n",
    "anomalies = df[df['Z-Score'].abs() > 2]\n",
    "\n",
    "# Create line plot using Plotly Graph Objects for more control\n",
    "fig = go.Figure()\n",
    "\n",
    "# Add line traces for each tariff code\n",
    "for tariff_code in df['Tariff Code'].unique():\n",
    "    subset = df[df['Tariff Code'] == tariff_code]\n",
    "    fig.add_trace(go.Scatter(x=subset['Valid From'], y=subset['Price (p/kWh)'], mode='lines', name=f'Tariff {tariff_code}'))\n",
    "\n",
    "# Add scatter points for anomalies with conditional coloring\n",
    "for i, row in anomalies.iterrows():\n",
    "    color = 'red' if row['Z-Score'] > 0 else 'green'\n",
    "    fig.add_trace(go.Scatter(x=[row['Valid From']], y=[row['Price (p/kWh)']], mode='markers', marker=dict(color=color, size=10),\n",
    "                             name='Anomaly' if i == 0 else None,  # Show legend only once\n",
    "                             showlegend=(i == 0)))\n",
    "\n",
    "# Annotate anomalies\n",
    "for i, row in anomalies.iterrows():\n",
    "    fig.add_annotation(\n",
    "        x=row['Valid From'],\n",
    "        y=row['Price (p/kWh)'],\n",
    "        text=str(row['Price (p/kWh)']),\n",
    "        showarrow=True,\n",
    "        arrowhead=1,\n",
    "        ax=0,\n",
    "        ay=-40\n",
    "    )\n",
    "\n",
    "# Update layout for better readability\n",
    "fig.update_layout(\n",
    "    title='Energy Prices with Anomalies',\n",
    "    xaxis_title='Date and Time',\n",
    "    yaxis_title='Price (p/kWh)',\n",
    "    hovermode=\"x unified\"\n",
    ")\n",
    "\n",
    "# Save as HTML\n",
    "fig.write_html(\"energy_anomalies_line_plot_interactive_v2.html\")\n",
    "\n",
    "# Show the plot\n",
    "fig.show()"
   ]
  },
  {
   "cell_type": "code",
   "execution_count": 6,
   "metadata": {},
   "outputs": [
    {
     "name": "stderr",
     "output_type": "stream",
     "text": [
      "19:35:22 - cmdstanpy - INFO - Chain [1] start processing\n",
      "19:35:22 - cmdstanpy - INFO - Chain [1] done processing\n"
     ]
    },
    {
     "data": {
      "application/vnd.plotly.v1+json": {
       "config": {
        "plotlyServerURL": "https://plot.ly"
       },
       "data": [
        {
         "mode": "lines",
         "name": "Actual",
         "type": "scatter",
         "x": [
          "2023-10-28T23:00:00",
          "2023-10-27T23:00:00",
          "2023-10-26T23:00:00",
          "2023-10-25T23:00:00",
          "2023-10-24T23:00:00",
          "2023-10-23T23:00:00",
          "2023-10-22T23:00:00",
          "2023-10-21T23:00:00",
          "2023-10-20T23:00:00",
          "2023-10-19T23:00:00",
          "2023-10-18T23:00:00",
          "2023-10-17T23:00:00",
          "2023-10-16T23:00:00",
          "2023-10-15T23:00:00",
          "2023-10-14T23:00:00",
          "2023-10-13T23:00:00",
          "2023-10-12T23:00:00",
          "2023-10-11T23:00:00",
          "2023-10-10T23:00:00",
          "2023-10-09T23:00:00",
          "2023-10-08T23:00:00",
          "2023-10-07T23:00:00",
          "2023-10-06T23:00:00",
          "2023-10-05T23:00:00",
          "2023-10-04T23:00:00",
          "2023-10-03T23:00:00",
          "2023-10-02T23:00:00",
          "2023-10-01T23:00:00",
          "2023-09-30T23:00:00",
          "2023-09-29T23:00:00",
          "2023-09-28T23:00:00",
          "2023-09-27T23:00:00",
          "2023-09-26T23:00:00",
          "2023-09-25T23:00:00",
          "2023-09-24T23:00:00",
          "2023-09-23T23:00:00",
          "2023-09-22T23:00:00",
          "2023-09-21T23:00:00",
          "2023-09-20T23:00:00",
          "2023-09-19T23:00:00",
          "2023-09-18T23:00:00",
          "2023-09-17T23:00:00",
          "2023-09-16T23:00:00",
          "2023-09-15T23:00:00",
          "2023-09-14T23:00:00",
          "2023-09-13T23:00:00",
          "2023-09-12T23:00:00",
          "2023-09-11T23:00:00",
          "2023-09-10T23:00:00",
          "2023-09-09T23:00:00",
          "2023-09-08T23:00:00",
          "2023-09-07T23:00:00",
          "2023-09-06T23:00:00",
          "2023-09-05T23:00:00",
          "2023-09-04T23:00:00",
          "2023-09-03T23:00:00",
          "2023-09-02T23:00:00",
          "2023-09-01T23:00:00",
          "2023-08-31T23:00:00",
          "2023-08-30T23:00:00",
          "2023-08-29T23:00:00",
          "2023-08-28T23:00:00",
          "2023-08-27T23:00:00",
          "2023-08-26T23:00:00",
          "2023-08-25T23:00:00",
          "2023-08-24T23:00:00",
          "2023-08-23T23:00:00",
          "2023-08-22T23:00:00",
          "2023-08-21T23:00:00",
          "2023-08-20T23:00:00",
          "2023-08-19T23:00:00",
          "2023-08-18T23:00:00",
          "2023-08-17T23:00:00",
          "2023-08-16T23:00:00",
          "2023-08-15T23:00:00",
          "2023-08-14T23:00:00",
          "2023-08-13T23:00:00",
          "2023-08-12T23:00:00",
          "2023-08-11T23:00:00",
          "2023-08-10T23:00:00",
          "2023-08-09T23:00:00",
          "2023-08-08T23:00:00",
          "2023-08-07T23:00:00",
          "2023-08-06T23:00:00",
          "2023-08-05T23:00:00",
          "2023-08-04T23:00:00",
          "2023-08-03T23:00:00",
          "2023-08-02T23:00:00",
          "2023-08-01T23:00:00",
          "2023-07-31T23:00:00",
          "2023-07-30T23:00:00",
          "2023-07-29T23:00:00",
          "2023-07-28T23:00:00",
          "2023-07-27T23:00:00",
          "2023-07-26T23:00:00",
          "2023-07-25T23:00:00",
          "2023-07-24T23:00:00",
          "2023-07-23T23:00:00",
          "2023-07-22T23:00:00",
          "2023-07-21T23:00:00",
          "2023-07-20T23:00:00",
          "2023-07-19T23:00:00",
          "2023-07-18T23:00:00",
          "2023-07-17T23:00:00",
          "2023-07-16T23:00:00",
          "2023-07-15T23:00:00",
          "2023-07-14T23:00:00",
          "2023-07-13T23:00:00",
          "2023-07-12T23:00:00",
          "2023-07-11T23:00:00",
          "2023-07-10T23:00:00",
          "2023-07-09T23:00:00",
          "2023-07-08T23:00:00",
          "2023-07-07T23:00:00",
          "2023-07-06T23:00:00",
          "2023-07-05T23:00:00",
          "2023-07-04T23:00:00",
          "2023-07-03T23:00:00",
          "2023-07-02T23:00:00",
          "2023-07-01T23:00:00",
          "2023-06-30T23:00:00",
          "2023-06-29T23:00:00",
          "2023-06-28T23:00:00",
          "2023-06-27T23:00:00",
          "2023-06-26T23:00:00",
          "2023-06-25T23:00:00",
          "2023-06-24T23:00:00",
          "2023-06-23T23:00:00",
          "2023-06-22T23:00:00",
          "2023-06-21T23:00:00",
          "2023-06-20T23:00:00",
          "2023-06-19T23:00:00",
          "2023-06-18T23:00:00",
          "2023-06-17T23:00:00",
          "2023-06-16T23:00:00",
          "2023-06-15T23:00:00",
          "2023-06-14T23:00:00",
          "2023-06-13T23:00:00",
          "2023-06-12T23:00:00",
          "2023-06-11T23:00:00",
          "2023-06-10T23:00:00",
          "2023-06-09T23:00:00",
          "2023-06-08T23:00:00",
          "2023-06-07T23:00:00",
          "2023-06-06T23:00:00",
          "2023-06-05T23:00:00",
          "2023-06-04T23:00:00",
          "2023-06-03T23:00:00",
          "2023-06-02T23:00:00",
          "2023-06-01T23:00:00",
          "2023-05-31T23:00:00",
          "2023-05-30T23:00:00",
          "2023-05-29T23:00:00",
          "2023-05-28T23:00:00",
          "2023-05-27T23:00:00",
          "2023-05-26T23:00:00",
          "2023-05-25T23:00:00",
          "2023-05-24T23:00:00",
          "2023-05-23T23:00:00",
          "2023-05-22T23:00:00",
          "2023-05-21T23:00:00",
          "2023-05-20T23:00:00",
          "2023-05-19T23:00:00",
          "2023-05-18T23:00:00",
          "2023-05-17T23:00:00",
          "2023-05-16T23:00:00",
          "2023-05-15T23:00:00",
          "2023-05-14T23:00:00",
          "2023-05-13T23:00:00",
          "2023-05-12T23:00:00",
          "2023-05-11T23:00:00",
          "2023-05-10T23:00:00",
          "2023-05-09T23:00:00",
          "2023-05-08T23:00:00",
          "2023-05-07T23:00:00",
          "2023-05-06T23:00:00",
          "2023-05-05T23:00:00",
          "2023-05-04T23:00:00",
          "2023-05-03T23:00:00",
          "2023-05-02T23:00:00",
          "2023-05-01T23:00:00",
          "2023-04-30T23:00:00",
          "2023-04-29T23:00:00",
          "2023-04-28T23:00:00",
          "2023-04-27T23:00:00",
          "2023-04-26T23:00:00",
          "2023-04-25T23:00:00",
          "2023-04-24T23:00:00",
          "2023-04-23T23:00:00",
          "2023-04-22T23:00:00",
          "2023-04-21T23:00:00",
          "2023-04-20T23:00:00",
          "2023-04-19T23:00:00",
          "2023-04-18T23:00:00",
          "2023-04-17T23:00:00",
          "2023-04-16T23:00:00",
          "2023-04-15T23:00:00",
          "2023-04-14T23:00:00",
          "2023-04-13T23:00:00",
          "2023-04-12T23:00:00",
          "2023-04-11T23:00:00",
          "2023-04-10T23:00:00",
          "2023-04-09T23:00:00",
          "2023-04-08T23:00:00",
          "2023-04-07T23:00:00",
          "2023-04-06T23:00:00",
          "2023-04-05T23:00:00",
          "2023-04-04T23:00:00",
          "2023-04-03T23:00:00",
          "2023-04-02T23:00:00",
          "2023-04-01T23:00:00",
          "2023-03-31T23:00:00",
          "2023-03-30T23:00:00",
          "2023-03-29T23:00:00",
          "2023-03-28T23:00:00",
          "2023-03-27T23:00:00",
          "2023-03-26T23:00:00",
          "2023-03-26T00:00:00",
          "2023-03-25T00:00:00",
          "2023-03-24T00:00:00",
          "2023-03-23T00:00:00",
          "2023-03-22T00:00:00",
          "2023-03-21T00:00:00",
          "2023-03-20T00:00:00",
          "2023-03-19T00:00:00",
          "2023-03-18T00:00:00",
          "2023-03-17T00:00:00",
          "2023-03-16T00:00:00",
          "2023-03-15T00:00:00",
          "2023-03-14T00:00:00",
          "2023-03-13T00:00:00",
          "2023-03-12T00:00:00",
          "2023-03-11T00:00:00",
          "2023-03-10T00:00:00",
          "2023-03-09T00:00:00",
          "2023-03-08T00:00:00",
          "2023-03-07T00:00:00",
          "2023-03-06T00:00:00",
          "2023-03-05T00:00:00",
          "2023-03-04T00:00:00",
          "2023-03-03T00:00:00",
          "2023-03-02T00:00:00",
          "2023-03-01T00:00:00",
          "2023-02-28T00:00:00",
          "2023-02-27T00:00:00",
          "2023-02-26T00:00:00",
          "2023-02-25T00:00:00",
          "2023-02-24T00:00:00",
          "2023-02-23T00:00:00",
          "2023-02-22T00:00:00",
          "2023-02-21T00:00:00",
          "2023-02-20T00:00:00",
          "2023-02-19T00:00:00",
          "2023-02-18T00:00:00",
          "2023-02-17T00:00:00",
          "2023-02-16T00:00:00",
          "2023-02-15T00:00:00",
          "2023-02-14T00:00:00",
          "2023-02-13T00:00:00",
          "2023-02-12T00:00:00",
          "2023-02-11T00:00:00",
          "2023-02-10T00:00:00",
          "2023-02-09T00:00:00",
          "2023-02-08T00:00:00",
          "2023-02-07T00:00:00",
          "2023-02-06T00:00:00",
          "2023-02-05T00:00:00",
          "2023-02-04T00:00:00",
          "2023-02-03T00:00:00",
          "2023-02-02T00:00:00",
          "2023-02-01T00:00:00",
          "2023-01-31T00:00:00",
          "2023-01-30T00:00:00",
          "2023-01-29T00:00:00",
          "2023-01-28T00:00:00",
          "2023-01-27T00:00:00",
          "2023-01-26T00:00:00",
          "2023-01-25T00:00:00",
          "2023-01-24T00:00:00",
          "2023-01-23T00:00:00",
          "2023-01-22T00:00:00",
          "2023-01-21T00:00:00",
          "2023-01-20T00:00:00",
          "2023-01-19T00:00:00",
          "2023-01-18T00:00:00",
          "2023-01-17T00:00:00",
          "2023-01-16T00:00:00",
          "2023-01-15T00:00:00",
          "2023-01-14T00:00:00",
          "2023-01-13T00:00:00",
          "2023-01-12T00:00:00",
          "2023-01-11T00:00:00",
          "2023-01-10T00:00:00",
          "2023-01-09T00:00:00",
          "2023-01-08T00:00:00",
          "2023-01-07T00:00:00",
          "2023-01-06T00:00:00",
          "2023-01-05T00:00:00",
          "2023-01-04T00:00:00",
          "2023-01-03T00:00:00",
          "2023-01-02T00:00:00",
          "2023-01-01T00:00:00",
          "2022-12-31T00:00:00",
          "2022-12-30T00:00:00",
          "2022-12-29T00:00:00",
          "2022-12-28T00:00:00",
          "2022-12-27T00:00:00",
          "2022-12-26T00:00:00",
          "2022-12-25T00:00:00",
          "2022-12-24T00:00:00",
          "2022-12-23T00:00:00",
          "2022-12-22T00:00:00",
          "2022-12-21T00:00:00",
          "2022-12-20T00:00:00",
          "2022-12-19T00:00:00",
          "2022-12-18T00:00:00",
          "2022-12-17T00:00:00",
          "2022-12-16T00:00:00",
          "2022-12-15T00:00:00",
          "2022-12-14T00:00:00",
          "2022-12-13T00:00:00",
          "2022-12-12T00:00:00",
          "2022-12-11T00:00:00",
          "2022-12-10T00:00:00",
          "2022-12-09T00:00:00",
          "2022-12-08T00:00:00",
          "2022-12-07T00:00:00",
          "2022-12-06T00:00:00",
          "2022-12-05T00:00:00",
          "2022-12-04T00:00:00",
          "2022-12-03T00:00:00",
          "2022-12-02T00:00:00",
          "2022-12-01T00:00:00",
          "2022-11-30T00:00:00",
          "2022-11-29T00:00:00",
          "2022-11-28T00:00:00",
          "2022-11-27T00:00:00",
          "2022-11-26T00:00:00",
          "2022-11-25T00:00:00",
          "2022-11-24T00:00:00",
          "2022-11-23T00:00:00",
          "2022-11-22T00:00:00",
          "2022-11-21T00:00:00",
          "2022-11-20T00:00:00",
          "2022-11-19T00:00:00",
          "2022-11-18T00:00:00",
          "2022-11-17T00:00:00"
         ],
         "y": [
          13.398,
          17.115,
          20.7795,
          21.3885,
          21.819,
          20.475,
          21.168,
          19.173,
          17.619,
          16.7265,
          16.7685,
          15.624,
          21.6195,
          23.94,
          16.8735,
          11.7495,
          17.073,
          21.399,
          16.59,
          18.018,
          19.719,
          17.703,
          13.965,
          14.994,
          16.8525,
          15.4455,
          15.435,
          19.341,
          16.9785,
          18.837,
          17.3565,
          15.309,
          19.0995,
          19.1205,
          15.8025,
          13.356,
          19.1415,
          18.648,
          17.9445,
          14.175,
          14.742,
          17.6505,
          18.1125,
          17.9025,
          18.837,
          18.6795,
          18.7425,
          19.5615,
          20.1915,
          18.1755,
          17.9865,
          18.8685,
          18.6375,
          18.3015,
          18.102,
          18.543,
          18.0495,
          18.0075,
          19.0155,
          18.795,
          19.1205,
          19.2255,
          18.8685,
          18.207,
          18.2175,
          19.551,
          22.4595,
          21.7875,
          19.068,
          18.7425,
          17.997,
          13.9755,
          17.808,
          18.144,
          18.9,
          17.955,
          18.018,
          16.695,
          15.813,
          17.787,
          17.6505,
          17.2515,
          16.6425,
          16.5165,
          15.351,
          17.2725,
          17.4825,
          14.931,
          16.233,
          16.8,
          15.9075,
          11.907,
          15.8865,
          17.4825,
          18.27,
          17.9865,
          17.8395,
          16.989,
          15.0465,
          17.5035,
          17.2305,
          17.5455,
          17.64,
          18.7845,
          16.6005,
          8.232,
          11.487,
          16.569,
          17.955,
          17.451,
          18.5535,
          18.942,
          18.144,
          16.149,
          17.703,
          18.816,
          18.228,
          18.837,
          15.9915,
          8.505,
          13.2195,
          18.3015,
          19.53,
          19.677,
          18.921,
          18.039,
          15.099,
          18.0075,
          19.4775,
          21.1365,
          20.748,
          20.4855,
          19.845,
          18.6585,
          19.3725,
          21.084,
          19.74,
          18.1965,
          18.228,
          19.2045,
          17.43,
          15.2355,
          16.548,
          16.191,
          17.2305,
          16.884,
          16.632,
          15.1515,
          15.393,
          16.3695,
          16.128,
          16.0965,
          16.401,
          15.918,
          15.645,
          15.099,
          16.632,
          16.8105,
          16.905,
          16.8315,
          16.9785,
          16.968,
          17.0415,
          17.913,
          17.6925,
          17.9445,
          18.039,
          17.8605,
          17.8185,
          18.0705,
          18.3855,
          19.8555,
          19.131,
          19.278,
          18.711,
          18.375,
          18.4905,
          18.4695,
          17.9865,
          19.1625,
          19.8765,
          18.4485,
          18.984,
          19.656,
          19.32,
          19.761,
          21.8715,
          20.475,
          19.509,
          20.5065,
          19.908,
          20.202,
          20.517,
          19.971,
          20.3175,
          21.2625,
          20.139,
          20.097,
          22.281,
          20.1495,
          18.942,
          17.808,
          16.2855,
          19.3725,
          21.1785,
          21.168,
          22.029,
          23.2365,
          22.7745,
          21.756,
          21.42,
          20.349,
          21.315,
          20.7165,
          20.9895,
          21.6825,
          21.5985,
          20.874,
          18.291,
          18.648,
          18.522,
          17.4615,
          20.244,
          21.273,
          21.861,
          21.9975,
          21.882,
          22.281,
          24.759,
          22.0815,
          19.761,
          21.756,
          23.688,
          22.155,
          23.289,
          24.15,
          24.633,
          24.7695,
          24.192,
          23.7825,
          25.242,
          24.8115,
          24.3285,
          25.0215,
          25.2105,
          23.9505,
          24.171,
          23.814,
          24.318,
          24.5175,
          24.3705,
          21.4935,
          22.785,
          21.987,
          22.3755,
          25.284,
          24.381,
          25.221,
          25.7355,
          24.927,
          25.179,
          25.2,
          25.7985,
          25.851,
          29.0745,
          27.237,
          25.1055,
          24.969,
          23.583,
          23.814,
          23.037,
          24.024,
          23.499,
          24.99,
          25.011,
          27.405,
          25.9665,
          27.3945,
          29.9355,
          31.1535,
          27.9615,
          25.7355,
          27.9825,
          26.985,
          24.843,
          27.2265,
          26.6175,
          19.509,
          19.3725,
          20.055,
          19.9815,
          19.908,
          22.9215,
          22.6905,
          17.3355,
          20.727,
          21.084,
          23.5935,
          20.9895,
          25.4415,
          28.098,
          19.257,
          23.9505,
          17.7765,
          13.335,
          20.7795,
          24.2865,
          16.9995,
          21.315,
          21.231,
          29.2845,
          33.621,
          29.883,
          31.1745,
          27.7095,
          34.9755,
          35.056875,
          35.806785,
          35.056875,
          35.176785,
          38.515785,
          61.594785,
          30.556785,
          35.056875,
          37.329285,
          35.565285,
          35.056875,
          35.056875,
          35.056875,
          35.056875,
          35.056875,
          35.056875,
          35.056875,
          35.056875,
          35.056875,
          35.056875,
          24.633,
          26.0715,
          25.7775,
          22.9005,
          23.3205,
          29.799,
          25.221,
          22.302,
          24.339,
          21.4305,
          22.2495
         ]
        },
        {
         "mode": "lines",
         "name": "Forecast",
         "type": "scatter",
         "x": [
          "2022-11-17T00:00:00",
          "2022-11-18T00:00:00",
          "2022-11-19T00:00:00",
          "2022-11-20T00:00:00",
          "2022-11-21T00:00:00",
          "2022-11-22T00:00:00",
          "2022-11-23T00:00:00",
          "2022-11-24T00:00:00",
          "2022-11-25T00:00:00",
          "2022-11-26T00:00:00",
          "2022-11-27T00:00:00",
          "2022-11-28T00:00:00",
          "2022-11-29T00:00:00",
          "2022-11-30T00:00:00",
          "2022-12-01T00:00:00",
          "2022-12-02T00:00:00",
          "2022-12-03T00:00:00",
          "2022-12-04T00:00:00",
          "2022-12-05T00:00:00",
          "2022-12-06T00:00:00",
          "2022-12-07T00:00:00",
          "2022-12-08T00:00:00",
          "2022-12-09T00:00:00",
          "2022-12-10T00:00:00",
          "2022-12-11T00:00:00",
          "2022-12-12T00:00:00",
          "2022-12-13T00:00:00",
          "2022-12-14T00:00:00",
          "2022-12-15T00:00:00",
          "2022-12-16T00:00:00",
          "2022-12-17T00:00:00",
          "2022-12-18T00:00:00",
          "2022-12-19T00:00:00",
          "2022-12-20T00:00:00",
          "2022-12-21T00:00:00",
          "2022-12-22T00:00:00",
          "2022-12-23T00:00:00",
          "2022-12-24T00:00:00",
          "2022-12-25T00:00:00",
          "2022-12-26T00:00:00",
          "2022-12-27T00:00:00",
          "2022-12-28T00:00:00",
          "2022-12-29T00:00:00",
          "2022-12-30T00:00:00",
          "2022-12-31T00:00:00",
          "2023-01-01T00:00:00",
          "2023-01-02T00:00:00",
          "2023-01-03T00:00:00",
          "2023-01-04T00:00:00",
          "2023-01-05T00:00:00",
          "2023-01-06T00:00:00",
          "2023-01-07T00:00:00",
          "2023-01-08T00:00:00",
          "2023-01-09T00:00:00",
          "2023-01-10T00:00:00",
          "2023-01-11T00:00:00",
          "2023-01-12T00:00:00",
          "2023-01-13T00:00:00",
          "2023-01-14T00:00:00",
          "2023-01-15T00:00:00",
          "2023-01-16T00:00:00",
          "2023-01-17T00:00:00",
          "2023-01-18T00:00:00",
          "2023-01-19T00:00:00",
          "2023-01-20T00:00:00",
          "2023-01-21T00:00:00",
          "2023-01-22T00:00:00",
          "2023-01-23T00:00:00",
          "2023-01-24T00:00:00",
          "2023-01-25T00:00:00",
          "2023-01-26T00:00:00",
          "2023-01-27T00:00:00",
          "2023-01-28T00:00:00",
          "2023-01-29T00:00:00",
          "2023-01-30T00:00:00",
          "2023-01-31T00:00:00",
          "2023-02-01T00:00:00",
          "2023-02-02T00:00:00",
          "2023-02-03T00:00:00",
          "2023-02-04T00:00:00",
          "2023-02-05T00:00:00",
          "2023-02-06T00:00:00",
          "2023-02-07T00:00:00",
          "2023-02-08T00:00:00",
          "2023-02-09T00:00:00",
          "2023-02-10T00:00:00",
          "2023-02-11T00:00:00",
          "2023-02-12T00:00:00",
          "2023-02-13T00:00:00",
          "2023-02-14T00:00:00",
          "2023-02-15T00:00:00",
          "2023-02-16T00:00:00",
          "2023-02-17T00:00:00",
          "2023-02-18T00:00:00",
          "2023-02-19T00:00:00",
          "2023-02-20T00:00:00",
          "2023-02-21T00:00:00",
          "2023-02-22T00:00:00",
          "2023-02-23T00:00:00",
          "2023-02-24T00:00:00",
          "2023-02-25T00:00:00",
          "2023-02-26T00:00:00",
          "2023-02-27T00:00:00",
          "2023-02-28T00:00:00",
          "2023-03-01T00:00:00",
          "2023-03-02T00:00:00",
          "2023-03-03T00:00:00",
          "2023-03-04T00:00:00",
          "2023-03-05T00:00:00",
          "2023-03-06T00:00:00",
          "2023-03-07T00:00:00",
          "2023-03-08T00:00:00",
          "2023-03-09T00:00:00",
          "2023-03-10T00:00:00",
          "2023-03-11T00:00:00",
          "2023-03-12T00:00:00",
          "2023-03-13T00:00:00",
          "2023-03-14T00:00:00",
          "2023-03-15T00:00:00",
          "2023-03-16T00:00:00",
          "2023-03-17T00:00:00",
          "2023-03-18T00:00:00",
          "2023-03-19T00:00:00",
          "2023-03-20T00:00:00",
          "2023-03-21T00:00:00",
          "2023-03-22T00:00:00",
          "2023-03-23T00:00:00",
          "2023-03-24T00:00:00",
          "2023-03-25T00:00:00",
          "2023-03-26T00:00:00",
          "2023-03-26T23:00:00",
          "2023-03-27T23:00:00",
          "2023-03-28T23:00:00",
          "2023-03-29T23:00:00",
          "2023-03-30T23:00:00",
          "2023-03-31T23:00:00",
          "2023-04-01T23:00:00",
          "2023-04-02T23:00:00",
          "2023-04-03T23:00:00",
          "2023-04-04T23:00:00",
          "2023-04-05T23:00:00",
          "2023-04-06T23:00:00",
          "2023-04-07T23:00:00",
          "2023-04-08T23:00:00",
          "2023-04-09T23:00:00",
          "2023-04-10T23:00:00",
          "2023-04-11T23:00:00",
          "2023-04-12T23:00:00",
          "2023-04-13T23:00:00",
          "2023-04-14T23:00:00",
          "2023-04-15T23:00:00",
          "2023-04-16T23:00:00",
          "2023-04-17T23:00:00",
          "2023-04-18T23:00:00",
          "2023-04-19T23:00:00",
          "2023-04-20T23:00:00",
          "2023-04-21T23:00:00",
          "2023-04-22T23:00:00",
          "2023-04-23T23:00:00",
          "2023-04-24T23:00:00",
          "2023-04-25T23:00:00",
          "2023-04-26T23:00:00",
          "2023-04-27T23:00:00",
          "2023-04-28T23:00:00",
          "2023-04-29T23:00:00",
          "2023-04-30T23:00:00",
          "2023-05-01T23:00:00",
          "2023-05-02T23:00:00",
          "2023-05-03T23:00:00",
          "2023-05-04T23:00:00",
          "2023-05-05T23:00:00",
          "2023-05-06T23:00:00",
          "2023-05-07T23:00:00",
          "2023-05-08T23:00:00",
          "2023-05-09T23:00:00",
          "2023-05-10T23:00:00",
          "2023-05-11T23:00:00",
          "2023-05-12T23:00:00",
          "2023-05-13T23:00:00",
          "2023-05-14T23:00:00",
          "2023-05-15T23:00:00",
          "2023-05-16T23:00:00",
          "2023-05-17T23:00:00",
          "2023-05-18T23:00:00",
          "2023-05-19T23:00:00",
          "2023-05-20T23:00:00",
          "2023-05-21T23:00:00",
          "2023-05-22T23:00:00",
          "2023-05-23T23:00:00",
          "2023-05-24T23:00:00",
          "2023-05-25T23:00:00",
          "2023-05-26T23:00:00",
          "2023-05-27T23:00:00",
          "2023-05-28T23:00:00",
          "2023-05-29T23:00:00",
          "2023-05-30T23:00:00",
          "2023-05-31T23:00:00",
          "2023-06-01T23:00:00",
          "2023-06-02T23:00:00",
          "2023-06-03T23:00:00",
          "2023-06-04T23:00:00",
          "2023-06-05T23:00:00",
          "2023-06-06T23:00:00",
          "2023-06-07T23:00:00",
          "2023-06-08T23:00:00",
          "2023-06-09T23:00:00",
          "2023-06-10T23:00:00",
          "2023-06-11T23:00:00",
          "2023-06-12T23:00:00",
          "2023-06-13T23:00:00",
          "2023-06-14T23:00:00",
          "2023-06-15T23:00:00",
          "2023-06-16T23:00:00",
          "2023-06-17T23:00:00",
          "2023-06-18T23:00:00",
          "2023-06-19T23:00:00",
          "2023-06-20T23:00:00",
          "2023-06-21T23:00:00",
          "2023-06-22T23:00:00",
          "2023-06-23T23:00:00",
          "2023-06-24T23:00:00",
          "2023-06-25T23:00:00",
          "2023-06-26T23:00:00",
          "2023-06-27T23:00:00",
          "2023-06-28T23:00:00",
          "2023-06-29T23:00:00",
          "2023-06-30T23:00:00",
          "2023-07-01T23:00:00",
          "2023-07-02T23:00:00",
          "2023-07-03T23:00:00",
          "2023-07-04T23:00:00",
          "2023-07-05T23:00:00",
          "2023-07-06T23:00:00",
          "2023-07-07T23:00:00",
          "2023-07-08T23:00:00",
          "2023-07-09T23:00:00",
          "2023-07-10T23:00:00",
          "2023-07-11T23:00:00",
          "2023-07-12T23:00:00",
          "2023-07-13T23:00:00",
          "2023-07-14T23:00:00",
          "2023-07-15T23:00:00",
          "2023-07-16T23:00:00",
          "2023-07-17T23:00:00",
          "2023-07-18T23:00:00",
          "2023-07-19T23:00:00",
          "2023-07-20T23:00:00",
          "2023-07-21T23:00:00",
          "2023-07-22T23:00:00",
          "2023-07-23T23:00:00",
          "2023-07-24T23:00:00",
          "2023-07-25T23:00:00",
          "2023-07-26T23:00:00",
          "2023-07-27T23:00:00",
          "2023-07-28T23:00:00",
          "2023-07-29T23:00:00",
          "2023-07-30T23:00:00",
          "2023-07-31T23:00:00",
          "2023-08-01T23:00:00",
          "2023-08-02T23:00:00",
          "2023-08-03T23:00:00",
          "2023-08-04T23:00:00",
          "2023-08-05T23:00:00",
          "2023-08-06T23:00:00",
          "2023-08-07T23:00:00",
          "2023-08-08T23:00:00",
          "2023-08-09T23:00:00",
          "2023-08-10T23:00:00",
          "2023-08-11T23:00:00",
          "2023-08-12T23:00:00",
          "2023-08-13T23:00:00",
          "2023-08-14T23:00:00",
          "2023-08-15T23:00:00",
          "2023-08-16T23:00:00",
          "2023-08-17T23:00:00",
          "2023-08-18T23:00:00",
          "2023-08-19T23:00:00",
          "2023-08-20T23:00:00",
          "2023-08-21T23:00:00",
          "2023-08-22T23:00:00",
          "2023-08-23T23:00:00",
          "2023-08-24T23:00:00",
          "2023-08-25T23:00:00",
          "2023-08-26T23:00:00",
          "2023-08-27T23:00:00",
          "2023-08-28T23:00:00",
          "2023-08-29T23:00:00",
          "2023-08-30T23:00:00",
          "2023-08-31T23:00:00",
          "2023-09-01T23:00:00",
          "2023-09-02T23:00:00",
          "2023-09-03T23:00:00",
          "2023-09-04T23:00:00",
          "2023-09-05T23:00:00",
          "2023-09-06T23:00:00",
          "2023-09-07T23:00:00",
          "2023-09-08T23:00:00",
          "2023-09-09T23:00:00",
          "2023-09-10T23:00:00",
          "2023-09-11T23:00:00",
          "2023-09-12T23:00:00",
          "2023-09-13T23:00:00",
          "2023-09-14T23:00:00",
          "2023-09-15T23:00:00",
          "2023-09-16T23:00:00",
          "2023-09-17T23:00:00",
          "2023-09-18T23:00:00",
          "2023-09-19T23:00:00",
          "2023-09-20T23:00:00",
          "2023-09-21T23:00:00",
          "2023-09-22T23:00:00",
          "2023-09-23T23:00:00",
          "2023-09-24T23:00:00",
          "2023-09-25T23:00:00",
          "2023-09-26T23:00:00",
          "2023-09-27T23:00:00",
          "2023-09-28T23:00:00",
          "2023-09-29T23:00:00",
          "2023-09-30T23:00:00",
          "2023-10-01T23:00:00",
          "2023-10-02T23:00:00",
          "2023-10-03T23:00:00",
          "2023-10-04T23:00:00",
          "2023-10-05T23:00:00",
          "2023-10-06T23:00:00",
          "2023-10-07T23:00:00",
          "2023-10-08T23:00:00",
          "2023-10-09T23:00:00",
          "2023-10-10T23:00:00",
          "2023-10-11T23:00:00",
          "2023-10-12T23:00:00",
          "2023-10-13T23:00:00",
          "2023-10-14T23:00:00",
          "2023-10-15T23:00:00",
          "2023-10-16T23:00:00",
          "2023-10-17T23:00:00",
          "2023-10-18T23:00:00",
          "2023-10-19T23:00:00",
          "2023-10-20T23:00:00",
          "2023-10-21T23:00:00",
          "2023-10-22T23:00:00",
          "2023-10-23T23:00:00",
          "2023-10-24T23:00:00",
          "2023-10-25T23:00:00",
          "2023-10-26T23:00:00",
          "2023-10-27T23:00:00",
          "2023-10-28T23:00:00",
          "2023-10-29T23:00:00",
          "2023-10-30T23:00:00",
          "2023-10-31T23:00:00",
          "2023-11-01T23:00:00",
          "2023-11-02T23:00:00",
          "2023-11-03T23:00:00",
          "2023-11-04T23:00:00",
          "2023-11-05T23:00:00",
          "2023-11-06T23:00:00",
          "2023-11-07T23:00:00",
          "2023-11-08T23:00:00",
          "2023-11-09T23:00:00",
          "2023-11-10T23:00:00",
          "2023-11-11T23:00:00",
          "2023-11-12T23:00:00",
          "2023-11-13T23:00:00",
          "2023-11-14T23:00:00",
          "2023-11-15T23:00:00",
          "2023-11-16T23:00:00",
          "2023-11-17T23:00:00",
          "2023-11-18T23:00:00",
          "2023-11-19T23:00:00",
          "2023-11-20T23:00:00",
          "2023-11-21T23:00:00",
          "2023-11-22T23:00:00",
          "2023-11-23T23:00:00",
          "2023-11-24T23:00:00",
          "2023-11-25T23:00:00",
          "2023-11-26T23:00:00",
          "2023-11-27T23:00:00",
          "2023-11-28T23:00:00",
          "2023-11-29T23:00:00",
          "2023-11-30T23:00:00",
          "2023-12-01T23:00:00",
          "2023-12-02T23:00:00",
          "2023-12-03T23:00:00",
          "2023-12-04T23:00:00",
          "2023-12-05T23:00:00",
          "2023-12-06T23:00:00",
          "2023-12-07T23:00:00",
          "2023-12-08T23:00:00",
          "2023-12-09T23:00:00",
          "2023-12-10T23:00:00",
          "2023-12-11T23:00:00",
          "2023-12-12T23:00:00",
          "2023-12-13T23:00:00",
          "2023-12-14T23:00:00",
          "2023-12-15T23:00:00",
          "2023-12-16T23:00:00",
          "2023-12-17T23:00:00",
          "2023-12-18T23:00:00",
          "2023-12-19T23:00:00",
          "2023-12-20T23:00:00",
          "2023-12-21T23:00:00",
          "2023-12-22T23:00:00",
          "2023-12-23T23:00:00",
          "2023-12-24T23:00:00",
          "2023-12-25T23:00:00",
          "2023-12-26T23:00:00",
          "2023-12-27T23:00:00",
          "2023-12-28T23:00:00",
          "2023-12-29T23:00:00",
          "2023-12-30T23:00:00",
          "2023-12-31T23:00:00",
          "2024-01-01T23:00:00",
          "2024-01-02T23:00:00",
          "2024-01-03T23:00:00",
          "2024-01-04T23:00:00",
          "2024-01-05T23:00:00",
          "2024-01-06T23:00:00",
          "2024-01-07T23:00:00",
          "2024-01-08T23:00:00",
          "2024-01-09T23:00:00",
          "2024-01-10T23:00:00",
          "2024-01-11T23:00:00",
          "2024-01-12T23:00:00",
          "2024-01-13T23:00:00",
          "2024-01-14T23:00:00",
          "2024-01-15T23:00:00",
          "2024-01-16T23:00:00",
          "2024-01-17T23:00:00",
          "2024-01-18T23:00:00",
          "2024-01-19T23:00:00",
          "2024-01-20T23:00:00",
          "2024-01-21T23:00:00",
          "2024-01-22T23:00:00",
          "2024-01-23T23:00:00",
          "2024-01-24T23:00:00",
          "2024-01-25T23:00:00",
          "2024-01-26T23:00:00"
         ],
         "y": [
          30.32762743005662,
          30.09911912860413,
          29.088312562017787,
          28.638276516235265,
          30.849535788713116,
          30.74636607365917,
          29.970457365331228,
          29.85889626454521,
          29.630387963094357,
          28.61958139654188,
          28.16954535075981,
          30.380804623288256,
          30.277634908966874,
          29.501726201458354,
          29.39016510149067,
          29.16165680085647,
          28.150850235121688,
          27.700814190155093,
          29.91207346350745,
          29.80890374918357,
          29.03299504170802,
          28.92143394174358,
          28.692925641111017,
          27.68211907866178,
          27.232083037019507,
          29.443342313694668,
          29.340172602691496,
          28.564263898539522,
          28.452702801988252,
          28.224194504585803,
          27.213387942135906,
          26.763351900529862,
          28.974611177204977,
          28.871441466204026,
          28.095532762357262,
          27.98397166614867,
          27.75546336909071,
          26.74465680698248,
          26.294620765721096,
          28.50588004273935,
          28.402710332079437,
          27.626801628233743,
          27.51524053202512,
          27.28673223499788,
          26.275925672896122,
          25.825890351598865,
          28.037150348448783,
          27.933981357702006,
          27.15807337377302,
          27.046512997478448,
          26.818005420370838,
          25.807199578183997,
          25.357164256888552,
          27.568424253738282,
          27.46525526302536,
          26.689347279186453,
          26.577788701249503,
          26.34928292255202,
          25.338478878809013,
          24.88844535596217,
          27.099707151252254,
          26.996539958988716,
          26.220633773596475,
          26.109075195659354,
          25.88056941696194,
          24.869765373254367,
          24.419731850407977,
          26.630993688215504,
          26.527826538433747,
          25.751920395561555,
          25.640361860142207,
          25.411856123965805,
          24.40105212283175,
          23.951018642444414,
          26.16228048025254,
          26.059113330468982,
          25.28320718759891,
          25.17164865221248,
          24.943143219158372,
          23.93233952115288,
          23.48230634385787,
          25.693568484791378,
          25.590401638133947,
          24.81449579838863,
          24.702937566127744,
          24.47443213307349,
          23.46362843506577,
          23.01359525776787,
          25.22485739874093,
          25.121690841785792,
          24.345785291555593,
          24.23422734887264,
          24.00572220542893,
          22.994918797031026,
          22.544885909346455,
          24.7561483399298,
          24.652981782972162,
          23.87707623274421,
          23.76551829005934,
          23.53701314670994,
          22.526209739320002,
          22.076176852702247,
          24.287439284319184,
          24.184272728429477,
          23.408367179266204,
          23.2968092376462,
          23.068304095363537,
          22.057500687972947,
          21.607467801358045,
          23.818730232968477,
          23.715563677082578,
          22.939658189404383,
          22.828100309241535,
          22.599595228407487,
          21.588791882439903,
          21.138759057274417,
          23.350021550427556,
          23.24685505590166,
          22.470949568224533,
          22.359391688059873,
          22.130886607225897,
          21.120083261257648,
          20.67005070584278,
          22.88131346871026,
          22.778147243897905,
          22.002242025903286,
          21.890684415450135,
          21.662179604332188,
          20.651376528077144,
          20.201343972664084,
          22.249783895839748,
          22.271107894304976,
          21.449065029977483,
          21.342370122526752,
          21.115447805457656,
          20.157605005594696,
          19.587877350950464,
          21.781077708848468,
          21.80240181654269,
          20.980359061407775,
          20.873664153860943,
          20.64674183689275,
          19.688899037064832,
          19.119171382422273,
          21.312371740320984,
          21.33369601046649,
          20.511653417785766,
          20.404958672690327,
          20.178036518175468,
          19.220193880800093,
          18.650466388575175,
          20.843666908926693,
          20.864991179074387,
          20.042948586428047,
          19.936253841332512,
          19.709331686819247,
          18.75199831450187,
          18.182780087269563,
          20.37648987274932,
          20.398323407954333,
          19.57679008036822,
          19.47060460033188,
          19.244191710836876,
          18.28685833852595,
          17.717640111290322,
          19.911349896808893,
          19.93318343201067,
          19.11829260235971,
          19.018749620255942,
          18.798979228698972,
          17.848288354321355,
          17.285712625021954,
          19.486064908475115,
          19.514540941573642,
          18.69965011182075,
          18.600107129820298,
          18.380336738299274,
          17.42964586391954,
          16.880808974932798,
          19.094900098690413,
          19.13711497210253,
          18.335962982660465,
          18.25015884097015,
          18.04412728975948,
          17.107175255653203,
          16.558338366667144,
          18.772429490424244,
          18.814644363872336,
          18.013492374432584,
          17.947530729748507,
          17.761341675547012,
          16.84423213838336,
          16.315237746464497,
          18.549171367228702,
          18.61122873768116,
          17.829919245249908,
          17.763957600526677,
          17.57776854632209,
          16.660659009160998,
          16.131664617280798,
          18.383049999828938,
          18.462559131965687,
          17.698701401417665,
          17.65019151847828,
          17.481454226057412,
          16.581796450678098,
          16.070253820579175,
          18.321639203094644,
          18.40114833523146,
          17.637290604679688,
          17.5887807217798,
          17.426228272774015,
          16.532755340809,
          16.027397554127578,
          18.284967780058047,
          18.37066175560725,
          17.61298886847274,
          17.570663828985875,
          17.408111379882286,
          16.514638447978555,
          16.0092806612977,
          18.266850887266983,
          18.355261555594176,
          17.600305361235026,
          17.560697014523498,
          17.400861258197175,
          16.510105019069933,
          16.007463925168764,
          18.267750843908622,
          18.35616151223985,
          17.601205317841718,
          17.561596971135323,
          17.40176121480561,
          16.514153578282105,
          16.01466108693872,
          18.278096608138377,
          18.36965587913035,
          17.617848287294077,
          17.58138854314676,
          17.424701389378047,
          16.537093752853888,
          16.037601261474947,
          18.301036782674203,
          18.392596053665603,
          17.64180399021579,
          17.60635977431232,
          17.45068814899105,
          16.564096040812014,
          16.065619077781108,
          18.33007012732084,
          18.42264492666329,
          17.671852863214465,
          17.63640864730919,
          17.48073702194871,
          16.59414491377136,
          16.095689669290387,
          18.360162437350876,
          18.452758955206306,
          17.701988610273638,
          17.66656611288382,
          17.51091620604354,
          16.62434581637745,
          16.125890571796916,
          18.390363339959347,
          18.482959857776308,
          17.73218951284159,
          17.696767017035775,
          17.54111711181056,
          16.65454672372439,
          16.156091480726865,
          18.420564250470704,
          18.513160769867767,
          17.762390426511462,
          17.726967930705552,
          17.57131802548193,
          16.68474763735752,
          16.186292394355625,
          18.450765181141545,
          18.543361717613458,
          17.792591391195806,
          17.757168912527284,
          17.601519024341048,
          16.714948653256837,
          16.21649342729016,
          18.480966214076904,
          18.573562750545577,
          17.822792424128522,
          17.787369945421915,
          17.63172005723446,
          16.74514968608956,
          16.246694460224802,
          18.51116724701159,
          18.603763783477692,
          17.852993457062947,
          17.817570978356294,
          17.661921090168676,
          16.775350719021663,
          16.276895493159337,
          18.5413682799018,
          18.63396481637458,
          17.88319448995608,
          17.847772011288917,
          17.692122123101427,
          16.805551751959403,
          16.30709652609398,
          18.571569312836484,
          18.664165849210985,
          17.913395522890504,
          17.877973044223296,
          17.722323155999362,
          16.835752784854503,
          16.33729755899052,
          18.60177034577184,
          18.6943668821431,
          17.943596555826165,
          17.90817407715592,
          17.752524188932114,
          16.865953817787478,
          16.367498591925166,
          18.631971378706528,
          18.72456791507522,
          17.973797588721006,
          17.93837511005419,
          17.782725221763744,
          16.896154850719576,
          16.397699624854646,
          18.662172411641883,
          18.754768948008657,
          18.00399862165372,
          17.968576142986812,
          17.812926254699555,
          16.926355883651674,
          16.4279006577513,
          18.692373444429634,
          18.784969980904222,
          18.03419965458815,
          17.99877717591931,
          17.84312728763377,
          16.956556916584645,
          16.458101690685837,
          18.722574477364986,
          18.815171013840423,
          18.064400687522575,
          18.02897820881582,
          17.873328320527186,
          16.986757949479745,
          16.488302723620478,
          18.752775510299678,
          18.845372046772543,
          18.09460172045529,
          18.059179241686955,
          17.903529353461398,
          17.01695898241749,
          16.518503756555123,
          18.78297654323503,
          18.875573079669426,
          18.12480275335013,
          18.089380274581583,
          17.93373038639415,
          17.047160015349583,
          16.548704789489655,
          18.81317757616972,
          18.905774112601545,
          18.155003786285793,
          18.119581307515965,
          17.963931419328365,
          17.07736104824556,
          16.578905822279914,
          18.84337860905993,
          18.935975145534982,
          18.185204819220218,
          18.14978234044859,
          17.994132452261116,
          17.107562081177655,
          16.60910685521456,
          18.873579641994613,
          18.9661761784671,
          18.215405852050104,
          18.179983373346857,
          18.02433348515905,
          17.137763114110633,
          16.639307888149204,
          18.90378067492997,
          18.99637721140054,
          18.245606884987474,
          18.210184406279474,
          18.0545345180918,
          17.167964147042728,
          16.669508921083736,
          18.93398170782611,
          19.026578244298868,
          18.275807917880602,
          18.240385439212098,
          18.084735551026018,
          17.198165179880224,
          16.69970995401333,
          18.96418274076147,
          19.05677927723231,
          18.306008950815034,
          18.27058647214648,
          18.11493658391943,
          17.228366212775324,
          16.72991098690987,
          18.994383773696825,
          19.086980310164424,
          18.336209983747747,
          18.30078750507722,
          18.145137616853646,
          17.2585672457083,
          16.760112019844517,
          19.02458480663151,
          19.11718134300083,
          18.366411016642587,
          18.33098853797549,
          18.17533864978786,
          17.288768278640397,
          16.790313052779048,
          19.054785839560264,
          19.14738237593295,
          18.396612049575303,
          18.36118957090811,
          18.205539682621087,
          17.318969311578137,
          16.820514085675704,
          19.084986872456405,
          19.177583408829832,
          18.42681308250973,
          18.391390603842492,
          18.235740715555302,
          17.349170344510235,
          16.850715118610236,
          19.115187905391764,
          19.207784441761948,
          18.45701411544539,
          18.421591636739,
          18.265941748448714,
          17.37937137740621
         ]
        },
        {
         "fill": "tonexty",
         "mode": "none",
         "name": "Upper Confidence Interval",
         "type": "scatter",
         "x": [
          "2022-11-17T00:00:00",
          "2022-11-18T00:00:00",
          "2022-11-19T00:00:00",
          "2022-11-20T00:00:00",
          "2022-11-21T00:00:00",
          "2022-11-22T00:00:00",
          "2022-11-23T00:00:00",
          "2022-11-24T00:00:00",
          "2022-11-25T00:00:00",
          "2022-11-26T00:00:00",
          "2022-11-27T00:00:00",
          "2022-11-28T00:00:00",
          "2022-11-29T00:00:00",
          "2022-11-30T00:00:00",
          "2022-12-01T00:00:00",
          "2022-12-02T00:00:00",
          "2022-12-03T00:00:00",
          "2022-12-04T00:00:00",
          "2022-12-05T00:00:00",
          "2022-12-06T00:00:00",
          "2022-12-07T00:00:00",
          "2022-12-08T00:00:00",
          "2022-12-09T00:00:00",
          "2022-12-10T00:00:00",
          "2022-12-11T00:00:00",
          "2022-12-12T00:00:00",
          "2022-12-13T00:00:00",
          "2022-12-14T00:00:00",
          "2022-12-15T00:00:00",
          "2022-12-16T00:00:00",
          "2022-12-17T00:00:00",
          "2022-12-18T00:00:00",
          "2022-12-19T00:00:00",
          "2022-12-20T00:00:00",
          "2022-12-21T00:00:00",
          "2022-12-22T00:00:00",
          "2022-12-23T00:00:00",
          "2022-12-24T00:00:00",
          "2022-12-25T00:00:00",
          "2022-12-26T00:00:00",
          "2022-12-27T00:00:00",
          "2022-12-28T00:00:00",
          "2022-12-29T00:00:00",
          "2022-12-30T00:00:00",
          "2022-12-31T00:00:00",
          "2023-01-01T00:00:00",
          "2023-01-02T00:00:00",
          "2023-01-03T00:00:00",
          "2023-01-04T00:00:00",
          "2023-01-05T00:00:00",
          "2023-01-06T00:00:00",
          "2023-01-07T00:00:00",
          "2023-01-08T00:00:00",
          "2023-01-09T00:00:00",
          "2023-01-10T00:00:00",
          "2023-01-11T00:00:00",
          "2023-01-12T00:00:00",
          "2023-01-13T00:00:00",
          "2023-01-14T00:00:00",
          "2023-01-15T00:00:00",
          "2023-01-16T00:00:00",
          "2023-01-17T00:00:00",
          "2023-01-18T00:00:00",
          "2023-01-19T00:00:00",
          "2023-01-20T00:00:00",
          "2023-01-21T00:00:00",
          "2023-01-22T00:00:00",
          "2023-01-23T00:00:00",
          "2023-01-24T00:00:00",
          "2023-01-25T00:00:00",
          "2023-01-26T00:00:00",
          "2023-01-27T00:00:00",
          "2023-01-28T00:00:00",
          "2023-01-29T00:00:00",
          "2023-01-30T00:00:00",
          "2023-01-31T00:00:00",
          "2023-02-01T00:00:00",
          "2023-02-02T00:00:00",
          "2023-02-03T00:00:00",
          "2023-02-04T00:00:00",
          "2023-02-05T00:00:00",
          "2023-02-06T00:00:00",
          "2023-02-07T00:00:00",
          "2023-02-08T00:00:00",
          "2023-02-09T00:00:00",
          "2023-02-10T00:00:00",
          "2023-02-11T00:00:00",
          "2023-02-12T00:00:00",
          "2023-02-13T00:00:00",
          "2023-02-14T00:00:00",
          "2023-02-15T00:00:00",
          "2023-02-16T00:00:00",
          "2023-02-17T00:00:00",
          "2023-02-18T00:00:00",
          "2023-02-19T00:00:00",
          "2023-02-20T00:00:00",
          "2023-02-21T00:00:00",
          "2023-02-22T00:00:00",
          "2023-02-23T00:00:00",
          "2023-02-24T00:00:00",
          "2023-02-25T00:00:00",
          "2023-02-26T00:00:00",
          "2023-02-27T00:00:00",
          "2023-02-28T00:00:00",
          "2023-03-01T00:00:00",
          "2023-03-02T00:00:00",
          "2023-03-03T00:00:00",
          "2023-03-04T00:00:00",
          "2023-03-05T00:00:00",
          "2023-03-06T00:00:00",
          "2023-03-07T00:00:00",
          "2023-03-08T00:00:00",
          "2023-03-09T00:00:00",
          "2023-03-10T00:00:00",
          "2023-03-11T00:00:00",
          "2023-03-12T00:00:00",
          "2023-03-13T00:00:00",
          "2023-03-14T00:00:00",
          "2023-03-15T00:00:00",
          "2023-03-16T00:00:00",
          "2023-03-17T00:00:00",
          "2023-03-18T00:00:00",
          "2023-03-19T00:00:00",
          "2023-03-20T00:00:00",
          "2023-03-21T00:00:00",
          "2023-03-22T00:00:00",
          "2023-03-23T00:00:00",
          "2023-03-24T00:00:00",
          "2023-03-25T00:00:00",
          "2023-03-26T00:00:00",
          "2023-03-26T23:00:00",
          "2023-03-27T23:00:00",
          "2023-03-28T23:00:00",
          "2023-03-29T23:00:00",
          "2023-03-30T23:00:00",
          "2023-03-31T23:00:00",
          "2023-04-01T23:00:00",
          "2023-04-02T23:00:00",
          "2023-04-03T23:00:00",
          "2023-04-04T23:00:00",
          "2023-04-05T23:00:00",
          "2023-04-06T23:00:00",
          "2023-04-07T23:00:00",
          "2023-04-08T23:00:00",
          "2023-04-09T23:00:00",
          "2023-04-10T23:00:00",
          "2023-04-11T23:00:00",
          "2023-04-12T23:00:00",
          "2023-04-13T23:00:00",
          "2023-04-14T23:00:00",
          "2023-04-15T23:00:00",
          "2023-04-16T23:00:00",
          "2023-04-17T23:00:00",
          "2023-04-18T23:00:00",
          "2023-04-19T23:00:00",
          "2023-04-20T23:00:00",
          "2023-04-21T23:00:00",
          "2023-04-22T23:00:00",
          "2023-04-23T23:00:00",
          "2023-04-24T23:00:00",
          "2023-04-25T23:00:00",
          "2023-04-26T23:00:00",
          "2023-04-27T23:00:00",
          "2023-04-28T23:00:00",
          "2023-04-29T23:00:00",
          "2023-04-30T23:00:00",
          "2023-05-01T23:00:00",
          "2023-05-02T23:00:00",
          "2023-05-03T23:00:00",
          "2023-05-04T23:00:00",
          "2023-05-05T23:00:00",
          "2023-05-06T23:00:00",
          "2023-05-07T23:00:00",
          "2023-05-08T23:00:00",
          "2023-05-09T23:00:00",
          "2023-05-10T23:00:00",
          "2023-05-11T23:00:00",
          "2023-05-12T23:00:00",
          "2023-05-13T23:00:00",
          "2023-05-14T23:00:00",
          "2023-05-15T23:00:00",
          "2023-05-16T23:00:00",
          "2023-05-17T23:00:00",
          "2023-05-18T23:00:00",
          "2023-05-19T23:00:00",
          "2023-05-20T23:00:00",
          "2023-05-21T23:00:00",
          "2023-05-22T23:00:00",
          "2023-05-23T23:00:00",
          "2023-05-24T23:00:00",
          "2023-05-25T23:00:00",
          "2023-05-26T23:00:00",
          "2023-05-27T23:00:00",
          "2023-05-28T23:00:00",
          "2023-05-29T23:00:00",
          "2023-05-30T23:00:00",
          "2023-05-31T23:00:00",
          "2023-06-01T23:00:00",
          "2023-06-02T23:00:00",
          "2023-06-03T23:00:00",
          "2023-06-04T23:00:00",
          "2023-06-05T23:00:00",
          "2023-06-06T23:00:00",
          "2023-06-07T23:00:00",
          "2023-06-08T23:00:00",
          "2023-06-09T23:00:00",
          "2023-06-10T23:00:00",
          "2023-06-11T23:00:00",
          "2023-06-12T23:00:00",
          "2023-06-13T23:00:00",
          "2023-06-14T23:00:00",
          "2023-06-15T23:00:00",
          "2023-06-16T23:00:00",
          "2023-06-17T23:00:00",
          "2023-06-18T23:00:00",
          "2023-06-19T23:00:00",
          "2023-06-20T23:00:00",
          "2023-06-21T23:00:00",
          "2023-06-22T23:00:00",
          "2023-06-23T23:00:00",
          "2023-06-24T23:00:00",
          "2023-06-25T23:00:00",
          "2023-06-26T23:00:00",
          "2023-06-27T23:00:00",
          "2023-06-28T23:00:00",
          "2023-06-29T23:00:00",
          "2023-06-30T23:00:00",
          "2023-07-01T23:00:00",
          "2023-07-02T23:00:00",
          "2023-07-03T23:00:00",
          "2023-07-04T23:00:00",
          "2023-07-05T23:00:00",
          "2023-07-06T23:00:00",
          "2023-07-07T23:00:00",
          "2023-07-08T23:00:00",
          "2023-07-09T23:00:00",
          "2023-07-10T23:00:00",
          "2023-07-11T23:00:00",
          "2023-07-12T23:00:00",
          "2023-07-13T23:00:00",
          "2023-07-14T23:00:00",
          "2023-07-15T23:00:00",
          "2023-07-16T23:00:00",
          "2023-07-17T23:00:00",
          "2023-07-18T23:00:00",
          "2023-07-19T23:00:00",
          "2023-07-20T23:00:00",
          "2023-07-21T23:00:00",
          "2023-07-22T23:00:00",
          "2023-07-23T23:00:00",
          "2023-07-24T23:00:00",
          "2023-07-25T23:00:00",
          "2023-07-26T23:00:00",
          "2023-07-27T23:00:00",
          "2023-07-28T23:00:00",
          "2023-07-29T23:00:00",
          "2023-07-30T23:00:00",
          "2023-07-31T23:00:00",
          "2023-08-01T23:00:00",
          "2023-08-02T23:00:00",
          "2023-08-03T23:00:00",
          "2023-08-04T23:00:00",
          "2023-08-05T23:00:00",
          "2023-08-06T23:00:00",
          "2023-08-07T23:00:00",
          "2023-08-08T23:00:00",
          "2023-08-09T23:00:00",
          "2023-08-10T23:00:00",
          "2023-08-11T23:00:00",
          "2023-08-12T23:00:00",
          "2023-08-13T23:00:00",
          "2023-08-14T23:00:00",
          "2023-08-15T23:00:00",
          "2023-08-16T23:00:00",
          "2023-08-17T23:00:00",
          "2023-08-18T23:00:00",
          "2023-08-19T23:00:00",
          "2023-08-20T23:00:00",
          "2023-08-21T23:00:00",
          "2023-08-22T23:00:00",
          "2023-08-23T23:00:00",
          "2023-08-24T23:00:00",
          "2023-08-25T23:00:00",
          "2023-08-26T23:00:00",
          "2023-08-27T23:00:00",
          "2023-08-28T23:00:00",
          "2023-08-29T23:00:00",
          "2023-08-30T23:00:00",
          "2023-08-31T23:00:00",
          "2023-09-01T23:00:00",
          "2023-09-02T23:00:00",
          "2023-09-03T23:00:00",
          "2023-09-04T23:00:00",
          "2023-09-05T23:00:00",
          "2023-09-06T23:00:00",
          "2023-09-07T23:00:00",
          "2023-09-08T23:00:00",
          "2023-09-09T23:00:00",
          "2023-09-10T23:00:00",
          "2023-09-11T23:00:00",
          "2023-09-12T23:00:00",
          "2023-09-13T23:00:00",
          "2023-09-14T23:00:00",
          "2023-09-15T23:00:00",
          "2023-09-16T23:00:00",
          "2023-09-17T23:00:00",
          "2023-09-18T23:00:00",
          "2023-09-19T23:00:00",
          "2023-09-20T23:00:00",
          "2023-09-21T23:00:00",
          "2023-09-22T23:00:00",
          "2023-09-23T23:00:00",
          "2023-09-24T23:00:00",
          "2023-09-25T23:00:00",
          "2023-09-26T23:00:00",
          "2023-09-27T23:00:00",
          "2023-09-28T23:00:00",
          "2023-09-29T23:00:00",
          "2023-09-30T23:00:00",
          "2023-10-01T23:00:00",
          "2023-10-02T23:00:00",
          "2023-10-03T23:00:00",
          "2023-10-04T23:00:00",
          "2023-10-05T23:00:00",
          "2023-10-06T23:00:00",
          "2023-10-07T23:00:00",
          "2023-10-08T23:00:00",
          "2023-10-09T23:00:00",
          "2023-10-10T23:00:00",
          "2023-10-11T23:00:00",
          "2023-10-12T23:00:00",
          "2023-10-13T23:00:00",
          "2023-10-14T23:00:00",
          "2023-10-15T23:00:00",
          "2023-10-16T23:00:00",
          "2023-10-17T23:00:00",
          "2023-10-18T23:00:00",
          "2023-10-19T23:00:00",
          "2023-10-20T23:00:00",
          "2023-10-21T23:00:00",
          "2023-10-22T23:00:00",
          "2023-10-23T23:00:00",
          "2023-10-24T23:00:00",
          "2023-10-25T23:00:00",
          "2023-10-26T23:00:00",
          "2023-10-27T23:00:00",
          "2023-10-28T23:00:00",
          "2023-10-29T23:00:00",
          "2023-10-30T23:00:00",
          "2023-10-31T23:00:00",
          "2023-11-01T23:00:00",
          "2023-11-02T23:00:00",
          "2023-11-03T23:00:00",
          "2023-11-04T23:00:00",
          "2023-11-05T23:00:00",
          "2023-11-06T23:00:00",
          "2023-11-07T23:00:00",
          "2023-11-08T23:00:00",
          "2023-11-09T23:00:00",
          "2023-11-10T23:00:00",
          "2023-11-11T23:00:00",
          "2023-11-12T23:00:00",
          "2023-11-13T23:00:00",
          "2023-11-14T23:00:00",
          "2023-11-15T23:00:00",
          "2023-11-16T23:00:00",
          "2023-11-17T23:00:00",
          "2023-11-18T23:00:00",
          "2023-11-19T23:00:00",
          "2023-11-20T23:00:00",
          "2023-11-21T23:00:00",
          "2023-11-22T23:00:00",
          "2023-11-23T23:00:00",
          "2023-11-24T23:00:00",
          "2023-11-25T23:00:00",
          "2023-11-26T23:00:00",
          "2023-11-27T23:00:00",
          "2023-11-28T23:00:00",
          "2023-11-29T23:00:00",
          "2023-11-30T23:00:00",
          "2023-12-01T23:00:00",
          "2023-12-02T23:00:00",
          "2023-12-03T23:00:00",
          "2023-12-04T23:00:00",
          "2023-12-05T23:00:00",
          "2023-12-06T23:00:00",
          "2023-12-07T23:00:00",
          "2023-12-08T23:00:00",
          "2023-12-09T23:00:00",
          "2023-12-10T23:00:00",
          "2023-12-11T23:00:00",
          "2023-12-12T23:00:00",
          "2023-12-13T23:00:00",
          "2023-12-14T23:00:00",
          "2023-12-15T23:00:00",
          "2023-12-16T23:00:00",
          "2023-12-17T23:00:00",
          "2023-12-18T23:00:00",
          "2023-12-19T23:00:00",
          "2023-12-20T23:00:00",
          "2023-12-21T23:00:00",
          "2023-12-22T23:00:00",
          "2023-12-23T23:00:00",
          "2023-12-24T23:00:00",
          "2023-12-25T23:00:00",
          "2023-12-26T23:00:00",
          "2023-12-27T23:00:00",
          "2023-12-28T23:00:00",
          "2023-12-29T23:00:00",
          "2023-12-30T23:00:00",
          "2023-12-31T23:00:00",
          "2024-01-01T23:00:00",
          "2024-01-02T23:00:00",
          "2024-01-03T23:00:00",
          "2024-01-04T23:00:00",
          "2024-01-05T23:00:00",
          "2024-01-06T23:00:00",
          "2024-01-07T23:00:00",
          "2024-01-08T23:00:00",
          "2024-01-09T23:00:00",
          "2024-01-10T23:00:00",
          "2024-01-11T23:00:00",
          "2024-01-12T23:00:00",
          "2024-01-13T23:00:00",
          "2024-01-14T23:00:00",
          "2024-01-15T23:00:00",
          "2024-01-16T23:00:00",
          "2024-01-17T23:00:00",
          "2024-01-18T23:00:00",
          "2024-01-19T23:00:00",
          "2024-01-20T23:00:00",
          "2024-01-21T23:00:00",
          "2024-01-22T23:00:00",
          "2024-01-23T23:00:00",
          "2024-01-24T23:00:00",
          "2024-01-25T23:00:00",
          "2024-01-26T23:00:00"
         ],
         "y": [
          34.976652591373075,
          34.41324164748483,
          33.41571168962507,
          33.19041436229058,
          35.307990186329945,
          35.38855903727544,
          34.69529254424614,
          34.64769967862534,
          34.304771087578516,
          33.21929181510501,
          32.355549660799404,
          34.89901630629884,
          34.888600152001416,
          33.62757298643253,
          34.06649339095309,
          33.72948846266062,
          32.47730329278729,
          32.38929467866295,
          34.170627389722085,
          34.429099552703015,
          33.60900004047349,
          33.157032778808194,
          33.31282121162482,
          32.25481700829069,
          31.74427805438601,
          34.09288139161392,
          33.882578135667536,
          33.418839164607135,
          32.87359286116833,
          33.08796430288162,
          31.78087075592317,
          31.613907372149445,
          33.57823645540182,
          33.2591345119665,
          32.87407146512986,
          32.394856230321764,
          32.327795973354924,
          31.20901689929002,
          30.71784307078752,
          33.18052044227181,
          32.96365087377928,
          31.887886053345095,
          31.83853403081462,
          31.61984982229746,
          30.946936194385277,
          30.26212920994302,
          32.33799670033392,
          32.45247420657419,
          31.557805962844434,
          31.248218094272918,
          31.27717158052613,
          30.409975512354663,
          29.67966206275007,
          32.17567866561696,
          31.89084869231011,
          31.1128728195546,
          31.223114646313594,
          31.022860823138405,
          29.83547259150874,
          29.649861889183473,
          31.801411839158515,
          31.579059426993137,
          31.01861375702173,
          30.640480151064864,
          30.207188544097853,
          29.494659001113934,
          29.074106672897358,
          31.144994170482406,
          30.878863547773612,
          30.41953036033216,
          30.114283250448395,
          30.051979166503475,
          29.004301872050416,
          28.48281708706247,
          30.400343978143304,
          30.57020358586337,
          29.746713023416007,
          29.900532976057345,
          29.58250736383802,
          28.52861824753628,
          28.221985967974522,
          30.298912918234223,
          30.007692563198653,
          29.47629273672584,
          29.3323784530865,
          29.000763027662074,
          27.92415170133088,
          27.561971931912144,
          29.63937664934572,
          29.79896419801292,
          29.093245848798027,
          28.907606569156766,
          28.54721035761635,
          27.765182949677794,
          27.068597934843034,
          29.54575044486383,
          29.180603843808697,
          28.49150492988846,
          28.36637266862229,
          27.811040099381767,
          26.793024935803317,
          26.33258917196857,
          28.788665934985445,
          28.6781202625439,
          28.007511823467244,
          27.976885158412717,
          27.723870196336005,
          26.474788602861402,
          26.539057629109134,
          28.29272148916641,
          28.078865233877867,
          27.324377451211046,
          27.103035637679806,
          26.93600018771482,
          26.170255262695115,
          25.66380182360573,
          27.780457456030117,
          27.71101388898039,
          26.64682878014363,
          26.896841529442746,
          26.627309757948726,
          25.597260993389593,
          25.233145577440602,
          27.665014122608127,
          27.38860486046888,
          26.703432643459433,
          26.33587408462158,
          26.294567551676618,
          25.23289810948102,
          24.87988722066372,
          26.61264868060329,
          27.070138004469264,
          25.6129715660383,
          25.687715506127297,
          25.562713542412265,
          24.820178944812167,
          24.137018948639227,
          26.27588555261956,
          26.11790363363752,
          25.256633155598912,
          25.281567699599794,
          25.198441386546424,
          24.356039948580396,
          23.841068802708353,
          25.892713776015132,
          25.813319560425818,
          25.01666883238954,
          24.88509174141322,
          24.287890742476982,
          23.829798985139604,
          23.544121659261442,
          25.42523066997538,
          25.471610175884212,
          24.853436384125782,
          24.746551383148834,
          24.172064351599207,
          23.483017971468904,
          22.931428211623157,
          25.084785483760857,
          24.79062097294572,
          24.417386916354662,
          24.17998289645858,
          23.986101541433342,
          22.783849312575427,
          22.197979837073788,
          24.67261016707343,
          24.39278373559515,
          23.592377702040018,
          23.90019960955924,
          23.50506432356461,
          22.371871810186203,
          22.083662222219672,
          23.988003431495653,
          24.026083322405647,
          23.12464633736035,
          23.210922257834774,
          23.032747385826898,
          22.05229740253009,
          21.500240953353547,
          23.83694347818795,
          23.591380947985236,
          23.127842791995437,
          23.083092145079412,
          22.95582242271639,
          21.85463559473717,
          21.025269512567807,
          23.230946055481933,
          23.42680466148871,
          22.366315409392527,
          22.452325634890762,
          22.37196710200291,
          21.623368512018885,
          20.845392383249898,
          22.882346403272994,
          23.02642311507658,
          22.521193823091107,
          22.47728151408534,
          22.287616031920532,
          21.279378852045774,
          20.674861245175812,
          23.077674524002976,
          22.75383556187158,
          22.184722166162718,
          21.914650412767802,
          21.955892882127966,
          21.03675019195725,
          20.939539316829336,
          22.936951030726675,
          22.801619804424014,
          22.112449169333278,
          21.95047276941189,
          21.832882295210783,
          21.234449563203768,
          20.454175335990506,
          23.01908174731138,
          22.657640573896447,
          22.3730237447145,
          22.19541760606804,
          21.83290008144378,
          20.87311057777033,
          20.761249465809193,
          22.938315686124273,
          22.790154000438434,
          21.938355878621085,
          22.285546385176964,
          21.898092757422763,
          20.74007667189953,
          20.56877709329728,
          22.726271463281357,
          22.86820704522136,
          22.169201156701156,
          22.32904095819356,
          22.14962495410147,
          20.85481765658974,
          20.541255951557158,
          22.680242963038946,
          22.532939202267915,
          22.24095207765429,
          22.281883779769593,
          22.211968370295942,
          21.153006343083995,
          20.29821892905708,
          22.98411224667023,
          22.852011095434285,
          21.94414951778814,
          22.235200681434875,
          21.8933233064524,
          20.931489703131053,
          20.690517397397972,
          22.857247752569208,
          23.177524525844664,
          22.034010489940606,
          21.88690633081026,
          22.363797742794617,
          21.025088498856316,
          20.845068069201197,
          23.198399250865204,
          23.239027946968207,
          21.863994524879185,
          22.09295234199383,
          22.03085971514193,
          21.1876515030157,
          20.743763682073695,
          22.834274500877925,
          22.873798201578417,
          22.26029572513259,
          22.10278504015365,
          22.078292249969824,
          21.473908424941456,
          20.668122910308163,
          23.03328621732774,
          23.02882217003237,
          22.26291269277413,
          22.24524637783113,
          22.305857098205383,
          21.167264970941634,
          20.63012540483537,
          23.240968142523478,
          22.94282796613749,
          22.510454519458225,
          22.32576516771086,
          22.283042670269314,
          21.04159425961838,
          20.68361273131211,
          23.09726613963109,
          22.903527985105697,
          22.389197280808045,
          22.43667547900629,
          22.119310647311192,
          21.46316517344926,
          20.958834298354443,
          22.957350583980382,
          23.362897600626173,
          22.751029815979564,
          22.182277744223395,
          22.305888568060023,
          21.297383725657618,
          20.853826841532083,
          23.148001294635172,
          23.16569669499276,
          22.51887386357134,
          22.153023394906345,
          22.134933848623373,
          21.51254847492115,
          20.680624924652516,
          23.344011405358295,
          23.10123678956961,
          22.288071408332844,
          22.466426645910616,
          22.507858824880298,
          21.087833353143715,
          20.744703735437387,
          22.98789048929159,
          23.472114212699644,
          22.199962649819255,
          22.389654710497627,
          21.910818346955573,
          21.27320590943504,
          21.000456756179716,
          23.1399198937891,
          23.012380460467742,
          22.446201960882792,
          22.8440577801965,
          22.361896144894285,
          21.54713914781748,
          20.758036064114084,
          23.178761914184633,
          23.50574675348203,
          22.6720734710876,
          22.860339562156987,
          22.88962650743185,
          21.394198390358262,
          20.960666279900284,
          23.257847236643993,
          23.22589298777214,
          23.04115953735622,
          22.3206302879553,
          22.59065214320071,
          21.444640208492025,
          21.113600344985905,
          23.136327522942835,
          23.454149629028695,
          22.71812006133632,
          22.56760003438385,
          22.453737057273635,
          21.644956539449474,
          21.076326576232493,
          23.271238602368694,
          23.75174623953394,
          22.537676322056914,
          22.654045900091596,
          22.327595065647824,
          21.83089678531744,
          20.8382506279781,
          23.271958174157025,
          23.299743088801282,
          22.86571971428411,
          22.80755488175423,
          22.66488517281779,
          21.676057780054762,
          20.96992071051235,
          23.381312830571122,
          23.6915136047207,
          22.917893179815746,
          22.52249298948469,
          22.29072510254829,
          21.31213996513099,
          21.042532020022037,
          23.02400706951489,
          23.594039098392983,
          22.762415778329313,
          22.694921319776675,
          22.75151763109117,
          21.791421446230814,
          21.154149618212944,
          23.477475383383826,
          23.443712996549824,
          22.322339519817305,
          22.698423737921217,
          22.43197499216455,
          21.362060564081357,
          20.93086799624913,
          23.477003006887276,
          23.623807126927176,
          22.867001052646692,
          22.41020120699034,
          22.54259528804595,
          22.167959005233048,
          21.391295040619347,
          23.638218739955853,
          23.743229119246894,
          22.748359092793784,
          22.701290489042293,
          22.580796134951516,
          21.66066369293079,
          21.609335093121413,
          23.36833040316994,
          23.86518989239892,
          22.812354682467195,
          22.578540751682365,
          22.523219732613097,
          21.646896357744886,
          21.016449414130093,
          23.18232323898635,
          23.36252795605282,
          22.999313426641837,
          22.936692758453834,
          22.567663051457412,
          22.04497787094062,
          21.352619751786758,
          23.615452865805448,
          23.58742041549235,
          22.685756320099173,
          23.17489300186737,
          22.67601794722628,
          21.744340539423092,
          21.74084932715065,
          23.481241345232228,
          23.333882350204764,
          23.2737161422892,
          22.916061231323855,
          22.720013617655123,
          21.99249409713053,
          21.259491462009535,
          23.64241899150903,
          23.596195057501646,
          22.837337664820616,
          22.71812239340425,
          22.885586769124735,
          22.104035670170536,
          21.47695548538648,
          23.623625311400072,
          24.065988771737093,
          23.032367649946266,
          23.043966550450346,
          22.87654245037845,
          22.043272034707734
         ]
        },
        {
         "fill": "tonexty",
         "mode": "none",
         "name": "Lower Confidence Interval",
         "type": "scatter",
         "x": [
          "2022-11-17T00:00:00",
          "2022-11-18T00:00:00",
          "2022-11-19T00:00:00",
          "2022-11-20T00:00:00",
          "2022-11-21T00:00:00",
          "2022-11-22T00:00:00",
          "2022-11-23T00:00:00",
          "2022-11-24T00:00:00",
          "2022-11-25T00:00:00",
          "2022-11-26T00:00:00",
          "2022-11-27T00:00:00",
          "2022-11-28T00:00:00",
          "2022-11-29T00:00:00",
          "2022-11-30T00:00:00",
          "2022-12-01T00:00:00",
          "2022-12-02T00:00:00",
          "2022-12-03T00:00:00",
          "2022-12-04T00:00:00",
          "2022-12-05T00:00:00",
          "2022-12-06T00:00:00",
          "2022-12-07T00:00:00",
          "2022-12-08T00:00:00",
          "2022-12-09T00:00:00",
          "2022-12-10T00:00:00",
          "2022-12-11T00:00:00",
          "2022-12-12T00:00:00",
          "2022-12-13T00:00:00",
          "2022-12-14T00:00:00",
          "2022-12-15T00:00:00",
          "2022-12-16T00:00:00",
          "2022-12-17T00:00:00",
          "2022-12-18T00:00:00",
          "2022-12-19T00:00:00",
          "2022-12-20T00:00:00",
          "2022-12-21T00:00:00",
          "2022-12-22T00:00:00",
          "2022-12-23T00:00:00",
          "2022-12-24T00:00:00",
          "2022-12-25T00:00:00",
          "2022-12-26T00:00:00",
          "2022-12-27T00:00:00",
          "2022-12-28T00:00:00",
          "2022-12-29T00:00:00",
          "2022-12-30T00:00:00",
          "2022-12-31T00:00:00",
          "2023-01-01T00:00:00",
          "2023-01-02T00:00:00",
          "2023-01-03T00:00:00",
          "2023-01-04T00:00:00",
          "2023-01-05T00:00:00",
          "2023-01-06T00:00:00",
          "2023-01-07T00:00:00",
          "2023-01-08T00:00:00",
          "2023-01-09T00:00:00",
          "2023-01-10T00:00:00",
          "2023-01-11T00:00:00",
          "2023-01-12T00:00:00",
          "2023-01-13T00:00:00",
          "2023-01-14T00:00:00",
          "2023-01-15T00:00:00",
          "2023-01-16T00:00:00",
          "2023-01-17T00:00:00",
          "2023-01-18T00:00:00",
          "2023-01-19T00:00:00",
          "2023-01-20T00:00:00",
          "2023-01-21T00:00:00",
          "2023-01-22T00:00:00",
          "2023-01-23T00:00:00",
          "2023-01-24T00:00:00",
          "2023-01-25T00:00:00",
          "2023-01-26T00:00:00",
          "2023-01-27T00:00:00",
          "2023-01-28T00:00:00",
          "2023-01-29T00:00:00",
          "2023-01-30T00:00:00",
          "2023-01-31T00:00:00",
          "2023-02-01T00:00:00",
          "2023-02-02T00:00:00",
          "2023-02-03T00:00:00",
          "2023-02-04T00:00:00",
          "2023-02-05T00:00:00",
          "2023-02-06T00:00:00",
          "2023-02-07T00:00:00",
          "2023-02-08T00:00:00",
          "2023-02-09T00:00:00",
          "2023-02-10T00:00:00",
          "2023-02-11T00:00:00",
          "2023-02-12T00:00:00",
          "2023-02-13T00:00:00",
          "2023-02-14T00:00:00",
          "2023-02-15T00:00:00",
          "2023-02-16T00:00:00",
          "2023-02-17T00:00:00",
          "2023-02-18T00:00:00",
          "2023-02-19T00:00:00",
          "2023-02-20T00:00:00",
          "2023-02-21T00:00:00",
          "2023-02-22T00:00:00",
          "2023-02-23T00:00:00",
          "2023-02-24T00:00:00",
          "2023-02-25T00:00:00",
          "2023-02-26T00:00:00",
          "2023-02-27T00:00:00",
          "2023-02-28T00:00:00",
          "2023-03-01T00:00:00",
          "2023-03-02T00:00:00",
          "2023-03-03T00:00:00",
          "2023-03-04T00:00:00",
          "2023-03-05T00:00:00",
          "2023-03-06T00:00:00",
          "2023-03-07T00:00:00",
          "2023-03-08T00:00:00",
          "2023-03-09T00:00:00",
          "2023-03-10T00:00:00",
          "2023-03-11T00:00:00",
          "2023-03-12T00:00:00",
          "2023-03-13T00:00:00",
          "2023-03-14T00:00:00",
          "2023-03-15T00:00:00",
          "2023-03-16T00:00:00",
          "2023-03-17T00:00:00",
          "2023-03-18T00:00:00",
          "2023-03-19T00:00:00",
          "2023-03-20T00:00:00",
          "2023-03-21T00:00:00",
          "2023-03-22T00:00:00",
          "2023-03-23T00:00:00",
          "2023-03-24T00:00:00",
          "2023-03-25T00:00:00",
          "2023-03-26T00:00:00",
          "2023-03-26T23:00:00",
          "2023-03-27T23:00:00",
          "2023-03-28T23:00:00",
          "2023-03-29T23:00:00",
          "2023-03-30T23:00:00",
          "2023-03-31T23:00:00",
          "2023-04-01T23:00:00",
          "2023-04-02T23:00:00",
          "2023-04-03T23:00:00",
          "2023-04-04T23:00:00",
          "2023-04-05T23:00:00",
          "2023-04-06T23:00:00",
          "2023-04-07T23:00:00",
          "2023-04-08T23:00:00",
          "2023-04-09T23:00:00",
          "2023-04-10T23:00:00",
          "2023-04-11T23:00:00",
          "2023-04-12T23:00:00",
          "2023-04-13T23:00:00",
          "2023-04-14T23:00:00",
          "2023-04-15T23:00:00",
          "2023-04-16T23:00:00",
          "2023-04-17T23:00:00",
          "2023-04-18T23:00:00",
          "2023-04-19T23:00:00",
          "2023-04-20T23:00:00",
          "2023-04-21T23:00:00",
          "2023-04-22T23:00:00",
          "2023-04-23T23:00:00",
          "2023-04-24T23:00:00",
          "2023-04-25T23:00:00",
          "2023-04-26T23:00:00",
          "2023-04-27T23:00:00",
          "2023-04-28T23:00:00",
          "2023-04-29T23:00:00",
          "2023-04-30T23:00:00",
          "2023-05-01T23:00:00",
          "2023-05-02T23:00:00",
          "2023-05-03T23:00:00",
          "2023-05-04T23:00:00",
          "2023-05-05T23:00:00",
          "2023-05-06T23:00:00",
          "2023-05-07T23:00:00",
          "2023-05-08T23:00:00",
          "2023-05-09T23:00:00",
          "2023-05-10T23:00:00",
          "2023-05-11T23:00:00",
          "2023-05-12T23:00:00",
          "2023-05-13T23:00:00",
          "2023-05-14T23:00:00",
          "2023-05-15T23:00:00",
          "2023-05-16T23:00:00",
          "2023-05-17T23:00:00",
          "2023-05-18T23:00:00",
          "2023-05-19T23:00:00",
          "2023-05-20T23:00:00",
          "2023-05-21T23:00:00",
          "2023-05-22T23:00:00",
          "2023-05-23T23:00:00",
          "2023-05-24T23:00:00",
          "2023-05-25T23:00:00",
          "2023-05-26T23:00:00",
          "2023-05-27T23:00:00",
          "2023-05-28T23:00:00",
          "2023-05-29T23:00:00",
          "2023-05-30T23:00:00",
          "2023-05-31T23:00:00",
          "2023-06-01T23:00:00",
          "2023-06-02T23:00:00",
          "2023-06-03T23:00:00",
          "2023-06-04T23:00:00",
          "2023-06-05T23:00:00",
          "2023-06-06T23:00:00",
          "2023-06-07T23:00:00",
          "2023-06-08T23:00:00",
          "2023-06-09T23:00:00",
          "2023-06-10T23:00:00",
          "2023-06-11T23:00:00",
          "2023-06-12T23:00:00",
          "2023-06-13T23:00:00",
          "2023-06-14T23:00:00",
          "2023-06-15T23:00:00",
          "2023-06-16T23:00:00",
          "2023-06-17T23:00:00",
          "2023-06-18T23:00:00",
          "2023-06-19T23:00:00",
          "2023-06-20T23:00:00",
          "2023-06-21T23:00:00",
          "2023-06-22T23:00:00",
          "2023-06-23T23:00:00",
          "2023-06-24T23:00:00",
          "2023-06-25T23:00:00",
          "2023-06-26T23:00:00",
          "2023-06-27T23:00:00",
          "2023-06-28T23:00:00",
          "2023-06-29T23:00:00",
          "2023-06-30T23:00:00",
          "2023-07-01T23:00:00",
          "2023-07-02T23:00:00",
          "2023-07-03T23:00:00",
          "2023-07-04T23:00:00",
          "2023-07-05T23:00:00",
          "2023-07-06T23:00:00",
          "2023-07-07T23:00:00",
          "2023-07-08T23:00:00",
          "2023-07-09T23:00:00",
          "2023-07-10T23:00:00",
          "2023-07-11T23:00:00",
          "2023-07-12T23:00:00",
          "2023-07-13T23:00:00",
          "2023-07-14T23:00:00",
          "2023-07-15T23:00:00",
          "2023-07-16T23:00:00",
          "2023-07-17T23:00:00",
          "2023-07-18T23:00:00",
          "2023-07-19T23:00:00",
          "2023-07-20T23:00:00",
          "2023-07-21T23:00:00",
          "2023-07-22T23:00:00",
          "2023-07-23T23:00:00",
          "2023-07-24T23:00:00",
          "2023-07-25T23:00:00",
          "2023-07-26T23:00:00",
          "2023-07-27T23:00:00",
          "2023-07-28T23:00:00",
          "2023-07-29T23:00:00",
          "2023-07-30T23:00:00",
          "2023-07-31T23:00:00",
          "2023-08-01T23:00:00",
          "2023-08-02T23:00:00",
          "2023-08-03T23:00:00",
          "2023-08-04T23:00:00",
          "2023-08-05T23:00:00",
          "2023-08-06T23:00:00",
          "2023-08-07T23:00:00",
          "2023-08-08T23:00:00",
          "2023-08-09T23:00:00",
          "2023-08-10T23:00:00",
          "2023-08-11T23:00:00",
          "2023-08-12T23:00:00",
          "2023-08-13T23:00:00",
          "2023-08-14T23:00:00",
          "2023-08-15T23:00:00",
          "2023-08-16T23:00:00",
          "2023-08-17T23:00:00",
          "2023-08-18T23:00:00",
          "2023-08-19T23:00:00",
          "2023-08-20T23:00:00",
          "2023-08-21T23:00:00",
          "2023-08-22T23:00:00",
          "2023-08-23T23:00:00",
          "2023-08-24T23:00:00",
          "2023-08-25T23:00:00",
          "2023-08-26T23:00:00",
          "2023-08-27T23:00:00",
          "2023-08-28T23:00:00",
          "2023-08-29T23:00:00",
          "2023-08-30T23:00:00",
          "2023-08-31T23:00:00",
          "2023-09-01T23:00:00",
          "2023-09-02T23:00:00",
          "2023-09-03T23:00:00",
          "2023-09-04T23:00:00",
          "2023-09-05T23:00:00",
          "2023-09-06T23:00:00",
          "2023-09-07T23:00:00",
          "2023-09-08T23:00:00",
          "2023-09-09T23:00:00",
          "2023-09-10T23:00:00",
          "2023-09-11T23:00:00",
          "2023-09-12T23:00:00",
          "2023-09-13T23:00:00",
          "2023-09-14T23:00:00",
          "2023-09-15T23:00:00",
          "2023-09-16T23:00:00",
          "2023-09-17T23:00:00",
          "2023-09-18T23:00:00",
          "2023-09-19T23:00:00",
          "2023-09-20T23:00:00",
          "2023-09-21T23:00:00",
          "2023-09-22T23:00:00",
          "2023-09-23T23:00:00",
          "2023-09-24T23:00:00",
          "2023-09-25T23:00:00",
          "2023-09-26T23:00:00",
          "2023-09-27T23:00:00",
          "2023-09-28T23:00:00",
          "2023-09-29T23:00:00",
          "2023-09-30T23:00:00",
          "2023-10-01T23:00:00",
          "2023-10-02T23:00:00",
          "2023-10-03T23:00:00",
          "2023-10-04T23:00:00",
          "2023-10-05T23:00:00",
          "2023-10-06T23:00:00",
          "2023-10-07T23:00:00",
          "2023-10-08T23:00:00",
          "2023-10-09T23:00:00",
          "2023-10-10T23:00:00",
          "2023-10-11T23:00:00",
          "2023-10-12T23:00:00",
          "2023-10-13T23:00:00",
          "2023-10-14T23:00:00",
          "2023-10-15T23:00:00",
          "2023-10-16T23:00:00",
          "2023-10-17T23:00:00",
          "2023-10-18T23:00:00",
          "2023-10-19T23:00:00",
          "2023-10-20T23:00:00",
          "2023-10-21T23:00:00",
          "2023-10-22T23:00:00",
          "2023-10-23T23:00:00",
          "2023-10-24T23:00:00",
          "2023-10-25T23:00:00",
          "2023-10-26T23:00:00",
          "2023-10-27T23:00:00",
          "2023-10-28T23:00:00",
          "2023-10-29T23:00:00",
          "2023-10-30T23:00:00",
          "2023-10-31T23:00:00",
          "2023-11-01T23:00:00",
          "2023-11-02T23:00:00",
          "2023-11-03T23:00:00",
          "2023-11-04T23:00:00",
          "2023-11-05T23:00:00",
          "2023-11-06T23:00:00",
          "2023-11-07T23:00:00",
          "2023-11-08T23:00:00",
          "2023-11-09T23:00:00",
          "2023-11-10T23:00:00",
          "2023-11-11T23:00:00",
          "2023-11-12T23:00:00",
          "2023-11-13T23:00:00",
          "2023-11-14T23:00:00",
          "2023-11-15T23:00:00",
          "2023-11-16T23:00:00",
          "2023-11-17T23:00:00",
          "2023-11-18T23:00:00",
          "2023-11-19T23:00:00",
          "2023-11-20T23:00:00",
          "2023-11-21T23:00:00",
          "2023-11-22T23:00:00",
          "2023-11-23T23:00:00",
          "2023-11-24T23:00:00",
          "2023-11-25T23:00:00",
          "2023-11-26T23:00:00",
          "2023-11-27T23:00:00",
          "2023-11-28T23:00:00",
          "2023-11-29T23:00:00",
          "2023-11-30T23:00:00",
          "2023-12-01T23:00:00",
          "2023-12-02T23:00:00",
          "2023-12-03T23:00:00",
          "2023-12-04T23:00:00",
          "2023-12-05T23:00:00",
          "2023-12-06T23:00:00",
          "2023-12-07T23:00:00",
          "2023-12-08T23:00:00",
          "2023-12-09T23:00:00",
          "2023-12-10T23:00:00",
          "2023-12-11T23:00:00",
          "2023-12-12T23:00:00",
          "2023-12-13T23:00:00",
          "2023-12-14T23:00:00",
          "2023-12-15T23:00:00",
          "2023-12-16T23:00:00",
          "2023-12-17T23:00:00",
          "2023-12-18T23:00:00",
          "2023-12-19T23:00:00",
          "2023-12-20T23:00:00",
          "2023-12-21T23:00:00",
          "2023-12-22T23:00:00",
          "2023-12-23T23:00:00",
          "2023-12-24T23:00:00",
          "2023-12-25T23:00:00",
          "2023-12-26T23:00:00",
          "2023-12-27T23:00:00",
          "2023-12-28T23:00:00",
          "2023-12-29T23:00:00",
          "2023-12-30T23:00:00",
          "2023-12-31T23:00:00",
          "2024-01-01T23:00:00",
          "2024-01-02T23:00:00",
          "2024-01-03T23:00:00",
          "2024-01-04T23:00:00",
          "2024-01-05T23:00:00",
          "2024-01-06T23:00:00",
          "2024-01-07T23:00:00",
          "2024-01-08T23:00:00",
          "2024-01-09T23:00:00",
          "2024-01-10T23:00:00",
          "2024-01-11T23:00:00",
          "2024-01-12T23:00:00",
          "2024-01-13T23:00:00",
          "2024-01-14T23:00:00",
          "2024-01-15T23:00:00",
          "2024-01-16T23:00:00",
          "2024-01-17T23:00:00",
          "2024-01-18T23:00:00",
          "2024-01-19T23:00:00",
          "2024-01-20T23:00:00",
          "2024-01-21T23:00:00",
          "2024-01-22T23:00:00",
          "2024-01-23T23:00:00",
          "2024-01-24T23:00:00",
          "2024-01-25T23:00:00",
          "2024-01-26T23:00:00"
         ],
         "y": [
          25.739449558551176,
          25.731516872790085,
          24.584956967139906,
          24.209580641178707,
          26.49064447494847,
          26.240637222730832,
          25.461702514541948,
          25.227090738530197,
          25.274051937308386,
          24.087320379601053,
          23.723921568188256,
          25.847760593312426,
          25.76313226991457,
          25.177725400284313,
          24.841963478806925,
          24.33230403949125,
          23.559373139096483,
          23.266340115149365,
          25.255356879723053,
          25.24714579372216,
          24.793715430129065,
          24.04575113687191,
          23.853096515141218,
          23.275654502304924,
          22.738592827205423,
          25.06465986418442,
          24.500568670478238,
          24.054355354755504,
          23.740353857659986,
          23.915006019211347,
          22.81507251081616,
          22.285100774586844,
          24.279508345361,
          24.030844722141275,
          23.442336343543502,
          23.16401514801045,
          23.284110862897677,
          22.35067683566956,
          21.807825784615183,
          24.07686586738814,
          23.733461784196685,
          22.710163676701598,
          23.213429621821337,
          22.96564566715931,
          21.718244221439026,
          21.318810107597084,
          23.59473588035044,
          23.19941021784897,
          22.78957599022152,
          22.322676872167662,
          22.094174583417416,
          21.27476571693305,
          20.756096326468658,
          22.699072648207782,
          22.92443724377609,
          22.330948294005424,
          22.239870472644867,
          21.845008993321677,
          20.89504266714544,
          20.187346670438693,
          22.444215365730393,
          22.48013885604393,
          22.082942843438033,
          21.48701210937117,
          21.028455546337344,
          20.253006852861002,
          19.976532423946146,
          22.102900998283843,
          22.020547954847487,
          21.48547808731886,
          21.194602679952695,
          20.524190352054042,
          19.635276446035117,
          19.111581634943086,
          21.473189541216655,
          21.274142501704983,
          20.959708930436893,
          20.7591394514024,
          20.34972855427172,
          19.367773696492645,
          19.220714701938117,
          21.34918478400248,
          20.811380497510754,
          20.413932470054178,
          19.668610512970574,
          20.05760658236053,
          18.703754388695344,
          18.5312134067961,
          20.589071666710183,
          20.677969441582007,
          20.055134398587157,
          19.60652815938904,
          19.37357401756404,
          18.130656393150183,
          17.859847930439617,
          20.29044432068229,
          20.299598207123168,
          19.316964755784245,
          18.951106293090113,
          19.01837802427503,
          18.160805107072875,
          17.622882595260048,
          19.479898220337457,
          19.761174701519028,
          18.952035911696786,
          18.52532927429573,
          18.587175613130817,
          17.491873330152227,
          17.19624982102997,
          19.337718498344906,
          18.950966157221544,
          18.393572006364902,
          18.29346431818519,
          17.765429299701694,
          16.804142677270985,
          16.62334805074843,
          18.738906684393953,
          18.526483434163907,
          17.601525171099304,
          17.94963418035993,
          17.591196231733917,
          16.71814965862895,
          15.998742331209613,
          18.27568192765632,
          18.210948337638293,
          17.543552244125987,
          17.353546991436243,
          17.146088931481675,
          16.350698746265774,
          15.661311776454777,
          17.511157684752842,
          17.51287860903678,
          16.7653941559402,
          16.55668314493975,
          16.42921516497281,
          15.59026209033076,
          15.168606012113738,
          17.030516823750194,
          17.395657963521824,
          16.465798310867623,
          16.38633998680279,
          16.185310921375454,
          15.135093519483405,
          14.315383680593063,
          16.68934573312601,
          16.60985141773497,
          16.165933129281868,
          15.870631599227432,
          15.537680680086758,
          14.825471833628052,
          14.21386351116972,
          16.31033724723337,
          16.610972539591437,
          15.681037142171563,
          15.332922558159972,
          15.08459992733459,
          14.467384755041484,
          13.86781305582278,
          15.797101304526615,
          15.992145975417422,
          15.23054981215175,
          15.177468532048124,
          14.389023290804278,
          13.923624578097675,
          13.281085164427536,
          14.923553252263913,
          15.56322408179651,
          14.59046361007666,
          14.527862145945733,
          13.886851386330953,
          13.396006904374362,
          12.50537766491078,
          15.218970773875308,
          15.178391936588053,
          14.05872718749011,
          13.819288565633409,
          13.920175910836779,
          12.84577108230193,
          12.553855801377148,
          14.544342191170971,
          14.467637146190748,
          13.955226319611794,
          13.9814823232578,
          13.400665951664255,
          12.252927741146717,
          12.171173875772844,
          14.468707786744844,
          14.041603050096288,
          13.444730708576518,
          13.367150464688452,
          13.390677956430865,
          12.087419305865746,
          11.536980973415941,
          14.106545559544639,
          14.045830198424559,
          13.333119765453434,
          13.533725086674258,
          12.794409789588462,
          12.105971201988938,
          11.774710557007815,
          13.523385376982784,
          14.143895111074537,
          13.027586107625726,
          12.827883426949953,
          12.714455280569489,
          11.727293372621874,
          11.91539980980755,
          13.543070312987577,
          13.966088693391555,
          12.893388084612042,
          13.086598691552243,
          13.06501336285781,
          11.771704746212441,
          11.41017145788754,
          13.769845936333903,
          14.298431936583682,
          13.278864035112424,
          12.990738471971644,
          12.98645842025129,
          12.280726634051481,
          11.377019265187348,
          13.767285902767885,
          13.849413622278934,
          12.787577812772746,
          12.923540263653447,
          13.194440924517508,
          11.918258762731647,
          11.7086070949459,
          13.378948104163657,
          13.975414426646543,
          13.117429874122113,
          13.113332594291752,
          12.768295641991598,
          11.69303136558393,
          11.581833434267123,
          13.62709630596658,
          13.79270086248963,
          13.0832697704965,
          13.06873605982831,
          13.230780095900668,
          12.065975098725493,
          11.798391722201819,
          13.797235550291738,
          13.83478240298533,
          12.982122478903998,
          13.316221567524323,
          13.259686113835132,
          12.043676707377692,
          11.304982793390074,
          13.88838826552649,
          13.934311547066256,
          13.06093533403303,
          13.149776341303141,
          12.831245502959955,
          11.826607632756291,
          11.451254367735235,
          13.817281845624656,
          14.03894669251994,
          12.945764482961609,
          13.069013477931676,
          12.720530637660659,
          11.996297417761834,
          11.451709621072087,
          13.718426415259227,
          14.049592215270296,
          13.413531366462134,
          13.404199122354754,
          13.234493964190431,
          12.240219891258551,
          11.717293307853142,
          13.78712402670601,
          13.808940454673682,
          13.207106802119121,
          13.555756695136244,
          12.832442574628873,
          11.982858993083651,
          11.532067109265048,
          13.896923856482605,
          14.018960753701824,
          13.366394924759875,
          13.298972326015695,
          12.938520869427618,
          12.536374980884101,
          11.46053652404282,
          14.183412208728832,
          13.64706327361268,
          13.213591753174299,
          12.944423891603215,
          12.718530966429286,
          11.96809134656499,
          11.975868522489403,
          13.843361681373235,
          13.642670692478406,
          13.488019324040778,
          13.255404213912366,
          13.146289654224416,
          12.35867768285812,
          11.890697994478451,
          13.813525568735004,
          13.867219295110486,
          13.49551655177459,
          13.439522155757288,
          13.430153903519287,
          12.54993774612857,
          11.944951758294756,
          14.121762142851184,
          14.10917141916577,
          13.378470600968159,
          13.556493604591656,
          13.709578460469663,
          12.429050515855975,
          11.66860824696788,
          13.904011242543351,
          14.214650180432663,
          13.433787782804586,
          13.184613985447532,
          13.137797514244008,
          12.144269888085997,
          11.99146602246171,
          13.782604946192196,
          14.10292528422083,
          13.365508749313754,
          13.319602271058866,
          13.288165235819958,
          12.150626752340205,
          11.805274010523522,
          14.232476139149078,
          14.094960033689642,
          13.476180965557687,
          13.31403491927733,
          13.447166765476158,
          12.232571951512284,
          12.057629670383896,
          14.107646655171257,
          14.231883013607852,
          13.597279791511868,
          13.325928327856976,
          13.48779850045385,
          11.902219259669025,
          12.244821749433347,
          13.93940883836264,
          14.162163374939722,
          13.522439997433857,
          13.304673945345137,
          13.266277042519889,
          12.415203272785863,
          11.703099958796267,
          13.988777696243986,
          14.559322118224655,
          13.69326614232377,
          13.618376395634597,
          13.409047780528393,
          12.321405789321275,
          12.148046268091083,
          13.788762018343236,
          14.318868608983404,
          13.963474425225398,
          13.66900476448158,
          13.353461887348015,
          12.377770856964013,
          11.775815812397127,
          14.279558570822001,
          14.435961235718775,
          13.424705665677541,
          13.80772214405247,
          13.235783115780258,
          12.67877496374813,
          12.09076962079539,
          14.343489915403877,
          14.322796083970056,
          13.76452358313655,
          13.49681481990779,
          13.547810314016745,
          12.325841703850722,
          12.0735546576517,
          14.03157044113313,
          14.496747180255413,
          13.752351790484077,
          13.528649446007469,
          13.517610227766946,
          12.647860862593179,
          12.113217972800012,
          14.519038072772595,
          14.528395394477524,
          13.543577693461836,
          13.438317930960142,
          13.514225084598532,
          12.247156140206263,
          12.122172525677843,
          14.416523761106573,
          14.722077457975873,
          13.463820258412472,
          13.81394431482375,
          13.234626785592347,
          12.777375525240608,
          11.847448236546175,
          14.28437979266173,
          14.497571365679528,
          13.529458095130824,
          13.639804258847382,
          13.410784544933133,
          12.779724468785112,
          12.161890491249117,
          14.475342651773381,
          14.355302318593356,
          13.76665070336526,
          13.896711878841097,
          13.536786644184764,
          13.034541561269581,
          12.607352984465432,
          14.414496716312913,
          14.725553775382181,
          13.71271531639522,
          13.568476718033825,
          13.590280548957297,
          12.282149921667147,
          12.39792700127665,
          14.72889598267872,
          14.460087187494398,
          14.020388139643433,
          13.795827697822936,
          13.858032036915766,
          12.701090902393862,
          12.015578629254936,
          14.339476186004077,
          14.800985113600104,
          13.698370353033743,
          13.868479696361527,
          13.76573180471637,
          12.494336333664508,
          12.287336248784959,
          14.715830382312825,
          14.21930450989545,
          13.779506843210381,
          14.029987394008346,
          13.316598285669572,
          12.74313693169874
         ]
        }
       ],
       "layout": {
        "hovermode": "x unified",
        "template": {
         "data": {
          "bar": [
           {
            "error_x": {
             "color": "#2a3f5f"
            },
            "error_y": {
             "color": "#2a3f5f"
            },
            "marker": {
             "line": {
              "color": "#E5ECF6",
              "width": 0.5
             },
             "pattern": {
              "fillmode": "overlay",
              "size": 10,
              "solidity": 0.2
             }
            },
            "type": "bar"
           }
          ],
          "barpolar": [
           {
            "marker": {
             "line": {
              "color": "#E5ECF6",
              "width": 0.5
             },
             "pattern": {
              "fillmode": "overlay",
              "size": 10,
              "solidity": 0.2
             }
            },
            "type": "barpolar"
           }
          ],
          "carpet": [
           {
            "aaxis": {
             "endlinecolor": "#2a3f5f",
             "gridcolor": "white",
             "linecolor": "white",
             "minorgridcolor": "white",
             "startlinecolor": "#2a3f5f"
            },
            "baxis": {
             "endlinecolor": "#2a3f5f",
             "gridcolor": "white",
             "linecolor": "white",
             "minorgridcolor": "white",
             "startlinecolor": "#2a3f5f"
            },
            "type": "carpet"
           }
          ],
          "choropleth": [
           {
            "colorbar": {
             "outlinewidth": 0,
             "ticks": ""
            },
            "type": "choropleth"
           }
          ],
          "contour": [
           {
            "colorbar": {
             "outlinewidth": 0,
             "ticks": ""
            },
            "colorscale": [
             [
              0,
              "#0d0887"
             ],
             [
              0.1111111111111111,
              "#46039f"
             ],
             [
              0.2222222222222222,
              "#7201a8"
             ],
             [
              0.3333333333333333,
              "#9c179e"
             ],
             [
              0.4444444444444444,
              "#bd3786"
             ],
             [
              0.5555555555555556,
              "#d8576b"
             ],
             [
              0.6666666666666666,
              "#ed7953"
             ],
             [
              0.7777777777777778,
              "#fb9f3a"
             ],
             [
              0.8888888888888888,
              "#fdca26"
             ],
             [
              1,
              "#f0f921"
             ]
            ],
            "type": "contour"
           }
          ],
          "contourcarpet": [
           {
            "colorbar": {
             "outlinewidth": 0,
             "ticks": ""
            },
            "type": "contourcarpet"
           }
          ],
          "heatmap": [
           {
            "colorbar": {
             "outlinewidth": 0,
             "ticks": ""
            },
            "colorscale": [
             [
              0,
              "#0d0887"
             ],
             [
              0.1111111111111111,
              "#46039f"
             ],
             [
              0.2222222222222222,
              "#7201a8"
             ],
             [
              0.3333333333333333,
              "#9c179e"
             ],
             [
              0.4444444444444444,
              "#bd3786"
             ],
             [
              0.5555555555555556,
              "#d8576b"
             ],
             [
              0.6666666666666666,
              "#ed7953"
             ],
             [
              0.7777777777777778,
              "#fb9f3a"
             ],
             [
              0.8888888888888888,
              "#fdca26"
             ],
             [
              1,
              "#f0f921"
             ]
            ],
            "type": "heatmap"
           }
          ],
          "heatmapgl": [
           {
            "colorbar": {
             "outlinewidth": 0,
             "ticks": ""
            },
            "colorscale": [
             [
              0,
              "#0d0887"
             ],
             [
              0.1111111111111111,
              "#46039f"
             ],
             [
              0.2222222222222222,
              "#7201a8"
             ],
             [
              0.3333333333333333,
              "#9c179e"
             ],
             [
              0.4444444444444444,
              "#bd3786"
             ],
             [
              0.5555555555555556,
              "#d8576b"
             ],
             [
              0.6666666666666666,
              "#ed7953"
             ],
             [
              0.7777777777777778,
              "#fb9f3a"
             ],
             [
              0.8888888888888888,
              "#fdca26"
             ],
             [
              1,
              "#f0f921"
             ]
            ],
            "type": "heatmapgl"
           }
          ],
          "histogram": [
           {
            "marker": {
             "pattern": {
              "fillmode": "overlay",
              "size": 10,
              "solidity": 0.2
             }
            },
            "type": "histogram"
           }
          ],
          "histogram2d": [
           {
            "colorbar": {
             "outlinewidth": 0,
             "ticks": ""
            },
            "colorscale": [
             [
              0,
              "#0d0887"
             ],
             [
              0.1111111111111111,
              "#46039f"
             ],
             [
              0.2222222222222222,
              "#7201a8"
             ],
             [
              0.3333333333333333,
              "#9c179e"
             ],
             [
              0.4444444444444444,
              "#bd3786"
             ],
             [
              0.5555555555555556,
              "#d8576b"
             ],
             [
              0.6666666666666666,
              "#ed7953"
             ],
             [
              0.7777777777777778,
              "#fb9f3a"
             ],
             [
              0.8888888888888888,
              "#fdca26"
             ],
             [
              1,
              "#f0f921"
             ]
            ],
            "type": "histogram2d"
           }
          ],
          "histogram2dcontour": [
           {
            "colorbar": {
             "outlinewidth": 0,
             "ticks": ""
            },
            "colorscale": [
             [
              0,
              "#0d0887"
             ],
             [
              0.1111111111111111,
              "#46039f"
             ],
             [
              0.2222222222222222,
              "#7201a8"
             ],
             [
              0.3333333333333333,
              "#9c179e"
             ],
             [
              0.4444444444444444,
              "#bd3786"
             ],
             [
              0.5555555555555556,
              "#d8576b"
             ],
             [
              0.6666666666666666,
              "#ed7953"
             ],
             [
              0.7777777777777778,
              "#fb9f3a"
             ],
             [
              0.8888888888888888,
              "#fdca26"
             ],
             [
              1,
              "#f0f921"
             ]
            ],
            "type": "histogram2dcontour"
           }
          ],
          "mesh3d": [
           {
            "colorbar": {
             "outlinewidth": 0,
             "ticks": ""
            },
            "type": "mesh3d"
           }
          ],
          "parcoords": [
           {
            "line": {
             "colorbar": {
              "outlinewidth": 0,
              "ticks": ""
             }
            },
            "type": "parcoords"
           }
          ],
          "pie": [
           {
            "automargin": true,
            "type": "pie"
           }
          ],
          "scatter": [
           {
            "fillpattern": {
             "fillmode": "overlay",
             "size": 10,
             "solidity": 0.2
            },
            "type": "scatter"
           }
          ],
          "scatter3d": [
           {
            "line": {
             "colorbar": {
              "outlinewidth": 0,
              "ticks": ""
             }
            },
            "marker": {
             "colorbar": {
              "outlinewidth": 0,
              "ticks": ""
             }
            },
            "type": "scatter3d"
           }
          ],
          "scattercarpet": [
           {
            "marker": {
             "colorbar": {
              "outlinewidth": 0,
              "ticks": ""
             }
            },
            "type": "scattercarpet"
           }
          ],
          "scattergeo": [
           {
            "marker": {
             "colorbar": {
              "outlinewidth": 0,
              "ticks": ""
             }
            },
            "type": "scattergeo"
           }
          ],
          "scattergl": [
           {
            "marker": {
             "colorbar": {
              "outlinewidth": 0,
              "ticks": ""
             }
            },
            "type": "scattergl"
           }
          ],
          "scattermapbox": [
           {
            "marker": {
             "colorbar": {
              "outlinewidth": 0,
              "ticks": ""
             }
            },
            "type": "scattermapbox"
           }
          ],
          "scatterpolar": [
           {
            "marker": {
             "colorbar": {
              "outlinewidth": 0,
              "ticks": ""
             }
            },
            "type": "scatterpolar"
           }
          ],
          "scatterpolargl": [
           {
            "marker": {
             "colorbar": {
              "outlinewidth": 0,
              "ticks": ""
             }
            },
            "type": "scatterpolargl"
           }
          ],
          "scatterternary": [
           {
            "marker": {
             "colorbar": {
              "outlinewidth": 0,
              "ticks": ""
             }
            },
            "type": "scatterternary"
           }
          ],
          "surface": [
           {
            "colorbar": {
             "outlinewidth": 0,
             "ticks": ""
            },
            "colorscale": [
             [
              0,
              "#0d0887"
             ],
             [
              0.1111111111111111,
              "#46039f"
             ],
             [
              0.2222222222222222,
              "#7201a8"
             ],
             [
              0.3333333333333333,
              "#9c179e"
             ],
             [
              0.4444444444444444,
              "#bd3786"
             ],
             [
              0.5555555555555556,
              "#d8576b"
             ],
             [
              0.6666666666666666,
              "#ed7953"
             ],
             [
              0.7777777777777778,
              "#fb9f3a"
             ],
             [
              0.8888888888888888,
              "#fdca26"
             ],
             [
              1,
              "#f0f921"
             ]
            ],
            "type": "surface"
           }
          ],
          "table": [
           {
            "cells": {
             "fill": {
              "color": "#EBF0F8"
             },
             "line": {
              "color": "white"
             }
            },
            "header": {
             "fill": {
              "color": "#C8D4E3"
             },
             "line": {
              "color": "white"
             }
            },
            "type": "table"
           }
          ]
         },
         "layout": {
          "annotationdefaults": {
           "arrowcolor": "#2a3f5f",
           "arrowhead": 0,
           "arrowwidth": 1
          },
          "autotypenumbers": "strict",
          "coloraxis": {
           "colorbar": {
            "outlinewidth": 0,
            "ticks": ""
           }
          },
          "colorscale": {
           "diverging": [
            [
             0,
             "#8e0152"
            ],
            [
             0.1,
             "#c51b7d"
            ],
            [
             0.2,
             "#de77ae"
            ],
            [
             0.3,
             "#f1b6da"
            ],
            [
             0.4,
             "#fde0ef"
            ],
            [
             0.5,
             "#f7f7f7"
            ],
            [
             0.6,
             "#e6f5d0"
            ],
            [
             0.7,
             "#b8e186"
            ],
            [
             0.8,
             "#7fbc41"
            ],
            [
             0.9,
             "#4d9221"
            ],
            [
             1,
             "#276419"
            ]
           ],
           "sequential": [
            [
             0,
             "#0d0887"
            ],
            [
             0.1111111111111111,
             "#46039f"
            ],
            [
             0.2222222222222222,
             "#7201a8"
            ],
            [
             0.3333333333333333,
             "#9c179e"
            ],
            [
             0.4444444444444444,
             "#bd3786"
            ],
            [
             0.5555555555555556,
             "#d8576b"
            ],
            [
             0.6666666666666666,
             "#ed7953"
            ],
            [
             0.7777777777777778,
             "#fb9f3a"
            ],
            [
             0.8888888888888888,
             "#fdca26"
            ],
            [
             1,
             "#f0f921"
            ]
           ],
           "sequentialminus": [
            [
             0,
             "#0d0887"
            ],
            [
             0.1111111111111111,
             "#46039f"
            ],
            [
             0.2222222222222222,
             "#7201a8"
            ],
            [
             0.3333333333333333,
             "#9c179e"
            ],
            [
             0.4444444444444444,
             "#bd3786"
            ],
            [
             0.5555555555555556,
             "#d8576b"
            ],
            [
             0.6666666666666666,
             "#ed7953"
            ],
            [
             0.7777777777777778,
             "#fb9f3a"
            ],
            [
             0.8888888888888888,
             "#fdca26"
            ],
            [
             1,
             "#f0f921"
            ]
           ]
          },
          "colorway": [
           "#636efa",
           "#EF553B",
           "#00cc96",
           "#ab63fa",
           "#FFA15A",
           "#19d3f3",
           "#FF6692",
           "#B6E880",
           "#FF97FF",
           "#FECB52"
          ],
          "font": {
           "color": "#2a3f5f"
          },
          "geo": {
           "bgcolor": "white",
           "lakecolor": "white",
           "landcolor": "#E5ECF6",
           "showlakes": true,
           "showland": true,
           "subunitcolor": "white"
          },
          "hoverlabel": {
           "align": "left"
          },
          "hovermode": "closest",
          "mapbox": {
           "style": "light"
          },
          "paper_bgcolor": "white",
          "plot_bgcolor": "#E5ECF6",
          "polar": {
           "angularaxis": {
            "gridcolor": "white",
            "linecolor": "white",
            "ticks": ""
           },
           "bgcolor": "#E5ECF6",
           "radialaxis": {
            "gridcolor": "white",
            "linecolor": "white",
            "ticks": ""
           }
          },
          "scene": {
           "xaxis": {
            "backgroundcolor": "#E5ECF6",
            "gridcolor": "white",
            "gridwidth": 2,
            "linecolor": "white",
            "showbackground": true,
            "ticks": "",
            "zerolinecolor": "white"
           },
           "yaxis": {
            "backgroundcolor": "#E5ECF6",
            "gridcolor": "white",
            "gridwidth": 2,
            "linecolor": "white",
            "showbackground": true,
            "ticks": "",
            "zerolinecolor": "white"
           },
           "zaxis": {
            "backgroundcolor": "#E5ECF6",
            "gridcolor": "white",
            "gridwidth": 2,
            "linecolor": "white",
            "showbackground": true,
            "ticks": "",
            "zerolinecolor": "white"
           }
          },
          "shapedefaults": {
           "line": {
            "color": "#2a3f5f"
           }
          },
          "ternary": {
           "aaxis": {
            "gridcolor": "white",
            "linecolor": "white",
            "ticks": ""
           },
           "baxis": {
            "gridcolor": "white",
            "linecolor": "white",
            "ticks": ""
           },
           "bgcolor": "#E5ECF6",
           "caxis": {
            "gridcolor": "white",
            "linecolor": "white",
            "ticks": ""
           }
          },
          "title": {
           "x": 0.05
          },
          "xaxis": {
           "automargin": true,
           "gridcolor": "white",
           "linecolor": "white",
           "ticks": "",
           "title": {
            "standoff": 15
           },
           "zerolinecolor": "white",
           "zerolinewidth": 2
          },
          "yaxis": {
           "automargin": true,
           "gridcolor": "white",
           "linecolor": "white",
           "ticks": "",
           "title": {
            "standoff": 15
           },
           "zerolinecolor": "white",
           "zerolinewidth": 2
          }
         }
        },
        "title": {
         "text": "electricity-tariffs/E-1R-SILVER-FLEX-22-11-25-A Price Forecast for Next 90 Days"
        },
        "xaxis": {
         "title": {
          "text": "Date and Time"
         }
        },
        "yaxis": {
         "title": {
          "text": "Price (p/kWh)"
         }
        }
       }
      }
     },
     "metadata": {},
     "output_type": "display_data"
    },
    {
     "name": "stderr",
     "output_type": "stream",
     "text": [
      "19:35:23 - cmdstanpy - INFO - Chain [1] start processing\n",
      "19:35:23 - cmdstanpy - INFO - Chain [1] done processing\n"
     ]
    },
    {
     "data": {
      "application/vnd.plotly.v1+json": {
       "config": {
        "plotlyServerURL": "https://plot.ly"
       },
       "data": [
        {
         "mode": "lines",
         "name": "Actual",
         "type": "scatter",
         "x": [
          "2023-10-28T23:00:00",
          "2023-10-27T23:00:00",
          "2023-10-26T23:00:00",
          "2023-10-25T23:00:00",
          "2023-10-24T23:00:00",
          "2023-10-23T23:00:00",
          "2023-10-22T23:00:00",
          "2023-10-21T23:00:00",
          "2023-10-20T23:00:00",
          "2023-10-19T23:00:00",
          "2023-10-18T23:00:00",
          "2023-10-17T23:00:00",
          "2023-10-16T23:00:00",
          "2023-10-15T23:00:00",
          "2023-10-14T23:00:00",
          "2023-10-13T23:00:00",
          "2023-10-12T23:00:00",
          "2023-10-11T23:00:00",
          "2023-10-10T23:00:00",
          "2023-10-09T23:00:00",
          "2023-10-08T23:00:00",
          "2023-10-07T23:00:00",
          "2023-10-06T23:00:00",
          "2023-10-05T23:00:00",
          "2023-10-04T23:00:00",
          "2023-10-03T23:00:00",
          "2023-10-02T23:00:00",
          "2023-10-01T23:00:00",
          "2023-09-30T23:00:00",
          "2023-09-29T23:00:00",
          "2023-09-28T23:00:00",
          "2023-09-27T23:00:00",
          "2023-09-26T23:00:00",
          "2023-09-25T23:00:00",
          "2023-09-24T23:00:00",
          "2023-09-23T23:00:00",
          "2023-09-22T23:00:00",
          "2023-09-21T23:00:00",
          "2023-09-20T23:00:00",
          "2023-09-19T23:00:00",
          "2023-09-18T23:00:00",
          "2023-09-17T23:00:00",
          "2023-09-16T23:00:00",
          "2023-09-15T23:00:00",
          "2023-09-14T23:00:00",
          "2023-09-13T23:00:00",
          "2023-09-12T23:00:00",
          "2023-09-11T23:00:00",
          "2023-09-10T23:00:00",
          "2023-09-09T23:00:00",
          "2023-09-08T23:00:00",
          "2023-09-07T23:00:00",
          "2023-09-06T23:00:00",
          "2023-09-05T23:00:00",
          "2023-09-04T23:00:00",
          "2023-09-03T23:00:00",
          "2023-09-02T23:00:00",
          "2023-09-01T23:00:00",
          "2023-08-31T23:00:00",
          "2023-08-30T23:00:00",
          "2023-08-29T23:00:00",
          "2023-08-28T23:00:00",
          "2023-08-27T23:00:00",
          "2023-08-26T23:00:00",
          "2023-08-25T23:00:00",
          "2023-08-24T23:00:00",
          "2023-08-23T23:00:00",
          "2023-08-22T23:00:00",
          "2023-08-21T23:00:00",
          "2023-08-20T23:00:00",
          "2023-08-19T23:00:00",
          "2023-08-18T23:00:00",
          "2023-08-17T23:00:00",
          "2023-08-16T23:00:00",
          "2023-08-15T23:00:00",
          "2023-08-14T23:00:00",
          "2023-08-13T23:00:00",
          "2023-08-12T23:00:00",
          "2023-08-11T23:00:00",
          "2023-08-10T23:00:00",
          "2023-08-09T23:00:00",
          "2023-08-08T23:00:00",
          "2023-08-07T23:00:00",
          "2023-08-06T23:00:00",
          "2023-08-05T23:00:00",
          "2023-08-04T23:00:00",
          "2023-08-03T23:00:00",
          "2023-08-02T23:00:00",
          "2023-08-01T23:00:00",
          "2023-07-31T23:00:00",
          "2023-07-30T23:00:00",
          "2023-07-29T23:00:00",
          "2023-07-28T23:00:00",
          "2023-07-27T23:00:00",
          "2023-07-26T23:00:00",
          "2023-07-25T23:00:00",
          "2023-07-24T23:00:00",
          "2023-07-23T23:00:00",
          "2023-07-22T23:00:00",
          "2023-07-21T23:00:00",
          "2023-07-20T23:00:00",
          "2023-07-19T23:00:00",
          "2023-07-18T23:00:00",
          "2023-07-17T23:00:00",
          "2023-07-16T23:00:00",
          "2023-07-15T23:00:00",
          "2023-07-14T23:00:00",
          "2023-07-13T23:00:00",
          "2023-07-12T23:00:00",
          "2023-07-11T23:00:00",
          "2023-07-10T23:00:00",
          "2023-07-09T23:00:00",
          "2023-07-08T23:00:00",
          "2023-07-07T23:00:00",
          "2023-07-06T23:00:00",
          "2023-07-05T23:00:00",
          "2023-07-04T23:00:00",
          "2023-07-03T23:00:00",
          "2023-07-02T23:00:00",
          "2023-07-01T23:00:00",
          "2023-06-30T23:00:00",
          "2023-06-29T23:00:00",
          "2023-06-28T23:00:00",
          "2023-06-27T23:00:00",
          "2023-06-26T23:00:00",
          "2023-06-25T23:00:00",
          "2023-06-24T23:00:00",
          "2023-06-23T23:00:00",
          "2023-06-22T23:00:00",
          "2023-06-21T23:00:00",
          "2023-06-20T23:00:00",
          "2023-06-19T23:00:00",
          "2023-06-18T23:00:00",
          "2023-06-17T23:00:00",
          "2023-06-16T23:00:00",
          "2023-06-15T23:00:00",
          "2023-06-14T23:00:00",
          "2023-06-13T23:00:00",
          "2023-06-12T23:00:00",
          "2023-06-11T23:00:00",
          "2023-06-10T23:00:00",
          "2023-06-09T23:00:00",
          "2023-06-08T23:00:00",
          "2023-06-07T23:00:00",
          "2023-06-06T23:00:00",
          "2023-06-05T23:00:00",
          "2023-06-04T23:00:00",
          "2023-06-03T23:00:00",
          "2023-06-02T23:00:00",
          "2023-06-01T23:00:00",
          "2023-05-31T23:00:00",
          "2023-05-30T23:00:00",
          "2023-05-29T23:00:00",
          "2023-05-28T23:00:00",
          "2023-05-27T23:00:00",
          "2023-05-26T23:00:00",
          "2023-05-25T23:00:00",
          "2023-05-24T23:00:00",
          "2023-05-23T23:00:00",
          "2023-05-22T23:00:00",
          "2023-05-21T23:00:00",
          "2023-05-20T23:00:00",
          "2023-05-19T23:00:00",
          "2023-05-18T23:00:00",
          "2023-05-17T23:00:00",
          "2023-05-16T23:00:00",
          "2023-05-15T23:00:00",
          "2023-05-14T23:00:00",
          "2023-05-13T23:00:00",
          "2023-05-12T23:00:00",
          "2023-05-11T23:00:00",
          "2023-05-10T23:00:00",
          "2023-05-09T23:00:00",
          "2023-05-08T23:00:00",
          "2023-05-07T23:00:00",
          "2023-05-06T23:00:00",
          "2023-05-05T23:00:00",
          "2023-05-04T23:00:00",
          "2023-05-03T23:00:00",
          "2023-05-02T23:00:00",
          "2023-05-01T23:00:00",
          "2023-04-30T23:00:00",
          "2023-04-29T23:00:00",
          "2023-04-28T23:00:00",
          "2023-04-27T23:00:00",
          "2023-04-26T23:00:00",
          "2023-04-25T23:00:00",
          "2023-04-24T23:00:00",
          "2023-04-23T23:00:00",
          "2023-04-22T23:00:00",
          "2023-04-21T23:00:00",
          "2023-04-20T23:00:00",
          "2023-04-19T23:00:00",
          "2023-04-18T23:00:00",
          "2023-04-17T23:00:00",
          "2023-04-16T23:00:00",
          "2023-04-15T23:00:00",
          "2023-04-14T23:00:00",
          "2023-04-13T23:00:00",
          "2023-04-12T23:00:00",
          "2023-04-11T23:00:00",
          "2023-04-10T23:00:00",
          "2023-04-09T23:00:00",
          "2023-04-08T23:00:00",
          "2023-04-07T23:00:00",
          "2023-04-06T23:00:00",
          "2023-04-05T23:00:00",
          "2023-04-04T23:00:00",
          "2023-04-03T23:00:00",
          "2023-04-02T23:00:00",
          "2023-04-01T23:00:00",
          "2023-03-31T23:00:00",
          "2023-03-30T23:00:00",
          "2023-03-29T23:00:00",
          "2023-03-28T23:00:00",
          "2023-03-27T23:00:00",
          "2023-03-26T23:00:00",
          "2023-03-26T00:00:00",
          "2023-03-25T00:00:00",
          "2023-03-24T00:00:00",
          "2023-03-23T00:00:00",
          "2023-03-22T00:00:00",
          "2023-03-21T00:00:00",
          "2023-03-20T00:00:00",
          "2023-03-19T00:00:00",
          "2023-03-18T00:00:00",
          "2023-03-17T00:00:00",
          "2023-03-16T00:00:00",
          "2023-03-15T00:00:00",
          "2023-03-14T00:00:00",
          "2023-03-13T00:00:00",
          "2023-03-12T00:00:00",
          "2023-03-11T00:00:00",
          "2023-03-10T00:00:00",
          "2023-03-09T00:00:00",
          "2023-03-08T00:00:00",
          "2023-03-07T00:00:00",
          "2023-03-06T00:00:00",
          "2023-03-05T00:00:00",
          "2023-03-04T00:00:00",
          "2023-03-03T00:00:00",
          "2023-03-02T00:00:00",
          "2023-03-01T00:00:00",
          "2023-02-28T00:00:00",
          "2023-02-27T00:00:00",
          "2023-02-26T00:00:00",
          "2023-02-25T00:00:00",
          "2023-02-24T00:00:00",
          "2023-02-23T00:00:00",
          "2023-02-22T00:00:00",
          "2023-02-21T00:00:00",
          "2023-02-20T00:00:00",
          "2023-02-19T00:00:00",
          "2023-02-18T00:00:00",
          "2023-02-17T00:00:00",
          "2023-02-16T00:00:00",
          "2023-02-15T00:00:00",
          "2023-02-14T00:00:00",
          "2023-02-13T00:00:00",
          "2023-02-12T00:00:00",
          "2023-02-11T00:00:00",
          "2023-02-10T00:00:00",
          "2023-02-09T00:00:00",
          "2023-02-08T00:00:00",
          "2023-02-07T00:00:00",
          "2023-02-06T00:00:00",
          "2023-02-05T00:00:00",
          "2023-02-04T00:00:00",
          "2023-02-03T00:00:00",
          "2023-02-02T00:00:00",
          "2023-02-01T00:00:00",
          "2023-01-31T00:00:00",
          "2023-01-30T00:00:00",
          "2023-01-29T00:00:00",
          "2023-01-28T00:00:00",
          "2023-01-27T00:00:00",
          "2023-01-26T00:00:00",
          "2023-01-25T00:00:00",
          "2023-01-24T00:00:00",
          "2023-01-23T00:00:00",
          "2023-01-22T00:00:00",
          "2023-01-21T00:00:00",
          "2023-01-20T00:00:00",
          "2023-01-19T00:00:00",
          "2023-01-18T00:00:00",
          "2023-01-17T00:00:00",
          "2023-01-16T00:00:00",
          "2023-01-15T00:00:00",
          "2023-01-14T00:00:00",
          "2023-01-13T00:00:00",
          "2023-01-12T00:00:00",
          "2023-01-11T00:00:00",
          "2023-01-10T00:00:00",
          "2023-01-09T00:00:00",
          "2023-01-08T00:00:00",
          "2023-01-07T00:00:00",
          "2023-01-06T00:00:00",
          "2023-01-05T00:00:00",
          "2023-01-04T00:00:00",
          "2023-01-03T00:00:00",
          "2023-01-02T00:00:00",
          "2023-01-01T00:00:00",
          "2022-12-31T00:00:00",
          "2022-12-30T00:00:00",
          "2022-12-29T00:00:00",
          "2022-12-28T00:00:00",
          "2022-12-27T00:00:00",
          "2022-12-26T00:00:00",
          "2022-12-25T00:00:00",
          "2022-12-24T00:00:00",
          "2022-12-23T00:00:00",
          "2022-12-22T00:00:00",
          "2022-12-21T00:00:00",
          "2022-12-20T00:00:00",
          "2022-12-19T00:00:00",
          "2022-12-18T00:00:00",
          "2022-12-17T00:00:00",
          "2022-12-16T00:00:00",
          "2022-12-15T00:00:00",
          "2022-12-14T00:00:00",
          "2022-12-13T00:00:00",
          "2022-12-12T00:00:00",
          "2022-12-11T00:00:00",
          "2022-12-10T00:00:00",
          "2022-12-09T00:00:00",
          "2022-12-08T00:00:00",
          "2022-12-07T00:00:00",
          "2022-12-06T00:00:00",
          "2022-12-05T00:00:00",
          "2022-12-04T00:00:00",
          "2022-12-03T00:00:00",
          "2022-12-02T00:00:00",
          "2022-12-01T00:00:00",
          "2022-11-30T00:00:00",
          "2022-11-29T00:00:00",
          "2022-11-28T00:00:00",
          "2022-11-27T00:00:00",
          "2022-11-26T00:00:00",
          "2022-11-25T00:00:00",
          "2022-11-24T00:00:00",
          "2022-11-23T00:00:00",
          "2022-11-22T00:00:00",
          "2022-11-21T00:00:00",
          "2022-11-20T00:00:00",
          "2022-11-19T00:00:00",
          "2022-11-18T00:00:00",
          "2022-11-17T00:00:00"
         ],
         "y": [
          5.502,
          5.502,
          5.691,
          5.775,
          5.691,
          5.691,
          5.145,
          5.166,
          5.166,
          5.124,
          5.355,
          4.977,
          5.2395,
          6.4155,
          6.3525,
          6.3525,
          5.6175,
          5.4705,
          5.292,
          4.725,
          4.137,
          4.179,
          4.179,
          3.5805,
          4.1055,
          3.9585,
          4.2525,
          4.7775,
          4.7565,
          4.7565,
          4.9245,
          4.956,
          4.956,
          5.4075,
          5.0925,
          5.124,
          5.124,
          4.9665,
          4.8405,
          4.788,
          4.452,
          4.6725,
          4.6935,
          4.6935,
          4.599,
          4.7565,
          4.599,
          4.725,
          4.368,
          4.305,
          4.305,
          4.2525,
          4.0635,
          4.2525,
          4.179,
          4.3155,
          4.3365,
          4.3365,
          4.452,
          4.6095,
          4.5255,
          4.5465,
          4.5885,
          4.5885,
          4.5885,
          4.263,
          4.6725,
          5.2815,
          4.788,
          4.41,
          4.389,
          4.389,
          4.263,
          4.452,
          4.5885,
          4.2525,
          4.1475,
          4.1055,
          4.1055,
          4.41,
          4.6935,
          3.9585,
          3.9165,
          3.9165,
          3.9165,
          3.9165,
          4.0005,
          3.759,
          3.612,
          3.7065,
          3.5595,
          3.4965,
          3.4965,
          3.78,
          3.8745,
          3.99,
          3.99,
          3.7275,
          3.717,
          3.717,
          3.822,
          3.633,
          3.675,
          3.4965,
          3.6225,
          3.5805,
          3.6225,
          3.6225,
          3.6645,
          3.9375,
          3.927,
          4.2525,
          4.2105,
          4.2105,
          4.1265,
          4.347,
          4.431,
          4.368,
          4.41,
          4.41,
          4.41,
          4.41,
          4.3785,
          4.4625,
          4.221,
          4.2,
          4.179,
          4.179,
          4.4415,
          4.7145,
          4.7355,
          4.221,
          4.2945,
          4.305,
          4.305,
          5.1135,
          4.83,
          3.9375,
          4.0635,
          4.221,
          4.1265,
          4.1265,
          3.6645,
          3.6645,
          3.6015,
          3.801,
          3.339,
          3.3495,
          3.3495,
          3.3075,
          3.57,
          3.4755,
          3.402,
          3.3915,
          3.3915,
          3.3915,
          3.3915,
          3.675,
          3.7485,
          3.633,
          3.6645,
          3.591,
          3.591,
          3.612,
          3.8955,
          4.011,
          3.9585,
          4.158,
          4.158,
          4.158,
          4.158,
          4.2735,
          4.41,
          4.3155,
          4.3155,
          4.3155,
          4.3155,
          4.3155,
          4.3155,
          4.431,
          4.599,
          4.599,
          4.599,
          4.599,
          4.599,
          4.62,
          4.8825,
          4.872,
          4.9035,
          4.914,
          4.914,
          4.8405,
          4.788,
          5.019,
          4.893,
          4.9035,
          4.893,
          4.893,
          4.998,
          4.977,
          4.9665,
          5.1555,
          5.1555,
          5.1555,
          5.1555,
          5.1555,
          5.1555,
          5.4285,
          5.9955,
          5.607,
          5.586,
          5.586,
          5.208,
          5.019,
          4.935,
          5.04,
          5.061,
          5.0715,
          5.0715,
          4.977,
          4.746,
          4.8825,
          4.641,
          4.914,
          4.935,
          4.935,
          5.124,
          5.0925,
          5.586,
          5.922,
          6.3525,
          6.426,
          6.426,
          5.6175,
          5.481,
          5.67,
          5.502,
          5.6805,
          5.67,
          5.67,
          5.8905,
          5.9325,
          5.775,
          5.8065,
          6.153,
          6.0795,
          6.0795,
          5.9955,
          5.9745,
          5.8485,
          5.8065,
          5.691,
          5.67,
          5.67,
          5.88,
          6.342,
          6.1635,
          6.111,
          6.426,
          6.4155,
          6.4155,
          6.1845,
          6.3735,
          6.5415,
          6.9195,
          6.9825,
          6.9825,
          6.9825,
          6.5415,
          6.909,
          6.783,
          6.426,
          6.6045,
          6.699,
          6.699,
          6.5625,
          6.6465,
          6.8355,
          7.5915,
          7.6965,
          7.7805,
          7.7805,
          7.1715,
          7.245,
          6.741,
          6.531,
          7.5075,
          7.1715,
          7.1715,
          7.434,
          6.951,
          7.035,
          7.665,
          7.1925,
          7.056,
          7.056,
          6.7515,
          6.4155,
          7.623,
          6.762,
          7.749,
          7.749,
          7.749,
          7.644,
          7.2135,
          7.245,
          7.287,
          7.287,
          7.287,
          7.287,
          8.3475,
          8.757,
          9.7965,
          10.30974,
          10.30974,
          10.30974,
          10.30974,
          10.30974,
          10.30974,
          10.30974,
          10.30974,
          10.38849,
          10.93449,
          10.93449,
          10.30974,
          10.88199,
          10.30974,
          10.30974,
          10.30974,
          10.30974,
          10.30974,
          10.30974,
          10.30974,
          10.30974,
          10.30974,
          7.2135,
          7.2135,
          7.2135,
          7.1715,
          5.775,
          5.355,
          5.2395,
          5.124,
          5.0925,
          5.0925,
          5.124,
          4.221
         ]
        },
        {
         "mode": "lines",
         "name": "Forecast",
         "type": "scatter",
         "x": [
          "2022-11-17T00:00:00",
          "2022-11-18T00:00:00",
          "2022-11-19T00:00:00",
          "2022-11-20T00:00:00",
          "2022-11-21T00:00:00",
          "2022-11-22T00:00:00",
          "2022-11-23T00:00:00",
          "2022-11-24T00:00:00",
          "2022-11-25T00:00:00",
          "2022-11-26T00:00:00",
          "2022-11-27T00:00:00",
          "2022-11-28T00:00:00",
          "2022-11-29T00:00:00",
          "2022-11-30T00:00:00",
          "2022-12-01T00:00:00",
          "2022-12-02T00:00:00",
          "2022-12-03T00:00:00",
          "2022-12-04T00:00:00",
          "2022-12-05T00:00:00",
          "2022-12-06T00:00:00",
          "2022-12-07T00:00:00",
          "2022-12-08T00:00:00",
          "2022-12-09T00:00:00",
          "2022-12-10T00:00:00",
          "2022-12-11T00:00:00",
          "2022-12-12T00:00:00",
          "2022-12-13T00:00:00",
          "2022-12-14T00:00:00",
          "2022-12-15T00:00:00",
          "2022-12-16T00:00:00",
          "2022-12-17T00:00:00",
          "2022-12-18T00:00:00",
          "2022-12-19T00:00:00",
          "2022-12-20T00:00:00",
          "2022-12-21T00:00:00",
          "2022-12-22T00:00:00",
          "2022-12-23T00:00:00",
          "2022-12-24T00:00:00",
          "2022-12-25T00:00:00",
          "2022-12-26T00:00:00",
          "2022-12-27T00:00:00",
          "2022-12-28T00:00:00",
          "2022-12-29T00:00:00",
          "2022-12-30T00:00:00",
          "2022-12-31T00:00:00",
          "2023-01-01T00:00:00",
          "2023-01-02T00:00:00",
          "2023-01-03T00:00:00",
          "2023-01-04T00:00:00",
          "2023-01-05T00:00:00",
          "2023-01-06T00:00:00",
          "2023-01-07T00:00:00",
          "2023-01-08T00:00:00",
          "2023-01-09T00:00:00",
          "2023-01-10T00:00:00",
          "2023-01-11T00:00:00",
          "2023-01-12T00:00:00",
          "2023-01-13T00:00:00",
          "2023-01-14T00:00:00",
          "2023-01-15T00:00:00",
          "2023-01-16T00:00:00",
          "2023-01-17T00:00:00",
          "2023-01-18T00:00:00",
          "2023-01-19T00:00:00",
          "2023-01-20T00:00:00",
          "2023-01-21T00:00:00",
          "2023-01-22T00:00:00",
          "2023-01-23T00:00:00",
          "2023-01-24T00:00:00",
          "2023-01-25T00:00:00",
          "2023-01-26T00:00:00",
          "2023-01-27T00:00:00",
          "2023-01-28T00:00:00",
          "2023-01-29T00:00:00",
          "2023-01-30T00:00:00",
          "2023-01-31T00:00:00",
          "2023-02-01T00:00:00",
          "2023-02-02T00:00:00",
          "2023-02-03T00:00:00",
          "2023-02-04T00:00:00",
          "2023-02-05T00:00:00",
          "2023-02-06T00:00:00",
          "2023-02-07T00:00:00",
          "2023-02-08T00:00:00",
          "2023-02-09T00:00:00",
          "2023-02-10T00:00:00",
          "2023-02-11T00:00:00",
          "2023-02-12T00:00:00",
          "2023-02-13T00:00:00",
          "2023-02-14T00:00:00",
          "2023-02-15T00:00:00",
          "2023-02-16T00:00:00",
          "2023-02-17T00:00:00",
          "2023-02-18T00:00:00",
          "2023-02-19T00:00:00",
          "2023-02-20T00:00:00",
          "2023-02-21T00:00:00",
          "2023-02-22T00:00:00",
          "2023-02-23T00:00:00",
          "2023-02-24T00:00:00",
          "2023-02-25T00:00:00",
          "2023-02-26T00:00:00",
          "2023-02-27T00:00:00",
          "2023-02-28T00:00:00",
          "2023-03-01T00:00:00",
          "2023-03-02T00:00:00",
          "2023-03-03T00:00:00",
          "2023-03-04T00:00:00",
          "2023-03-05T00:00:00",
          "2023-03-06T00:00:00",
          "2023-03-07T00:00:00",
          "2023-03-08T00:00:00",
          "2023-03-09T00:00:00",
          "2023-03-10T00:00:00",
          "2023-03-11T00:00:00",
          "2023-03-12T00:00:00",
          "2023-03-13T00:00:00",
          "2023-03-14T00:00:00",
          "2023-03-15T00:00:00",
          "2023-03-16T00:00:00",
          "2023-03-17T00:00:00",
          "2023-03-18T00:00:00",
          "2023-03-19T00:00:00",
          "2023-03-20T00:00:00",
          "2023-03-21T00:00:00",
          "2023-03-22T00:00:00",
          "2023-03-23T00:00:00",
          "2023-03-24T00:00:00",
          "2023-03-25T00:00:00",
          "2023-03-26T00:00:00",
          "2023-03-26T23:00:00",
          "2023-03-27T23:00:00",
          "2023-03-28T23:00:00",
          "2023-03-29T23:00:00",
          "2023-03-30T23:00:00",
          "2023-03-31T23:00:00",
          "2023-04-01T23:00:00",
          "2023-04-02T23:00:00",
          "2023-04-03T23:00:00",
          "2023-04-04T23:00:00",
          "2023-04-05T23:00:00",
          "2023-04-06T23:00:00",
          "2023-04-07T23:00:00",
          "2023-04-08T23:00:00",
          "2023-04-09T23:00:00",
          "2023-04-10T23:00:00",
          "2023-04-11T23:00:00",
          "2023-04-12T23:00:00",
          "2023-04-13T23:00:00",
          "2023-04-14T23:00:00",
          "2023-04-15T23:00:00",
          "2023-04-16T23:00:00",
          "2023-04-17T23:00:00",
          "2023-04-18T23:00:00",
          "2023-04-19T23:00:00",
          "2023-04-20T23:00:00",
          "2023-04-21T23:00:00",
          "2023-04-22T23:00:00",
          "2023-04-23T23:00:00",
          "2023-04-24T23:00:00",
          "2023-04-25T23:00:00",
          "2023-04-26T23:00:00",
          "2023-04-27T23:00:00",
          "2023-04-28T23:00:00",
          "2023-04-29T23:00:00",
          "2023-04-30T23:00:00",
          "2023-05-01T23:00:00",
          "2023-05-02T23:00:00",
          "2023-05-03T23:00:00",
          "2023-05-04T23:00:00",
          "2023-05-05T23:00:00",
          "2023-05-06T23:00:00",
          "2023-05-07T23:00:00",
          "2023-05-08T23:00:00",
          "2023-05-09T23:00:00",
          "2023-05-10T23:00:00",
          "2023-05-11T23:00:00",
          "2023-05-12T23:00:00",
          "2023-05-13T23:00:00",
          "2023-05-14T23:00:00",
          "2023-05-15T23:00:00",
          "2023-05-16T23:00:00",
          "2023-05-17T23:00:00",
          "2023-05-18T23:00:00",
          "2023-05-19T23:00:00",
          "2023-05-20T23:00:00",
          "2023-05-21T23:00:00",
          "2023-05-22T23:00:00",
          "2023-05-23T23:00:00",
          "2023-05-24T23:00:00",
          "2023-05-25T23:00:00",
          "2023-05-26T23:00:00",
          "2023-05-27T23:00:00",
          "2023-05-28T23:00:00",
          "2023-05-29T23:00:00",
          "2023-05-30T23:00:00",
          "2023-05-31T23:00:00",
          "2023-06-01T23:00:00",
          "2023-06-02T23:00:00",
          "2023-06-03T23:00:00",
          "2023-06-04T23:00:00",
          "2023-06-05T23:00:00",
          "2023-06-06T23:00:00",
          "2023-06-07T23:00:00",
          "2023-06-08T23:00:00",
          "2023-06-09T23:00:00",
          "2023-06-10T23:00:00",
          "2023-06-11T23:00:00",
          "2023-06-12T23:00:00",
          "2023-06-13T23:00:00",
          "2023-06-14T23:00:00",
          "2023-06-15T23:00:00",
          "2023-06-16T23:00:00",
          "2023-06-17T23:00:00",
          "2023-06-18T23:00:00",
          "2023-06-19T23:00:00",
          "2023-06-20T23:00:00",
          "2023-06-21T23:00:00",
          "2023-06-22T23:00:00",
          "2023-06-23T23:00:00",
          "2023-06-24T23:00:00",
          "2023-06-25T23:00:00",
          "2023-06-26T23:00:00",
          "2023-06-27T23:00:00",
          "2023-06-28T23:00:00",
          "2023-06-29T23:00:00",
          "2023-06-30T23:00:00",
          "2023-07-01T23:00:00",
          "2023-07-02T23:00:00",
          "2023-07-03T23:00:00",
          "2023-07-04T23:00:00",
          "2023-07-05T23:00:00",
          "2023-07-06T23:00:00",
          "2023-07-07T23:00:00",
          "2023-07-08T23:00:00",
          "2023-07-09T23:00:00",
          "2023-07-10T23:00:00",
          "2023-07-11T23:00:00",
          "2023-07-12T23:00:00",
          "2023-07-13T23:00:00",
          "2023-07-14T23:00:00",
          "2023-07-15T23:00:00",
          "2023-07-16T23:00:00",
          "2023-07-17T23:00:00",
          "2023-07-18T23:00:00",
          "2023-07-19T23:00:00",
          "2023-07-20T23:00:00",
          "2023-07-21T23:00:00",
          "2023-07-22T23:00:00",
          "2023-07-23T23:00:00",
          "2023-07-24T23:00:00",
          "2023-07-25T23:00:00",
          "2023-07-26T23:00:00",
          "2023-07-27T23:00:00",
          "2023-07-28T23:00:00",
          "2023-07-29T23:00:00",
          "2023-07-30T23:00:00",
          "2023-07-31T23:00:00",
          "2023-08-01T23:00:00",
          "2023-08-02T23:00:00",
          "2023-08-03T23:00:00",
          "2023-08-04T23:00:00",
          "2023-08-05T23:00:00",
          "2023-08-06T23:00:00",
          "2023-08-07T23:00:00",
          "2023-08-08T23:00:00",
          "2023-08-09T23:00:00",
          "2023-08-10T23:00:00",
          "2023-08-11T23:00:00",
          "2023-08-12T23:00:00",
          "2023-08-13T23:00:00",
          "2023-08-14T23:00:00",
          "2023-08-15T23:00:00",
          "2023-08-16T23:00:00",
          "2023-08-17T23:00:00",
          "2023-08-18T23:00:00",
          "2023-08-19T23:00:00",
          "2023-08-20T23:00:00",
          "2023-08-21T23:00:00",
          "2023-08-22T23:00:00",
          "2023-08-23T23:00:00",
          "2023-08-24T23:00:00",
          "2023-08-25T23:00:00",
          "2023-08-26T23:00:00",
          "2023-08-27T23:00:00",
          "2023-08-28T23:00:00",
          "2023-08-29T23:00:00",
          "2023-08-30T23:00:00",
          "2023-08-31T23:00:00",
          "2023-09-01T23:00:00",
          "2023-09-02T23:00:00",
          "2023-09-03T23:00:00",
          "2023-09-04T23:00:00",
          "2023-09-05T23:00:00",
          "2023-09-06T23:00:00",
          "2023-09-07T23:00:00",
          "2023-09-08T23:00:00",
          "2023-09-09T23:00:00",
          "2023-09-10T23:00:00",
          "2023-09-11T23:00:00",
          "2023-09-12T23:00:00",
          "2023-09-13T23:00:00",
          "2023-09-14T23:00:00",
          "2023-09-15T23:00:00",
          "2023-09-16T23:00:00",
          "2023-09-17T23:00:00",
          "2023-09-18T23:00:00",
          "2023-09-19T23:00:00",
          "2023-09-20T23:00:00",
          "2023-09-21T23:00:00",
          "2023-09-22T23:00:00",
          "2023-09-23T23:00:00",
          "2023-09-24T23:00:00",
          "2023-09-25T23:00:00",
          "2023-09-26T23:00:00",
          "2023-09-27T23:00:00",
          "2023-09-28T23:00:00",
          "2023-09-29T23:00:00",
          "2023-09-30T23:00:00",
          "2023-10-01T23:00:00",
          "2023-10-02T23:00:00",
          "2023-10-03T23:00:00",
          "2023-10-04T23:00:00",
          "2023-10-05T23:00:00",
          "2023-10-06T23:00:00",
          "2023-10-07T23:00:00",
          "2023-10-08T23:00:00",
          "2023-10-09T23:00:00",
          "2023-10-10T23:00:00",
          "2023-10-11T23:00:00",
          "2023-10-12T23:00:00",
          "2023-10-13T23:00:00",
          "2023-10-14T23:00:00",
          "2023-10-15T23:00:00",
          "2023-10-16T23:00:00",
          "2023-10-17T23:00:00",
          "2023-10-18T23:00:00",
          "2023-10-19T23:00:00",
          "2023-10-20T23:00:00",
          "2023-10-21T23:00:00",
          "2023-10-22T23:00:00",
          "2023-10-23T23:00:00",
          "2023-10-24T23:00:00",
          "2023-10-25T23:00:00",
          "2023-10-26T23:00:00",
          "2023-10-27T23:00:00",
          "2023-10-28T23:00:00",
          "2023-10-29T23:00:00",
          "2023-10-30T23:00:00",
          "2023-10-31T23:00:00",
          "2023-11-01T23:00:00",
          "2023-11-02T23:00:00",
          "2023-11-03T23:00:00",
          "2023-11-04T23:00:00",
          "2023-11-05T23:00:00",
          "2023-11-06T23:00:00",
          "2023-11-07T23:00:00",
          "2023-11-08T23:00:00",
          "2023-11-09T23:00:00",
          "2023-11-10T23:00:00",
          "2023-11-11T23:00:00",
          "2023-11-12T23:00:00",
          "2023-11-13T23:00:00",
          "2023-11-14T23:00:00",
          "2023-11-15T23:00:00",
          "2023-11-16T23:00:00",
          "2023-11-17T23:00:00",
          "2023-11-18T23:00:00",
          "2023-11-19T23:00:00",
          "2023-11-20T23:00:00",
          "2023-11-21T23:00:00",
          "2023-11-22T23:00:00",
          "2023-11-23T23:00:00",
          "2023-11-24T23:00:00",
          "2023-11-25T23:00:00",
          "2023-11-26T23:00:00",
          "2023-11-27T23:00:00",
          "2023-11-28T23:00:00",
          "2023-11-29T23:00:00",
          "2023-11-30T23:00:00",
          "2023-12-01T23:00:00",
          "2023-12-02T23:00:00",
          "2023-12-03T23:00:00",
          "2023-12-04T23:00:00",
          "2023-12-05T23:00:00",
          "2023-12-06T23:00:00",
          "2023-12-07T23:00:00",
          "2023-12-08T23:00:00",
          "2023-12-09T23:00:00",
          "2023-12-10T23:00:00",
          "2023-12-11T23:00:00",
          "2023-12-12T23:00:00",
          "2023-12-13T23:00:00",
          "2023-12-14T23:00:00",
          "2023-12-15T23:00:00",
          "2023-12-16T23:00:00",
          "2023-12-17T23:00:00",
          "2023-12-18T23:00:00",
          "2023-12-19T23:00:00",
          "2023-12-20T23:00:00",
          "2023-12-21T23:00:00",
          "2023-12-22T23:00:00",
          "2023-12-23T23:00:00",
          "2023-12-24T23:00:00",
          "2023-12-25T23:00:00",
          "2023-12-26T23:00:00",
          "2023-12-27T23:00:00",
          "2023-12-28T23:00:00",
          "2023-12-29T23:00:00",
          "2023-12-30T23:00:00",
          "2023-12-31T23:00:00",
          "2024-01-01T23:00:00",
          "2024-01-02T23:00:00",
          "2024-01-03T23:00:00",
          "2024-01-04T23:00:00",
          "2024-01-05T23:00:00",
          "2024-01-06T23:00:00",
          "2024-01-07T23:00:00",
          "2024-01-08T23:00:00",
          "2024-01-09T23:00:00",
          "2024-01-10T23:00:00",
          "2024-01-11T23:00:00",
          "2024-01-12T23:00:00",
          "2024-01-13T23:00:00",
          "2024-01-14T23:00:00",
          "2024-01-15T23:00:00",
          "2024-01-16T23:00:00",
          "2024-01-17T23:00:00",
          "2024-01-18T23:00:00",
          "2024-01-19T23:00:00",
          "2024-01-20T23:00:00",
          "2024-01-21T23:00:00",
          "2024-01-22T23:00:00",
          "2024-01-23T23:00:00",
          "2024-01-24T23:00:00",
          "2024-01-25T23:00:00",
          "2024-01-26T23:00:00"
         ],
         "y": [
          8.447484927830091,
          8.439806353577097,
          8.486989811780045,
          8.484408133039185,
          8.479229003322484,
          8.486108790291746,
          8.489492114775393,
          8.378287566444737,
          8.370608992191926,
          8.417792450418595,
          8.415210771677563,
          8.410031642000378,
          8.416911428826893,
          8.420294753230873,
          8.309090204820597,
          8.30141163048823,
          8.348595088635243,
          8.346013409814672,
          8.340834280057855,
          8.347714066884386,
          8.35109739131193,
          8.239892842901684,
          8.232214268569187,
          8.268598806985246,
          8.255218208457153,
          8.239240158992754,
          8.235321026111828,
          8.227905430831811,
          8.10590196277758,
          8.087424468674099,
          8.123809007090113,
          8.110428408585612,
          8.0944503591214,
          8.090531226240273,
          8.075086504595383,
          7.945053910199835,
          7.918547289755264,
          7.946902701829967,
          7.925492976984183,
          7.9014858011786195,
          7.889537541956269,
          7.874092820311327,
          7.7440602259157725,
          7.717553605494851,
          7.745909017569467,
          7.724499292694521,
          7.700492116756957,
          7.688543857465871,
          7.6730991357520315,
          7.54306654128791,
          7.516559920798086,
          7.5449153328038605,
          7.523505607928904,
          7.499498431991318,
          7.487550172723883,
          7.472105451073423,
          7.342072854043825,
          7.315566231028303,
          7.3439216405318515,
          7.322511913154785,
          7.298504734715027,
          7.286556472945623,
          7.2711117487929675,
          7.1410791517633285,
          7.114572528747912,
          7.142927938275259,
          7.121518210898018,
          7.097511032810342,
          7.085562771369201,
          7.070118047568443,
          6.940085450890769,
          6.913578828227272,
          6.941934238145975,
          6.920524511081383,
          6.896517332993708,
          6.884569071552619,
          6.86912434775204,
          6.739091751097799,
          6.712585128922364,
          6.740940539329354,
          6.7195308127290785,
          6.695523635129468,
          6.683575374176335,
          6.668130650863912,
          6.538098054697748,
          6.5115914325224455,
          6.5399468429293135,
          6.518537116329111,
          6.4945299387531525,
          6.482581678839308,
          6.467136956439768,
          6.337104361226038,
          6.310597740026974,
          6.33895315140993,
          6.3175434257859315,
          6.293536249186085,
          6.281587989272258,
          6.266143266872644,
          6.136110671659187,
          6.109604050522915,
          6.137959511171655,
          6.1165498348524086,
          6.092542707533969,
          6.080594496925052,
          6.065149823830531,
          5.935117277922016,
          5.908610706090854,
          5.93696616673955,
          5.915556490420379,
          5.891549363101849,
          5.879601152493015,
          5.8641566224181645,
          5.734124219505837,
          5.707617790670781,
          5.7359733942917455,
          5.714563860968873,
          5.690556876709632,
          5.678608809033701,
          5.663164278958797,
          5.53313187604641,
          5.506625447211461,
          5.534981050832379,
          5.513578561014532,
          5.489578620236904,
          5.4776375960423485,
          5.46220010942538,
          5.332174749994132,
          5.305675364640798,
          5.334038011743113,
          5.3126355219252535,
          5.464411698091087,
          5.450581384766835,
          5.439039964062163,
          5.310686543520168,
          5.277371467982412,
          5.307870747206947,
          5.286946633853751,
          5.263468762521435,
          5.2496384698978265,
          5.2380970698774725,
          5.109743649292675,
          5.076428573797641,
          5.1069278530385915,
          5.086003739685379,
          5.062525868352994,
          5.048943124154669,
          5.037649272559499,
          4.909543400399856,
          4.8764758733301665,
          4.907222700996312,
          4.886546136052056,
          4.863315813145073,
          4.849733068946551,
          4.838439217367663,
          4.710333345207968,
          4.677265818138471,
          4.709274476732055,
          4.689859742688277,
          4.6678912507356785,
          4.655570337464682,
          4.6455383168132185,
          4.518694275580979,
          4.486888579422726,
          4.518897238016217,
          4.499482503972498,
          4.477514012036176,
          4.465193098765239,
          4.459103088842673,
          4.336201058339655,
          4.30833737291028,
          4.344288042232718,
          4.328815318917962,
          4.310788837710597,
          4.302409935152436,
          4.2963199251867605,
          4.173417894726855,
          4.1455542093137545,
          4.1815048786360745,
          4.172904203755104,
          4.161749770981478,
          4.160242916857224,
          4.161024955325254,
          4.04499497329909,
          4.024003336319889,
          4.066826054059931,
          4.058225379178787,
          4.047070946405258,
          4.045564092297172,
          4.046346130765145,
          3.9391351816896463,
          3.926962577661092,
          3.9786043283245984,
          3.9788226864214034,
          3.9764872865985597,
          3.98379946544121,
          3.993400536860023,
          3.8861895877681003,
          3.874016983739518,
          3.925658734403235,
          3.9258770925161395,
          3.9310700791812803,
          3.9459106444685372,
          3.963040102418715,
          3.8633575398147793,
          3.8587133222743364,
          3.9178834594259424,
          3.925630204026921,
          3.9308231906758415,
          3.9456637559630936,
          3.9627932139131796,
          3.8631106513254196,
          3.8617952175600125,
          3.9242941384865055,
          3.935369666862478,
          3.9438914372863003,
          3.962060786348492,
          3.9825190280734466,
          3.8861652492608867,
          3.88484981545182,
          3.947348736405662,
          3.95842426478139,
          3.966946035221488,
          3.986191755303772,
          4.007726368049028,
          3.912448960256586,
          3.912209897467825,
          3.9757851894418246,
          3.9879370888378167,
          3.997535230298031,
          4.016780950380387,
          4.0383155631093315,
          3.943038155316984,
          3.9427990925282184,
          4.007635605442615,
          4.021048725763179,
          4.03190808810449,
          4.052415029154471,
          4.075210862807738,
          3.981194675939683,
          3.9822168340753965,
          4.047053346989756,
          4.0604664672940425,
          4.071325829635522,
          4.091832770685461,
          4.117284861288771,
          4.025924931311275,
          4.029603346423703,
          4.097096116271711,
          4.113165493509665,
          4.126681112784703,
          4.149844310768431,
          4.175296401371694,
          4.0839364713941215,
          4.087614886490379,
          4.155107656338515,
          4.173061364785607,
          4.18846131525358,
          4.2135088444302795,
          4.240845266226414,
          4.151369667441747,
          4.156932413730983,
          4.2263095147722085,
          4.244263223175962,
          4.25966317368719,
          4.284710702847731,
          4.3120471246438,
          4.222755998699282,
          4.22850321784479,
          4.298064791726058,
          4.316202972969888,
          4.331787396321199,
          4.357019398321727,
          4.384540292957946,
          4.295249167013376,
          4.300996386159077,
          4.370557960024195,
          4.388696141267924,
          4.404356103231552,
          4.429663643860527,
          4.457260077065946,
          4.368044489776693,
          4.373867247534815,
          4.443504360011889,
          4.46171807986812,
          4.477378041831751,
          4.5026855824607885,
          4.530282015666122,
          4.441066428360971,
          4.446889186118773,
          4.516526298569005,
          4.534740018468388,
          4.5503999804319974,
          4.57570752106105,
          4.603303954266327,
          4.514088366961158,
          4.519911124719091,
          4.589548237169206,
          4.607761957068585,
          4.623421919015988,
          4.648729459645091,
          4.676325892850276,
          4.587110305561284,
          4.592933063319329,
          4.6625701757692735,
          4.680783895668854,
          4.6964438576162335,
          4.721751398201928,
          4.74934783145048,
          4.660132244161469,
          4.665955001903198,
          4.735592114353356,
          4.753805834252778,
          4.769465796216434,
          4.79477333680219,
          4.822369770050891,
          4.733154182761596,
          4.738976940503436,
          4.80861405295364,
          4.826827772853046,
          4.842487734816681,
          4.86779527540245,
          4.895391708634868,
          4.806176121345641,
          4.811998879060424,
          4.88163599155384,
          4.899849711453312,
          4.91550967341688,
          4.940817214002701,
          4.968413647235044,
          4.879198059945767,
          4.885020817660493,
          4.954657930154041,
          4.972871650037309,
          4.988531611957712,
          5.013839152586753,
          5.0414355858352495,
          4.952219998546246,
          4.958042756260811,
          5.0276798687543245,
          5.045893588637505,
          5.061553550557912,
          5.08686109118685,
          5.114457524435454,
          5.0252419371302315,
          5.031064694844769,
          5.1007018073384085,
          5.118915527237773,
          5.134575489158158,
          5.15988302978711,
          5.187479463035631,
          5.098263875703366,
          5.104086633445087,
          5.173723745938475,
          5.191937465838042,
          5.207597427758357,
          5.232904968371153,
          5.2605014016196066,
          5.171285814287646,
          5.177108572045324,
          5.246745684538675,
          5.264959404438239,
          5.280619366358605,
          5.305926906971413,
          5.333523340220017,
          5.244307752887832,
          5.250130510645642,
          5.319767623122844,
          5.33798134297891,
          5.353641304942594,
          5.3789488455716645,
          5.406545278820221,
          5.3173296914879575,
          5.32315244924588,
          5.392789561723044,
          5.411003281579178,
          5.42666324354284,
          5.451970784171925,
          5.47956721737712,
          5.390351630072003,
          5.39617438782975,
          5.465811500323327,
          5.484025220179447,
          5.49968518214304,
          5.524992722772176,
          5.552589155977557,
          5.463373568672129,
          5.469196326429987,
          5.538833438923527,
          5.557047158779644,
          5.572707120727133,
          5.598014661356074,
          5.625611094561506,
          5.536395507272256,
          5.542218265030304,
          5.611855377480428,
          5.630069097379982,
          5.6457290593273335,
          5.671036599956324,
          5.698633033161712,
          5.609417445872442,
          5.615240203614263,
          5.684877316064512,
          5.703091035963906,
          5.718750997927533,
          5.744058538556585,
          5.771654971761888,
          5.682439384472861,
          5.6882621422145805,
          5.757899254664797,
          5.776112974564175,
          5.79177293652778,
          5.817080477113423,
          5.844676910345866,
          5.755461323056906,
          5.761284080814899,
          5.830921193264997,
          5.84913491316437,
          5.864794875127924,
          5.890102415713684,
          5.917698848946043,
          5.828483261657033,
          5.834306019371638,
          5.903943131865063,
          5.922156851748367,
          5.937816813712015,
          5.963124354297724,
          5.9907207875462465,
          5.901505200257219,
          5.907327957971955,
          5.976965070465263,
          5.995178790348563,
          6.010838752312216,
          6.036146292897985,
          6.063742726146657,
          5.9745271388412045,
          5.980349896555913,
          6.049987009049431
         ]
        },
        {
         "fill": "tonexty",
         "mode": "none",
         "name": "Upper Confidence Interval",
         "type": "scatter",
         "x": [
          "2022-11-17T00:00:00",
          "2022-11-18T00:00:00",
          "2022-11-19T00:00:00",
          "2022-11-20T00:00:00",
          "2022-11-21T00:00:00",
          "2022-11-22T00:00:00",
          "2022-11-23T00:00:00",
          "2022-11-24T00:00:00",
          "2022-11-25T00:00:00",
          "2022-11-26T00:00:00",
          "2022-11-27T00:00:00",
          "2022-11-28T00:00:00",
          "2022-11-29T00:00:00",
          "2022-11-30T00:00:00",
          "2022-12-01T00:00:00",
          "2022-12-02T00:00:00",
          "2022-12-03T00:00:00",
          "2022-12-04T00:00:00",
          "2022-12-05T00:00:00",
          "2022-12-06T00:00:00",
          "2022-12-07T00:00:00",
          "2022-12-08T00:00:00",
          "2022-12-09T00:00:00",
          "2022-12-10T00:00:00",
          "2022-12-11T00:00:00",
          "2022-12-12T00:00:00",
          "2022-12-13T00:00:00",
          "2022-12-14T00:00:00",
          "2022-12-15T00:00:00",
          "2022-12-16T00:00:00",
          "2022-12-17T00:00:00",
          "2022-12-18T00:00:00",
          "2022-12-19T00:00:00",
          "2022-12-20T00:00:00",
          "2022-12-21T00:00:00",
          "2022-12-22T00:00:00",
          "2022-12-23T00:00:00",
          "2022-12-24T00:00:00",
          "2022-12-25T00:00:00",
          "2022-12-26T00:00:00",
          "2022-12-27T00:00:00",
          "2022-12-28T00:00:00",
          "2022-12-29T00:00:00",
          "2022-12-30T00:00:00",
          "2022-12-31T00:00:00",
          "2023-01-01T00:00:00",
          "2023-01-02T00:00:00",
          "2023-01-03T00:00:00",
          "2023-01-04T00:00:00",
          "2023-01-05T00:00:00",
          "2023-01-06T00:00:00",
          "2023-01-07T00:00:00",
          "2023-01-08T00:00:00",
          "2023-01-09T00:00:00",
          "2023-01-10T00:00:00",
          "2023-01-11T00:00:00",
          "2023-01-12T00:00:00",
          "2023-01-13T00:00:00",
          "2023-01-14T00:00:00",
          "2023-01-15T00:00:00",
          "2023-01-16T00:00:00",
          "2023-01-17T00:00:00",
          "2023-01-18T00:00:00",
          "2023-01-19T00:00:00",
          "2023-01-20T00:00:00",
          "2023-01-21T00:00:00",
          "2023-01-22T00:00:00",
          "2023-01-23T00:00:00",
          "2023-01-24T00:00:00",
          "2023-01-25T00:00:00",
          "2023-01-26T00:00:00",
          "2023-01-27T00:00:00",
          "2023-01-28T00:00:00",
          "2023-01-29T00:00:00",
          "2023-01-30T00:00:00",
          "2023-01-31T00:00:00",
          "2023-02-01T00:00:00",
          "2023-02-02T00:00:00",
          "2023-02-03T00:00:00",
          "2023-02-04T00:00:00",
          "2023-02-05T00:00:00",
          "2023-02-06T00:00:00",
          "2023-02-07T00:00:00",
          "2023-02-08T00:00:00",
          "2023-02-09T00:00:00",
          "2023-02-10T00:00:00",
          "2023-02-11T00:00:00",
          "2023-02-12T00:00:00",
          "2023-02-13T00:00:00",
          "2023-02-14T00:00:00",
          "2023-02-15T00:00:00",
          "2023-02-16T00:00:00",
          "2023-02-17T00:00:00",
          "2023-02-18T00:00:00",
          "2023-02-19T00:00:00",
          "2023-02-20T00:00:00",
          "2023-02-21T00:00:00",
          "2023-02-22T00:00:00",
          "2023-02-23T00:00:00",
          "2023-02-24T00:00:00",
          "2023-02-25T00:00:00",
          "2023-02-26T00:00:00",
          "2023-02-27T00:00:00",
          "2023-02-28T00:00:00",
          "2023-03-01T00:00:00",
          "2023-03-02T00:00:00",
          "2023-03-03T00:00:00",
          "2023-03-04T00:00:00",
          "2023-03-05T00:00:00",
          "2023-03-06T00:00:00",
          "2023-03-07T00:00:00",
          "2023-03-08T00:00:00",
          "2023-03-09T00:00:00",
          "2023-03-10T00:00:00",
          "2023-03-11T00:00:00",
          "2023-03-12T00:00:00",
          "2023-03-13T00:00:00",
          "2023-03-14T00:00:00",
          "2023-03-15T00:00:00",
          "2023-03-16T00:00:00",
          "2023-03-17T00:00:00",
          "2023-03-18T00:00:00",
          "2023-03-19T00:00:00",
          "2023-03-20T00:00:00",
          "2023-03-21T00:00:00",
          "2023-03-22T00:00:00",
          "2023-03-23T00:00:00",
          "2023-03-24T00:00:00",
          "2023-03-25T00:00:00",
          "2023-03-26T00:00:00",
          "2023-03-26T23:00:00",
          "2023-03-27T23:00:00",
          "2023-03-28T23:00:00",
          "2023-03-29T23:00:00",
          "2023-03-30T23:00:00",
          "2023-03-31T23:00:00",
          "2023-04-01T23:00:00",
          "2023-04-02T23:00:00",
          "2023-04-03T23:00:00",
          "2023-04-04T23:00:00",
          "2023-04-05T23:00:00",
          "2023-04-06T23:00:00",
          "2023-04-07T23:00:00",
          "2023-04-08T23:00:00",
          "2023-04-09T23:00:00",
          "2023-04-10T23:00:00",
          "2023-04-11T23:00:00",
          "2023-04-12T23:00:00",
          "2023-04-13T23:00:00",
          "2023-04-14T23:00:00",
          "2023-04-15T23:00:00",
          "2023-04-16T23:00:00",
          "2023-04-17T23:00:00",
          "2023-04-18T23:00:00",
          "2023-04-19T23:00:00",
          "2023-04-20T23:00:00",
          "2023-04-21T23:00:00",
          "2023-04-22T23:00:00",
          "2023-04-23T23:00:00",
          "2023-04-24T23:00:00",
          "2023-04-25T23:00:00",
          "2023-04-26T23:00:00",
          "2023-04-27T23:00:00",
          "2023-04-28T23:00:00",
          "2023-04-29T23:00:00",
          "2023-04-30T23:00:00",
          "2023-05-01T23:00:00",
          "2023-05-02T23:00:00",
          "2023-05-03T23:00:00",
          "2023-05-04T23:00:00",
          "2023-05-05T23:00:00",
          "2023-05-06T23:00:00",
          "2023-05-07T23:00:00",
          "2023-05-08T23:00:00",
          "2023-05-09T23:00:00",
          "2023-05-10T23:00:00",
          "2023-05-11T23:00:00",
          "2023-05-12T23:00:00",
          "2023-05-13T23:00:00",
          "2023-05-14T23:00:00",
          "2023-05-15T23:00:00",
          "2023-05-16T23:00:00",
          "2023-05-17T23:00:00",
          "2023-05-18T23:00:00",
          "2023-05-19T23:00:00",
          "2023-05-20T23:00:00",
          "2023-05-21T23:00:00",
          "2023-05-22T23:00:00",
          "2023-05-23T23:00:00",
          "2023-05-24T23:00:00",
          "2023-05-25T23:00:00",
          "2023-05-26T23:00:00",
          "2023-05-27T23:00:00",
          "2023-05-28T23:00:00",
          "2023-05-29T23:00:00",
          "2023-05-30T23:00:00",
          "2023-05-31T23:00:00",
          "2023-06-01T23:00:00",
          "2023-06-02T23:00:00",
          "2023-06-03T23:00:00",
          "2023-06-04T23:00:00",
          "2023-06-05T23:00:00",
          "2023-06-06T23:00:00",
          "2023-06-07T23:00:00",
          "2023-06-08T23:00:00",
          "2023-06-09T23:00:00",
          "2023-06-10T23:00:00",
          "2023-06-11T23:00:00",
          "2023-06-12T23:00:00",
          "2023-06-13T23:00:00",
          "2023-06-14T23:00:00",
          "2023-06-15T23:00:00",
          "2023-06-16T23:00:00",
          "2023-06-17T23:00:00",
          "2023-06-18T23:00:00",
          "2023-06-19T23:00:00",
          "2023-06-20T23:00:00",
          "2023-06-21T23:00:00",
          "2023-06-22T23:00:00",
          "2023-06-23T23:00:00",
          "2023-06-24T23:00:00",
          "2023-06-25T23:00:00",
          "2023-06-26T23:00:00",
          "2023-06-27T23:00:00",
          "2023-06-28T23:00:00",
          "2023-06-29T23:00:00",
          "2023-06-30T23:00:00",
          "2023-07-01T23:00:00",
          "2023-07-02T23:00:00",
          "2023-07-03T23:00:00",
          "2023-07-04T23:00:00",
          "2023-07-05T23:00:00",
          "2023-07-06T23:00:00",
          "2023-07-07T23:00:00",
          "2023-07-08T23:00:00",
          "2023-07-09T23:00:00",
          "2023-07-10T23:00:00",
          "2023-07-11T23:00:00",
          "2023-07-12T23:00:00",
          "2023-07-13T23:00:00",
          "2023-07-14T23:00:00",
          "2023-07-15T23:00:00",
          "2023-07-16T23:00:00",
          "2023-07-17T23:00:00",
          "2023-07-18T23:00:00",
          "2023-07-19T23:00:00",
          "2023-07-20T23:00:00",
          "2023-07-21T23:00:00",
          "2023-07-22T23:00:00",
          "2023-07-23T23:00:00",
          "2023-07-24T23:00:00",
          "2023-07-25T23:00:00",
          "2023-07-26T23:00:00",
          "2023-07-27T23:00:00",
          "2023-07-28T23:00:00",
          "2023-07-29T23:00:00",
          "2023-07-30T23:00:00",
          "2023-07-31T23:00:00",
          "2023-08-01T23:00:00",
          "2023-08-02T23:00:00",
          "2023-08-03T23:00:00",
          "2023-08-04T23:00:00",
          "2023-08-05T23:00:00",
          "2023-08-06T23:00:00",
          "2023-08-07T23:00:00",
          "2023-08-08T23:00:00",
          "2023-08-09T23:00:00",
          "2023-08-10T23:00:00",
          "2023-08-11T23:00:00",
          "2023-08-12T23:00:00",
          "2023-08-13T23:00:00",
          "2023-08-14T23:00:00",
          "2023-08-15T23:00:00",
          "2023-08-16T23:00:00",
          "2023-08-17T23:00:00",
          "2023-08-18T23:00:00",
          "2023-08-19T23:00:00",
          "2023-08-20T23:00:00",
          "2023-08-21T23:00:00",
          "2023-08-22T23:00:00",
          "2023-08-23T23:00:00",
          "2023-08-24T23:00:00",
          "2023-08-25T23:00:00",
          "2023-08-26T23:00:00",
          "2023-08-27T23:00:00",
          "2023-08-28T23:00:00",
          "2023-08-29T23:00:00",
          "2023-08-30T23:00:00",
          "2023-08-31T23:00:00",
          "2023-09-01T23:00:00",
          "2023-09-02T23:00:00",
          "2023-09-03T23:00:00",
          "2023-09-04T23:00:00",
          "2023-09-05T23:00:00",
          "2023-09-06T23:00:00",
          "2023-09-07T23:00:00",
          "2023-09-08T23:00:00",
          "2023-09-09T23:00:00",
          "2023-09-10T23:00:00",
          "2023-09-11T23:00:00",
          "2023-09-12T23:00:00",
          "2023-09-13T23:00:00",
          "2023-09-14T23:00:00",
          "2023-09-15T23:00:00",
          "2023-09-16T23:00:00",
          "2023-09-17T23:00:00",
          "2023-09-18T23:00:00",
          "2023-09-19T23:00:00",
          "2023-09-20T23:00:00",
          "2023-09-21T23:00:00",
          "2023-09-22T23:00:00",
          "2023-09-23T23:00:00",
          "2023-09-24T23:00:00",
          "2023-09-25T23:00:00",
          "2023-09-26T23:00:00",
          "2023-09-27T23:00:00",
          "2023-09-28T23:00:00",
          "2023-09-29T23:00:00",
          "2023-09-30T23:00:00",
          "2023-10-01T23:00:00",
          "2023-10-02T23:00:00",
          "2023-10-03T23:00:00",
          "2023-10-04T23:00:00",
          "2023-10-05T23:00:00",
          "2023-10-06T23:00:00",
          "2023-10-07T23:00:00",
          "2023-10-08T23:00:00",
          "2023-10-09T23:00:00",
          "2023-10-10T23:00:00",
          "2023-10-11T23:00:00",
          "2023-10-12T23:00:00",
          "2023-10-13T23:00:00",
          "2023-10-14T23:00:00",
          "2023-10-15T23:00:00",
          "2023-10-16T23:00:00",
          "2023-10-17T23:00:00",
          "2023-10-18T23:00:00",
          "2023-10-19T23:00:00",
          "2023-10-20T23:00:00",
          "2023-10-21T23:00:00",
          "2023-10-22T23:00:00",
          "2023-10-23T23:00:00",
          "2023-10-24T23:00:00",
          "2023-10-25T23:00:00",
          "2023-10-26T23:00:00",
          "2023-10-27T23:00:00",
          "2023-10-28T23:00:00",
          "2023-10-29T23:00:00",
          "2023-10-30T23:00:00",
          "2023-10-31T23:00:00",
          "2023-11-01T23:00:00",
          "2023-11-02T23:00:00",
          "2023-11-03T23:00:00",
          "2023-11-04T23:00:00",
          "2023-11-05T23:00:00",
          "2023-11-06T23:00:00",
          "2023-11-07T23:00:00",
          "2023-11-08T23:00:00",
          "2023-11-09T23:00:00",
          "2023-11-10T23:00:00",
          "2023-11-11T23:00:00",
          "2023-11-12T23:00:00",
          "2023-11-13T23:00:00",
          "2023-11-14T23:00:00",
          "2023-11-15T23:00:00",
          "2023-11-16T23:00:00",
          "2023-11-17T23:00:00",
          "2023-11-18T23:00:00",
          "2023-11-19T23:00:00",
          "2023-11-20T23:00:00",
          "2023-11-21T23:00:00",
          "2023-11-22T23:00:00",
          "2023-11-23T23:00:00",
          "2023-11-24T23:00:00",
          "2023-11-25T23:00:00",
          "2023-11-26T23:00:00",
          "2023-11-27T23:00:00",
          "2023-11-28T23:00:00",
          "2023-11-29T23:00:00",
          "2023-11-30T23:00:00",
          "2023-12-01T23:00:00",
          "2023-12-02T23:00:00",
          "2023-12-03T23:00:00",
          "2023-12-04T23:00:00",
          "2023-12-05T23:00:00",
          "2023-12-06T23:00:00",
          "2023-12-07T23:00:00",
          "2023-12-08T23:00:00",
          "2023-12-09T23:00:00",
          "2023-12-10T23:00:00",
          "2023-12-11T23:00:00",
          "2023-12-12T23:00:00",
          "2023-12-13T23:00:00",
          "2023-12-14T23:00:00",
          "2023-12-15T23:00:00",
          "2023-12-16T23:00:00",
          "2023-12-17T23:00:00",
          "2023-12-18T23:00:00",
          "2023-12-19T23:00:00",
          "2023-12-20T23:00:00",
          "2023-12-21T23:00:00",
          "2023-12-22T23:00:00",
          "2023-12-23T23:00:00",
          "2023-12-24T23:00:00",
          "2023-12-25T23:00:00",
          "2023-12-26T23:00:00",
          "2023-12-27T23:00:00",
          "2023-12-28T23:00:00",
          "2023-12-29T23:00:00",
          "2023-12-30T23:00:00",
          "2023-12-31T23:00:00",
          "2024-01-01T23:00:00",
          "2024-01-02T23:00:00",
          "2024-01-03T23:00:00",
          "2024-01-04T23:00:00",
          "2024-01-05T23:00:00",
          "2024-01-06T23:00:00",
          "2024-01-07T23:00:00",
          "2024-01-08T23:00:00",
          "2024-01-09T23:00:00",
          "2024-01-10T23:00:00",
          "2024-01-11T23:00:00",
          "2024-01-12T23:00:00",
          "2024-01-13T23:00:00",
          "2024-01-14T23:00:00",
          "2024-01-15T23:00:00",
          "2024-01-16T23:00:00",
          "2024-01-17T23:00:00",
          "2024-01-18T23:00:00",
          "2024-01-19T23:00:00",
          "2024-01-20T23:00:00",
          "2024-01-21T23:00:00",
          "2024-01-22T23:00:00",
          "2024-01-23T23:00:00",
          "2024-01-24T23:00:00",
          "2024-01-25T23:00:00",
          "2024-01-26T23:00:00"
         ],
         "y": [
          9.549544775790086,
          9.546079123105848,
          9.657401165024307,
          9.607327769427783,
          9.565437791909188,
          9.578964553892057,
          9.616071393283418,
          9.461318066757022,
          9.451751802872366,
          9.512186605463523,
          9.486089237240042,
          9.537003447204999,
          9.474675268647148,
          9.515884722258892,
          9.422509767108332,
          9.367277541335008,
          9.463650765725909,
          9.498722480431727,
          9.45096693821638,
          9.46790474330831,
          9.413972559061646,
          9.34153681500051,
          9.184782696380351,
          9.385960540827895,
          9.374558152260363,
          9.409262922640579,
          9.292805124321093,
          9.415623656127416,
          9.139823343647112,
          9.112330543324846,
          9.24670461917007,
          9.202135889745946,
          9.164715630950793,
          9.166285830502996,
          9.173458158184593,
          8.984465747700396,
          9.006847311113988,
          9.04221322641488,
          9.028837174330535,
          9.021674221085311,
          8.988503100257992,
          8.961631323858581,
          8.843488837936942,
          8.865332600572067,
          8.930707289812712,
          8.819950510438336,
          8.827737243668093,
          8.716887263810522,
          8.75101577723626,
          8.65061414978274,
          8.623179838983274,
          8.629848671028059,
          8.577601377690518,
          8.584327547782847,
          8.574986605459005,
          8.570955688149422,
          8.369054349907868,
          8.390198796935756,
          8.482021639505657,
          8.42189860799878,
          8.38754463246916,
          8.500759148335534,
          8.303295089715363,
          8.24766926986482,
          8.176624857622953,
          8.242766531491007,
          8.257377980754638,
          8.207334633778986,
          8.153820662367838,
          8.20286656191001,
          8.057882958693432,
          7.9549264136603774,
          8.095326946167496,
          7.998162949890335,
          7.999050574216722,
          7.984496480703695,
          7.96426447784274,
          7.845125127611802,
          7.836130754239317,
          7.8973727595235665,
          7.766301914749448,
          7.804709964714192,
          7.77350135332916,
          7.716315784082442,
          7.674967216377633,
          7.6127671966947625,
          7.714292581999522,
          7.609202607294968,
          7.630904600395809,
          7.572186193908263,
          7.555548080987891,
          7.441883535591018,
          7.377819109579423,
          7.41033308424185,
          7.468148666865184,
          7.481037506738241,
          7.431556027374711,
          7.405448004099066,
          7.20198542644827,
          7.175458148070879,
          7.190719782395532,
          7.260570763910945,
          7.134079453674006,
          7.12317723379025,
          7.188295693751833,
          7.072835508271517,
          7.0058845998018535,
          7.017272412622432,
          7.055476172549868,
          7.103608335506965,
          7.025142370846311,
          6.979006815112156,
          6.822580497550683,
          6.819992960230542,
          6.829917741912656,
          6.900682317905763,
          6.85244251088257,
          6.752941011436005,
          6.798574915756831,
          6.633275037587956,
          6.629397732936614,
          6.645174104927304,
          6.60590292575637,
          6.696511519708501,
          6.4958161911539385,
          6.5679245709452,
          6.372393818269157,
          6.392211631062489,
          6.403856154752664,
          6.388734531482464,
          6.520760380481768,
          6.533919380760914,
          6.491795908145608,
          6.331812246792633,
          6.4112075355926965,
          6.441294288004463,
          6.354742575137481,
          6.283072296154356,
          6.33511769391513,
          6.330715305013409,
          6.2229602732418,
          6.116703031976408,
          6.249289074377133,
          6.203928195984908,
          6.187762298293714,
          6.169435390695376,
          6.111554179703694,
          6.060143298728536,
          5.943725922557854,
          6.0831834981718895,
          6.059639221540845,
          5.95723388191959,
          5.973118481596708,
          5.962662083121847,
          5.808477161295142,
          5.741277777062066,
          5.788773858255513,
          5.747939962721052,
          5.823265239247509,
          5.708343563685294,
          5.790708545769705,
          5.56289250950056,
          5.645913451174554,
          5.646004856758675,
          5.528248707622767,
          5.606139676406738,
          5.63322694067782,
          5.4864113194083375,
          5.408748085333958,
          5.450159788766588,
          5.454807111275844,
          5.380414608122184,
          5.359334545122526,
          5.419430286076765,
          5.320422551871813,
          5.213544235444452,
          5.2152856411503326,
          5.274276648418053,
          5.236529760631855,
          5.237477778256029,
          5.263711801989965,
          5.25157605695522,
          5.125272105407333,
          5.119603921021622,
          5.128496766704608,
          5.175969594757379,
          5.128000302158304,
          5.121196978135278,
          5.216862058344107,
          5.031120767129749,
          5.097667071148686,
          5.1117262534879835,
          5.079766494056143,
          5.0638460713097135,
          5.094479047967846,
          5.1029698419307055,
          4.949280163844633,
          4.935209760321742,
          5.001399168752906,
          5.0482094299118065,
          5.003079116558435,
          5.004871162583201,
          5.081269970066003,
          4.989863409066693,
          4.913026106155433,
          4.994338864991428,
          5.003463918257807,
          4.948953036490355,
          5.037102866315236,
          5.0596950114273085,
          4.899417767970075,
          4.89430577725073,
          4.990758001767057,
          4.979330612130872,
          5.027332881804518,
          5.049329244409355,
          5.148223340917835,
          4.978788457922862,
          5.0254551365431785,
          5.036831426173124,
          5.010908347074649,
          5.054277599435216,
          5.163104649105875,
          5.122371099872514,
          4.993791652610426,
          4.896083268859408,
          5.133420424432053,
          5.078209510360948,
          5.070581543809316,
          5.098191460468032,
          5.14433456279742,
          5.0056007271238805,
          5.029358428283348,
          5.100270483437393,
          5.17640954471222,
          5.097683953130109,
          5.152855059977862,
          5.220139125349173,
          5.135647886614373,
          5.069556842412533,
          5.121754033134351,
          5.152376172767098,
          5.089350237357517,
          5.196361233267966,
          5.279517897754837,
          5.100778179101016,
          5.122973985559947,
          5.200108671961733,
          5.1341305604930785,
          5.242535466341668,
          5.273236878472512,
          5.388113582844693,
          5.175314190762328,
          5.1989045692237355,
          5.304146836595558,
          5.348170918164724,
          5.282918216977083,
          5.308538068190231,
          5.323363102471279,
          5.216657468686577,
          5.281864403948912,
          5.307811897205522,
          5.313719848733539,
          5.328080736911016,
          5.394958866381233,
          5.4397985063633225,
          5.37667838818498,
          5.357344915023007,
          5.413291888036749,
          5.376879152627561,
          5.452416165494923,
          5.483992672708419,
          5.539234004937713,
          5.380116893594714,
          5.440796733171771,
          5.42807291475115,
          5.397351569834111,
          5.518585209912078,
          5.544058473655352,
          5.5154420805913595,
          5.413309701820758,
          5.43992923353907,
          5.647177370122018,
          5.561822227062355,
          5.591642050795896,
          5.572792591930494,
          5.643903812814617,
          5.554324293006517,
          5.46950921913308,
          5.610206749057262,
          5.63726145557727,
          5.622030832172404,
          5.659346107821282,
          5.694546465907817,
          5.61489714062324,
          5.647179881218041,
          5.687780746289466,
          5.724496349584915,
          5.779780737973998,
          5.7161481131705605,
          5.746283091290273,
          5.682430478447134,
          5.624272625141474,
          5.809440258339097,
          5.737477219983347,
          5.827095742047523,
          5.8005036377312065,
          5.783498083983002,
          5.735810982963962,
          5.789937453571156,
          5.831764205489736,
          5.874319359641659,
          5.883645388404149,
          5.789103292590663,
          5.95193563242514,
          5.799455991605012,
          5.867590868695246,
          5.820148497091043,
          5.918788834612151,
          5.89517333317561,
          6.038645037828259,
          5.991038423768678,
          5.907668749000514,
          5.854389968423328,
          5.908260329423548,
          5.98538282420493,
          5.9778888745822645,
          6.016590205730488,
          6.046071660502298,
          6.010988528518915,
          5.976847591792628,
          6.0336140586682605,
          6.012002436167627,
          6.0355103051589785,
          6.031880681905172,
          6.117096003860689,
          6.002473826360754,
          5.998422090417571,
          6.211775129168273,
          6.106605300061128,
          6.154042560260924,
          6.234313871761763,
          6.087568746899421,
          6.147797504270349,
          6.193826411856466,
          6.251579993416925,
          6.180240020175698,
          6.166908397799578,
          6.2599385573715525,
          6.292572069266086,
          6.18888393869555,
          6.170834684574667,
          6.2560259617431955,
          6.350298205920969,
          6.323561644417504,
          6.346946940486832,
          6.364572067677752,
          6.284608715078564,
          6.247570543017311,
          6.288056501029734,
          6.3560026734700426,
          6.4026738737582685,
          6.463468775335035,
          6.3933461761104935,
          6.3221979182367845,
          6.317173345050009,
          6.390950484479927,
          6.464715138716937,
          6.542972153108923,
          6.493660405462009,
          6.514926596452344,
          6.354745325428949,
          6.45353952872131,
          6.456531888822633,
          6.485474280877587,
          6.62798445548436,
          6.4985799187717594,
          6.624860883920977,
          6.53000488643582,
          6.400597495540155,
          6.551536816657536,
          6.560333317124687,
          6.614184509067199,
          6.6470673174603405,
          6.587681001658742,
          6.523111233659714,
          6.534588170030426,
          6.687613360119669,
          6.623361041179885,
          6.702136235062259,
          6.6969419655411855,
          6.643447175127908,
          6.573639256198608,
          6.659742623961354,
          6.727990266911499,
          6.705321955621385,
          6.742165319125532,
          6.713407427794641,
          6.783445820121926,
          6.758757407478735,
          6.706107647012406,
          6.75085023543694,
          6.846276160109261,
          6.784080339108645,
          6.873598134603418,
          6.800083259127783,
          6.823906327845088,
          6.80035284262789,
          6.942985305127977,
          6.947097631032393,
          6.9207188709708145,
          6.96854574052756,
          6.9643442861669245,
          6.890768092207046,
          6.958853181164274,
          6.988915863464067,
          7.052986175103861,
          7.061480126580771,
          7.01783505864957,
          7.104916753912645,
          6.950132000198786,
          6.966494245903955,
          7.048271563851937,
          7.05574744442541,
          7.14344326026474,
          7.106527747685203,
          7.2206888850513105,
          7.0718818258978144,
          6.959364512950307,
          7.195241079302536,
          7.1887496642914135,
          7.213166226837747,
          7.2174572557358445,
          7.385620522757682,
          7.182965831343612,
          7.246360221651859,
          7.302378241045009
         ]
        },
        {
         "fill": "tonexty",
         "mode": "none",
         "name": "Lower Confidence Interval",
         "type": "scatter",
         "x": [
          "2022-11-17T00:00:00",
          "2022-11-18T00:00:00",
          "2022-11-19T00:00:00",
          "2022-11-20T00:00:00",
          "2022-11-21T00:00:00",
          "2022-11-22T00:00:00",
          "2022-11-23T00:00:00",
          "2022-11-24T00:00:00",
          "2022-11-25T00:00:00",
          "2022-11-26T00:00:00",
          "2022-11-27T00:00:00",
          "2022-11-28T00:00:00",
          "2022-11-29T00:00:00",
          "2022-11-30T00:00:00",
          "2022-12-01T00:00:00",
          "2022-12-02T00:00:00",
          "2022-12-03T00:00:00",
          "2022-12-04T00:00:00",
          "2022-12-05T00:00:00",
          "2022-12-06T00:00:00",
          "2022-12-07T00:00:00",
          "2022-12-08T00:00:00",
          "2022-12-09T00:00:00",
          "2022-12-10T00:00:00",
          "2022-12-11T00:00:00",
          "2022-12-12T00:00:00",
          "2022-12-13T00:00:00",
          "2022-12-14T00:00:00",
          "2022-12-15T00:00:00",
          "2022-12-16T00:00:00",
          "2022-12-17T00:00:00",
          "2022-12-18T00:00:00",
          "2022-12-19T00:00:00",
          "2022-12-20T00:00:00",
          "2022-12-21T00:00:00",
          "2022-12-22T00:00:00",
          "2022-12-23T00:00:00",
          "2022-12-24T00:00:00",
          "2022-12-25T00:00:00",
          "2022-12-26T00:00:00",
          "2022-12-27T00:00:00",
          "2022-12-28T00:00:00",
          "2022-12-29T00:00:00",
          "2022-12-30T00:00:00",
          "2022-12-31T00:00:00",
          "2023-01-01T00:00:00",
          "2023-01-02T00:00:00",
          "2023-01-03T00:00:00",
          "2023-01-04T00:00:00",
          "2023-01-05T00:00:00",
          "2023-01-06T00:00:00",
          "2023-01-07T00:00:00",
          "2023-01-08T00:00:00",
          "2023-01-09T00:00:00",
          "2023-01-10T00:00:00",
          "2023-01-11T00:00:00",
          "2023-01-12T00:00:00",
          "2023-01-13T00:00:00",
          "2023-01-14T00:00:00",
          "2023-01-15T00:00:00",
          "2023-01-16T00:00:00",
          "2023-01-17T00:00:00",
          "2023-01-18T00:00:00",
          "2023-01-19T00:00:00",
          "2023-01-20T00:00:00",
          "2023-01-21T00:00:00",
          "2023-01-22T00:00:00",
          "2023-01-23T00:00:00",
          "2023-01-24T00:00:00",
          "2023-01-25T00:00:00",
          "2023-01-26T00:00:00",
          "2023-01-27T00:00:00",
          "2023-01-28T00:00:00",
          "2023-01-29T00:00:00",
          "2023-01-30T00:00:00",
          "2023-01-31T00:00:00",
          "2023-02-01T00:00:00",
          "2023-02-02T00:00:00",
          "2023-02-03T00:00:00",
          "2023-02-04T00:00:00",
          "2023-02-05T00:00:00",
          "2023-02-06T00:00:00",
          "2023-02-07T00:00:00",
          "2023-02-08T00:00:00",
          "2023-02-09T00:00:00",
          "2023-02-10T00:00:00",
          "2023-02-11T00:00:00",
          "2023-02-12T00:00:00",
          "2023-02-13T00:00:00",
          "2023-02-14T00:00:00",
          "2023-02-15T00:00:00",
          "2023-02-16T00:00:00",
          "2023-02-17T00:00:00",
          "2023-02-18T00:00:00",
          "2023-02-19T00:00:00",
          "2023-02-20T00:00:00",
          "2023-02-21T00:00:00",
          "2023-02-22T00:00:00",
          "2023-02-23T00:00:00",
          "2023-02-24T00:00:00",
          "2023-02-25T00:00:00",
          "2023-02-26T00:00:00",
          "2023-02-27T00:00:00",
          "2023-02-28T00:00:00",
          "2023-03-01T00:00:00",
          "2023-03-02T00:00:00",
          "2023-03-03T00:00:00",
          "2023-03-04T00:00:00",
          "2023-03-05T00:00:00",
          "2023-03-06T00:00:00",
          "2023-03-07T00:00:00",
          "2023-03-08T00:00:00",
          "2023-03-09T00:00:00",
          "2023-03-10T00:00:00",
          "2023-03-11T00:00:00",
          "2023-03-12T00:00:00",
          "2023-03-13T00:00:00",
          "2023-03-14T00:00:00",
          "2023-03-15T00:00:00",
          "2023-03-16T00:00:00",
          "2023-03-17T00:00:00",
          "2023-03-18T00:00:00",
          "2023-03-19T00:00:00",
          "2023-03-20T00:00:00",
          "2023-03-21T00:00:00",
          "2023-03-22T00:00:00",
          "2023-03-23T00:00:00",
          "2023-03-24T00:00:00",
          "2023-03-25T00:00:00",
          "2023-03-26T00:00:00",
          "2023-03-26T23:00:00",
          "2023-03-27T23:00:00",
          "2023-03-28T23:00:00",
          "2023-03-29T23:00:00",
          "2023-03-30T23:00:00",
          "2023-03-31T23:00:00",
          "2023-04-01T23:00:00",
          "2023-04-02T23:00:00",
          "2023-04-03T23:00:00",
          "2023-04-04T23:00:00",
          "2023-04-05T23:00:00",
          "2023-04-06T23:00:00",
          "2023-04-07T23:00:00",
          "2023-04-08T23:00:00",
          "2023-04-09T23:00:00",
          "2023-04-10T23:00:00",
          "2023-04-11T23:00:00",
          "2023-04-12T23:00:00",
          "2023-04-13T23:00:00",
          "2023-04-14T23:00:00",
          "2023-04-15T23:00:00",
          "2023-04-16T23:00:00",
          "2023-04-17T23:00:00",
          "2023-04-18T23:00:00",
          "2023-04-19T23:00:00",
          "2023-04-20T23:00:00",
          "2023-04-21T23:00:00",
          "2023-04-22T23:00:00",
          "2023-04-23T23:00:00",
          "2023-04-24T23:00:00",
          "2023-04-25T23:00:00",
          "2023-04-26T23:00:00",
          "2023-04-27T23:00:00",
          "2023-04-28T23:00:00",
          "2023-04-29T23:00:00",
          "2023-04-30T23:00:00",
          "2023-05-01T23:00:00",
          "2023-05-02T23:00:00",
          "2023-05-03T23:00:00",
          "2023-05-04T23:00:00",
          "2023-05-05T23:00:00",
          "2023-05-06T23:00:00",
          "2023-05-07T23:00:00",
          "2023-05-08T23:00:00",
          "2023-05-09T23:00:00",
          "2023-05-10T23:00:00",
          "2023-05-11T23:00:00",
          "2023-05-12T23:00:00",
          "2023-05-13T23:00:00",
          "2023-05-14T23:00:00",
          "2023-05-15T23:00:00",
          "2023-05-16T23:00:00",
          "2023-05-17T23:00:00",
          "2023-05-18T23:00:00",
          "2023-05-19T23:00:00",
          "2023-05-20T23:00:00",
          "2023-05-21T23:00:00",
          "2023-05-22T23:00:00",
          "2023-05-23T23:00:00",
          "2023-05-24T23:00:00",
          "2023-05-25T23:00:00",
          "2023-05-26T23:00:00",
          "2023-05-27T23:00:00",
          "2023-05-28T23:00:00",
          "2023-05-29T23:00:00",
          "2023-05-30T23:00:00",
          "2023-05-31T23:00:00",
          "2023-06-01T23:00:00",
          "2023-06-02T23:00:00",
          "2023-06-03T23:00:00",
          "2023-06-04T23:00:00",
          "2023-06-05T23:00:00",
          "2023-06-06T23:00:00",
          "2023-06-07T23:00:00",
          "2023-06-08T23:00:00",
          "2023-06-09T23:00:00",
          "2023-06-10T23:00:00",
          "2023-06-11T23:00:00",
          "2023-06-12T23:00:00",
          "2023-06-13T23:00:00",
          "2023-06-14T23:00:00",
          "2023-06-15T23:00:00",
          "2023-06-16T23:00:00",
          "2023-06-17T23:00:00",
          "2023-06-18T23:00:00",
          "2023-06-19T23:00:00",
          "2023-06-20T23:00:00",
          "2023-06-21T23:00:00",
          "2023-06-22T23:00:00",
          "2023-06-23T23:00:00",
          "2023-06-24T23:00:00",
          "2023-06-25T23:00:00",
          "2023-06-26T23:00:00",
          "2023-06-27T23:00:00",
          "2023-06-28T23:00:00",
          "2023-06-29T23:00:00",
          "2023-06-30T23:00:00",
          "2023-07-01T23:00:00",
          "2023-07-02T23:00:00",
          "2023-07-03T23:00:00",
          "2023-07-04T23:00:00",
          "2023-07-05T23:00:00",
          "2023-07-06T23:00:00",
          "2023-07-07T23:00:00",
          "2023-07-08T23:00:00",
          "2023-07-09T23:00:00",
          "2023-07-10T23:00:00",
          "2023-07-11T23:00:00",
          "2023-07-12T23:00:00",
          "2023-07-13T23:00:00",
          "2023-07-14T23:00:00",
          "2023-07-15T23:00:00",
          "2023-07-16T23:00:00",
          "2023-07-17T23:00:00",
          "2023-07-18T23:00:00",
          "2023-07-19T23:00:00",
          "2023-07-20T23:00:00",
          "2023-07-21T23:00:00",
          "2023-07-22T23:00:00",
          "2023-07-23T23:00:00",
          "2023-07-24T23:00:00",
          "2023-07-25T23:00:00",
          "2023-07-26T23:00:00",
          "2023-07-27T23:00:00",
          "2023-07-28T23:00:00",
          "2023-07-29T23:00:00",
          "2023-07-30T23:00:00",
          "2023-07-31T23:00:00",
          "2023-08-01T23:00:00",
          "2023-08-02T23:00:00",
          "2023-08-03T23:00:00",
          "2023-08-04T23:00:00",
          "2023-08-05T23:00:00",
          "2023-08-06T23:00:00",
          "2023-08-07T23:00:00",
          "2023-08-08T23:00:00",
          "2023-08-09T23:00:00",
          "2023-08-10T23:00:00",
          "2023-08-11T23:00:00",
          "2023-08-12T23:00:00",
          "2023-08-13T23:00:00",
          "2023-08-14T23:00:00",
          "2023-08-15T23:00:00",
          "2023-08-16T23:00:00",
          "2023-08-17T23:00:00",
          "2023-08-18T23:00:00",
          "2023-08-19T23:00:00",
          "2023-08-20T23:00:00",
          "2023-08-21T23:00:00",
          "2023-08-22T23:00:00",
          "2023-08-23T23:00:00",
          "2023-08-24T23:00:00",
          "2023-08-25T23:00:00",
          "2023-08-26T23:00:00",
          "2023-08-27T23:00:00",
          "2023-08-28T23:00:00",
          "2023-08-29T23:00:00",
          "2023-08-30T23:00:00",
          "2023-08-31T23:00:00",
          "2023-09-01T23:00:00",
          "2023-09-02T23:00:00",
          "2023-09-03T23:00:00",
          "2023-09-04T23:00:00",
          "2023-09-05T23:00:00",
          "2023-09-06T23:00:00",
          "2023-09-07T23:00:00",
          "2023-09-08T23:00:00",
          "2023-09-09T23:00:00",
          "2023-09-10T23:00:00",
          "2023-09-11T23:00:00",
          "2023-09-12T23:00:00",
          "2023-09-13T23:00:00",
          "2023-09-14T23:00:00",
          "2023-09-15T23:00:00",
          "2023-09-16T23:00:00",
          "2023-09-17T23:00:00",
          "2023-09-18T23:00:00",
          "2023-09-19T23:00:00",
          "2023-09-20T23:00:00",
          "2023-09-21T23:00:00",
          "2023-09-22T23:00:00",
          "2023-09-23T23:00:00",
          "2023-09-24T23:00:00",
          "2023-09-25T23:00:00",
          "2023-09-26T23:00:00",
          "2023-09-27T23:00:00",
          "2023-09-28T23:00:00",
          "2023-09-29T23:00:00",
          "2023-09-30T23:00:00",
          "2023-10-01T23:00:00",
          "2023-10-02T23:00:00",
          "2023-10-03T23:00:00",
          "2023-10-04T23:00:00",
          "2023-10-05T23:00:00",
          "2023-10-06T23:00:00",
          "2023-10-07T23:00:00",
          "2023-10-08T23:00:00",
          "2023-10-09T23:00:00",
          "2023-10-10T23:00:00",
          "2023-10-11T23:00:00",
          "2023-10-12T23:00:00",
          "2023-10-13T23:00:00",
          "2023-10-14T23:00:00",
          "2023-10-15T23:00:00",
          "2023-10-16T23:00:00",
          "2023-10-17T23:00:00",
          "2023-10-18T23:00:00",
          "2023-10-19T23:00:00",
          "2023-10-20T23:00:00",
          "2023-10-21T23:00:00",
          "2023-10-22T23:00:00",
          "2023-10-23T23:00:00",
          "2023-10-24T23:00:00",
          "2023-10-25T23:00:00",
          "2023-10-26T23:00:00",
          "2023-10-27T23:00:00",
          "2023-10-28T23:00:00",
          "2023-10-29T23:00:00",
          "2023-10-30T23:00:00",
          "2023-10-31T23:00:00",
          "2023-11-01T23:00:00",
          "2023-11-02T23:00:00",
          "2023-11-03T23:00:00",
          "2023-11-04T23:00:00",
          "2023-11-05T23:00:00",
          "2023-11-06T23:00:00",
          "2023-11-07T23:00:00",
          "2023-11-08T23:00:00",
          "2023-11-09T23:00:00",
          "2023-11-10T23:00:00",
          "2023-11-11T23:00:00",
          "2023-11-12T23:00:00",
          "2023-11-13T23:00:00",
          "2023-11-14T23:00:00",
          "2023-11-15T23:00:00",
          "2023-11-16T23:00:00",
          "2023-11-17T23:00:00",
          "2023-11-18T23:00:00",
          "2023-11-19T23:00:00",
          "2023-11-20T23:00:00",
          "2023-11-21T23:00:00",
          "2023-11-22T23:00:00",
          "2023-11-23T23:00:00",
          "2023-11-24T23:00:00",
          "2023-11-25T23:00:00",
          "2023-11-26T23:00:00",
          "2023-11-27T23:00:00",
          "2023-11-28T23:00:00",
          "2023-11-29T23:00:00",
          "2023-11-30T23:00:00",
          "2023-12-01T23:00:00",
          "2023-12-02T23:00:00",
          "2023-12-03T23:00:00",
          "2023-12-04T23:00:00",
          "2023-12-05T23:00:00",
          "2023-12-06T23:00:00",
          "2023-12-07T23:00:00",
          "2023-12-08T23:00:00",
          "2023-12-09T23:00:00",
          "2023-12-10T23:00:00",
          "2023-12-11T23:00:00",
          "2023-12-12T23:00:00",
          "2023-12-13T23:00:00",
          "2023-12-14T23:00:00",
          "2023-12-15T23:00:00",
          "2023-12-16T23:00:00",
          "2023-12-17T23:00:00",
          "2023-12-18T23:00:00",
          "2023-12-19T23:00:00",
          "2023-12-20T23:00:00",
          "2023-12-21T23:00:00",
          "2023-12-22T23:00:00",
          "2023-12-23T23:00:00",
          "2023-12-24T23:00:00",
          "2023-12-25T23:00:00",
          "2023-12-26T23:00:00",
          "2023-12-27T23:00:00",
          "2023-12-28T23:00:00",
          "2023-12-29T23:00:00",
          "2023-12-30T23:00:00",
          "2023-12-31T23:00:00",
          "2024-01-01T23:00:00",
          "2024-01-02T23:00:00",
          "2024-01-03T23:00:00",
          "2024-01-04T23:00:00",
          "2024-01-05T23:00:00",
          "2024-01-06T23:00:00",
          "2024-01-07T23:00:00",
          "2024-01-08T23:00:00",
          "2024-01-09T23:00:00",
          "2024-01-10T23:00:00",
          "2024-01-11T23:00:00",
          "2024-01-12T23:00:00",
          "2024-01-13T23:00:00",
          "2024-01-14T23:00:00",
          "2024-01-15T23:00:00",
          "2024-01-16T23:00:00",
          "2024-01-17T23:00:00",
          "2024-01-18T23:00:00",
          "2024-01-19T23:00:00",
          "2024-01-20T23:00:00",
          "2024-01-21T23:00:00",
          "2024-01-22T23:00:00",
          "2024-01-23T23:00:00",
          "2024-01-24T23:00:00",
          "2024-01-25T23:00:00",
          "2024-01-26T23:00:00"
         ],
         "y": [
          7.41086712912336,
          7.296775218109259,
          7.386162416100629,
          7.4004755738901995,
          7.383848324733126,
          7.3626454958960865,
          7.384826709342429,
          7.24483275008723,
          7.31007753200532,
          7.314201442682323,
          7.28004291685276,
          7.355257690388962,
          7.340565532487082,
          7.269669149986822,
          7.238529522864445,
          7.20534844408262,
          7.303160169295392,
          7.283822088841771,
          7.234323330279231,
          7.15129899278231,
          7.184771456020482,
          7.101338838475583,
          7.157385291624544,
          7.163777797996514,
          7.237354366195842,
          7.126387308683407,
          7.129279030186318,
          7.178848847572596,
          6.986786460719877,
          7.007768111681653,
          6.998157052620592,
          7.068872660838562,
          6.923550558161536,
          6.967761656456818,
          6.916054415749545,
          6.869500468450327,
          6.87389120513508,
          6.828992350519704,
          6.8493265293912255,
          6.771431950943382,
          6.810846541182647,
          6.810596462847766,
          6.70329516487143,
          6.552751415103817,
          6.760746513569777,
          6.563237921872163,
          6.577444138915224,
          6.542506566064396,
          6.522152874916039,
          6.4235319647805005,
          6.325750937695901,
          6.3607854945731965,
          6.419711173503954,
          6.415536352047226,
          6.444283046922651,
          6.351076989414839,
          6.262963595226792,
          6.211323221382053,
          6.3037513078481675,
          6.228961605313089,
          6.2342722093383305,
          6.35710168406774,
          6.2341289329329825,
          6.116234205755313,
          6.040370195248871,
          6.0168200912054175,
          6.068260169530543,
          6.06186179978314,
          6.04693394980103,
          5.957000812046015,
          5.849568638266125,
          5.822431586178238,
          5.7973273112629,
          5.7671830146399685,
          5.819502967154509,
          5.76176919409883,
          5.771038977131157,
          5.648172236236129,
          5.534954066646418,
          5.610827005550092,
          5.6719836772171055,
          5.556284001276982,
          5.650364994584067,
          5.603034036648398,
          5.424380609913068,
          5.42760627836348,
          5.502893984535619,
          5.497236403401355,
          5.46624239615159,
          5.303131621814193,
          5.231755342003063,
          5.247984831736956,
          5.260404965494265,
          5.273162819464351,
          5.244920641134796,
          5.272910320172239,
          5.169417284596824,
          5.149250306302862,
          5.064772152151093,
          4.949705835807705,
          5.0556542735755485,
          5.074012940172989,
          4.977046974239277,
          4.946260040362541,
          5.0066767832850445,
          4.95540735290974,
          4.8715382597584025,
          4.746792521850445,
          4.7844962140656495,
          4.815191450613406,
          4.776927349083811,
          4.67359266095356,
          4.647555171569906,
          4.646891647739711,
          4.610634009495117,
          4.617937601561025,
          4.52378796599698,
          4.578152602531922,
          4.600372056865367,
          4.444133712415223,
          4.351188969718267,
          4.355823499187787,
          4.359677471730677,
          4.425366722803501,
          4.385480548854687,
          4.453767978336211,
          4.245675206492574,
          4.22499304318646,
          4.2473119066337555,
          4.171900370757654,
          4.317406230986832,
          4.313883787632701,
          4.261138427336077,
          4.169364575713032,
          4.207274623239332,
          4.267800655529267,
          4.209754957365301,
          4.276181739093888,
          4.197002566872344,
          4.190323686146038,
          3.9648923119872,
          3.96826813914493,
          3.9889127068403587,
          3.8852377469047576,
          3.9403002511036314,
          4.013454090431284,
          4.050415212628573,
          3.878217089656686,
          3.821511285117143,
          3.754757773281313,
          3.8538674990165815,
          3.72857726322923,
          3.7995508053615734,
          3.7458260168129303,
          3.670708363160498,
          3.5384343890909533,
          3.5895835970072025,
          3.636084871066887,
          3.5594860682916467,
          3.5195131373809256,
          3.572942357100632,
          3.354551183725261,
          3.3660634145890502,
          3.3705598291816967,
          3.4083885099944147,
          3.381989478005484,
          3.383868834644774,
          3.302258765023738,
          3.273665327122476,
          3.189366156655104,
          3.189792785014041,
          3.3118260106753317,
          3.1909219103338455,
          3.2224266611152763,
          3.1421324608839614,
          3.079048071741724,
          3.040969911268468,
          3.124237270416039,
          3.012341215338781,
          3.037344657880795,
          3.1577630326386488,
          3.0410566514849813,
          2.936132127448058,
          2.939897619011728,
          2.9572766326370323,
          2.966234920756836,
          2.929382671157136,
          3.0107518736316803,
          2.9219427350562213,
          2.818681397545411,
          2.836580289786281,
          2.835369741699209,
          2.8918051869765007,
          2.835943284822697,
          2.9483304707964586,
          2.817425363595158,
          2.7895711649962536,
          2.7752882929588436,
          2.776547737941623,
          2.8085146284148914,
          2.8551832254551406,
          2.842930834620421,
          2.9160936543767715,
          2.77184721449303,
          2.752525079950485,
          2.8255402569649752,
          2.8842872782236064,
          2.857507424060457,
          2.821975816144058,
          2.860116936405496,
          2.766959871697733,
          2.7969571288086006,
          2.822625432861143,
          2.7732947848156493,
          2.8215562835657666,
          2.887142251013423,
          2.9071466056441326,
          2.7784223048980055,
          2.7653574032000297,
          2.846135281636648,
          2.8093649068427826,
          2.85985271134409,
          2.875458412133519,
          2.9879074660707228,
          2.821183344210314,
          2.7685578570011153,
          2.918390323883749,
          2.8126188185879184,
          2.8797450642785725,
          2.880645162721875,
          2.949709148949326,
          2.8437301653491636,
          2.768092597370726,
          2.971834492403607,
          2.858725485865737,
          3.0010381006263835,
          2.8792802369343553,
          2.986673402246993,
          2.897268703593545,
          2.964246002457265,
          2.9585600916845314,
          2.9648202223620763,
          3.0274092901000444,
          3.0247603356182635,
          2.991410185932834,
          3.003557705008042,
          3.0005790102119074,
          3.108106227761017,
          3.0216932354179566,
          3.1042040333049887,
          3.095925667927591,
          3.062994121641437,
          3.0325696041454036,
          3.016787072012879,
          3.0681344850897956,
          3.055050336040628,
          3.059448826742712,
          3.0709400477456748,
          3.0303147145423175,
          3.066122420538616,
          3.0755327564001407,
          3.175553900948809,
          3.252996162743171,
          3.13601892788789,
          3.1919136969182187,
          3.2387400736525316,
          3.2019358451800164,
          3.2293502965315737,
          3.3093028068624606,
          3.193570402388739,
          3.2477281862867864,
          3.267074182056662,
          3.270907590187769,
          3.2008699245260623,
          3.2023676389092484,
          3.3282884611979067,
          3.3303636589701275,
          3.293641931252971,
          3.3802498375954726,
          3.4072039043112263,
          3.2627754583152386,
          3.341599115196228,
          3.405384016886977,
          3.29273741046854,
          3.391174334772557,
          3.468968544154233,
          3.4969517555921135,
          3.276032544185221,
          3.3483168159586434,
          3.452228495087323,
          3.432548153668751,
          3.528398072278214,
          3.504896740620717,
          3.597452894192822,
          3.426946742617472,
          3.4727559429228663,
          3.4696787816619246,
          3.454013569808657,
          3.4725416047673106,
          3.481191667572844,
          3.586311383387726,
          3.5120824282444283,
          3.572799446934705,
          3.532704438074849,
          3.567205816419389,
          3.6599060506773653,
          3.605187213049641,
          3.6657545635324733,
          3.6533757035519914,
          3.584250920401557,
          3.737268917797313,
          3.7981448020341135,
          3.6122938318091298,
          3.6444630734214933,
          3.7780593870487214,
          3.5995457396143573,
          3.7231226168779914,
          3.7481062978908257,
          3.7907146389812727,
          3.689037164694901,
          3.698482884731665,
          3.8098114405551176,
          3.664981336469127,
          3.563184823898445,
          3.7780455762125924,
          3.7588292953417595,
          3.8509543461383364,
          3.8785932903172666,
          3.835109121051896,
          3.798216247149223,
          3.800153978004366,
          3.823757371183566,
          3.863619339243742,
          3.925120972856815,
          3.9629016711220757,
          3.834922898426261,
          3.914035191107819,
          3.847658736197719,
          3.9559712345624396,
          3.9733477073707153,
          3.926622530383207,
          4.041665555204258,
          4.035074511117823,
          3.864542073309275,
          4.00091572406316,
          4.032873651270702,
          3.9445945560195863,
          4.0623358747601666,
          3.991896060643508,
          4.045816682631701,
          3.902420833493827,
          3.9364449632823675,
          4.094181826080278,
          4.150720547968911,
          4.170537552464097,
          4.104050441916505,
          4.228988496373881,
          4.1200118019833445,
          4.067984098458128,
          4.052726508679714,
          4.109136865859908,
          4.097030150389209,
          4.19028215308157,
          4.247654469500447,
          4.1614154261252345,
          4.199712141555348,
          4.196817406931406,
          4.312783323750489,
          4.264049402458526,
          4.2469758520103165,
          4.344927275959086,
          4.233893859089761,
          4.195656833214401,
          4.308033984110043,
          4.295031072925702,
          4.3547625022280565,
          4.324912691583256,
          4.357764273091465,
          4.2673156159930485,
          4.275735753882305,
          4.415990052563645,
          4.485930884177521,
          4.3528910554625355,
          4.457883737080611,
          4.3978751753427305,
          4.298827954822093,
          4.394694024688005,
          4.451163258775499,
          4.440752665500165,
          4.5241128362802465,
          4.4469722883312635,
          4.542700286775503,
          4.461615785298769,
          4.325482205959248,
          4.448856325810511,
          4.5039408853142335,
          4.4961958011698515,
          4.505509205958107,
          4.533212957926833,
          4.470464105987487,
          4.481596649401005,
          4.539445683466834,
          4.504260997343181,
          4.612766727270049,
          4.684404214637701,
          4.612382134348868,
          4.4563897884647075,
          4.5524823955473686,
          4.6469830000088415,
          4.676121081464003,
          4.729486288944893,
          4.61422237253916,
          4.622011825350335,
          4.525925968792432,
          4.592216596826245,
          4.692711489926028,
          4.743960804463186,
          4.691272706489346,
          4.691814328270756,
          4.634918236568598,
          4.658685627213286,
          4.671851274087169,
          4.705493305163352,
          4.651465198985509,
          4.804626489929979,
          4.799305097086034,
          4.816083106897627,
          4.7724937975019,
          4.613123759647613,
          4.776505740437234,
          4.767278031676857,
          4.798972076490311,
          4.845074127983051,
          4.78443818715702,
          4.860001022014168,
          4.764042302789156,
          4.7742837966648315
         ]
        }
       ],
       "layout": {
        "hovermode": "x unified",
        "template": {
         "data": {
          "bar": [
           {
            "error_x": {
             "color": "#2a3f5f"
            },
            "error_y": {
             "color": "#2a3f5f"
            },
            "marker": {
             "line": {
              "color": "#E5ECF6",
              "width": 0.5
             },
             "pattern": {
              "fillmode": "overlay",
              "size": 10,
              "solidity": 0.2
             }
            },
            "type": "bar"
           }
          ],
          "barpolar": [
           {
            "marker": {
             "line": {
              "color": "#E5ECF6",
              "width": 0.5
             },
             "pattern": {
              "fillmode": "overlay",
              "size": 10,
              "solidity": 0.2
             }
            },
            "type": "barpolar"
           }
          ],
          "carpet": [
           {
            "aaxis": {
             "endlinecolor": "#2a3f5f",
             "gridcolor": "white",
             "linecolor": "white",
             "minorgridcolor": "white",
             "startlinecolor": "#2a3f5f"
            },
            "baxis": {
             "endlinecolor": "#2a3f5f",
             "gridcolor": "white",
             "linecolor": "white",
             "minorgridcolor": "white",
             "startlinecolor": "#2a3f5f"
            },
            "type": "carpet"
           }
          ],
          "choropleth": [
           {
            "colorbar": {
             "outlinewidth": 0,
             "ticks": ""
            },
            "type": "choropleth"
           }
          ],
          "contour": [
           {
            "colorbar": {
             "outlinewidth": 0,
             "ticks": ""
            },
            "colorscale": [
             [
              0,
              "#0d0887"
             ],
             [
              0.1111111111111111,
              "#46039f"
             ],
             [
              0.2222222222222222,
              "#7201a8"
             ],
             [
              0.3333333333333333,
              "#9c179e"
             ],
             [
              0.4444444444444444,
              "#bd3786"
             ],
             [
              0.5555555555555556,
              "#d8576b"
             ],
             [
              0.6666666666666666,
              "#ed7953"
             ],
             [
              0.7777777777777778,
              "#fb9f3a"
             ],
             [
              0.8888888888888888,
              "#fdca26"
             ],
             [
              1,
              "#f0f921"
             ]
            ],
            "type": "contour"
           }
          ],
          "contourcarpet": [
           {
            "colorbar": {
             "outlinewidth": 0,
             "ticks": ""
            },
            "type": "contourcarpet"
           }
          ],
          "heatmap": [
           {
            "colorbar": {
             "outlinewidth": 0,
             "ticks": ""
            },
            "colorscale": [
             [
              0,
              "#0d0887"
             ],
             [
              0.1111111111111111,
              "#46039f"
             ],
             [
              0.2222222222222222,
              "#7201a8"
             ],
             [
              0.3333333333333333,
              "#9c179e"
             ],
             [
              0.4444444444444444,
              "#bd3786"
             ],
             [
              0.5555555555555556,
              "#d8576b"
             ],
             [
              0.6666666666666666,
              "#ed7953"
             ],
             [
              0.7777777777777778,
              "#fb9f3a"
             ],
             [
              0.8888888888888888,
              "#fdca26"
             ],
             [
              1,
              "#f0f921"
             ]
            ],
            "type": "heatmap"
           }
          ],
          "heatmapgl": [
           {
            "colorbar": {
             "outlinewidth": 0,
             "ticks": ""
            },
            "colorscale": [
             [
              0,
              "#0d0887"
             ],
             [
              0.1111111111111111,
              "#46039f"
             ],
             [
              0.2222222222222222,
              "#7201a8"
             ],
             [
              0.3333333333333333,
              "#9c179e"
             ],
             [
              0.4444444444444444,
              "#bd3786"
             ],
             [
              0.5555555555555556,
              "#d8576b"
             ],
             [
              0.6666666666666666,
              "#ed7953"
             ],
             [
              0.7777777777777778,
              "#fb9f3a"
             ],
             [
              0.8888888888888888,
              "#fdca26"
             ],
             [
              1,
              "#f0f921"
             ]
            ],
            "type": "heatmapgl"
           }
          ],
          "histogram": [
           {
            "marker": {
             "pattern": {
              "fillmode": "overlay",
              "size": 10,
              "solidity": 0.2
             }
            },
            "type": "histogram"
           }
          ],
          "histogram2d": [
           {
            "colorbar": {
             "outlinewidth": 0,
             "ticks": ""
            },
            "colorscale": [
             [
              0,
              "#0d0887"
             ],
             [
              0.1111111111111111,
              "#46039f"
             ],
             [
              0.2222222222222222,
              "#7201a8"
             ],
             [
              0.3333333333333333,
              "#9c179e"
             ],
             [
              0.4444444444444444,
              "#bd3786"
             ],
             [
              0.5555555555555556,
              "#d8576b"
             ],
             [
              0.6666666666666666,
              "#ed7953"
             ],
             [
              0.7777777777777778,
              "#fb9f3a"
             ],
             [
              0.8888888888888888,
              "#fdca26"
             ],
             [
              1,
              "#f0f921"
             ]
            ],
            "type": "histogram2d"
           }
          ],
          "histogram2dcontour": [
           {
            "colorbar": {
             "outlinewidth": 0,
             "ticks": ""
            },
            "colorscale": [
             [
              0,
              "#0d0887"
             ],
             [
              0.1111111111111111,
              "#46039f"
             ],
             [
              0.2222222222222222,
              "#7201a8"
             ],
             [
              0.3333333333333333,
              "#9c179e"
             ],
             [
              0.4444444444444444,
              "#bd3786"
             ],
             [
              0.5555555555555556,
              "#d8576b"
             ],
             [
              0.6666666666666666,
              "#ed7953"
             ],
             [
              0.7777777777777778,
              "#fb9f3a"
             ],
             [
              0.8888888888888888,
              "#fdca26"
             ],
             [
              1,
              "#f0f921"
             ]
            ],
            "type": "histogram2dcontour"
           }
          ],
          "mesh3d": [
           {
            "colorbar": {
             "outlinewidth": 0,
             "ticks": ""
            },
            "type": "mesh3d"
           }
          ],
          "parcoords": [
           {
            "line": {
             "colorbar": {
              "outlinewidth": 0,
              "ticks": ""
             }
            },
            "type": "parcoords"
           }
          ],
          "pie": [
           {
            "automargin": true,
            "type": "pie"
           }
          ],
          "scatter": [
           {
            "fillpattern": {
             "fillmode": "overlay",
             "size": 10,
             "solidity": 0.2
            },
            "type": "scatter"
           }
          ],
          "scatter3d": [
           {
            "line": {
             "colorbar": {
              "outlinewidth": 0,
              "ticks": ""
             }
            },
            "marker": {
             "colorbar": {
              "outlinewidth": 0,
              "ticks": ""
             }
            },
            "type": "scatter3d"
           }
          ],
          "scattercarpet": [
           {
            "marker": {
             "colorbar": {
              "outlinewidth": 0,
              "ticks": ""
             }
            },
            "type": "scattercarpet"
           }
          ],
          "scattergeo": [
           {
            "marker": {
             "colorbar": {
              "outlinewidth": 0,
              "ticks": ""
             }
            },
            "type": "scattergeo"
           }
          ],
          "scattergl": [
           {
            "marker": {
             "colorbar": {
              "outlinewidth": 0,
              "ticks": ""
             }
            },
            "type": "scattergl"
           }
          ],
          "scattermapbox": [
           {
            "marker": {
             "colorbar": {
              "outlinewidth": 0,
              "ticks": ""
             }
            },
            "type": "scattermapbox"
           }
          ],
          "scatterpolar": [
           {
            "marker": {
             "colorbar": {
              "outlinewidth": 0,
              "ticks": ""
             }
            },
            "type": "scatterpolar"
           }
          ],
          "scatterpolargl": [
           {
            "marker": {
             "colorbar": {
              "outlinewidth": 0,
              "ticks": ""
             }
            },
            "type": "scatterpolargl"
           }
          ],
          "scatterternary": [
           {
            "marker": {
             "colorbar": {
              "outlinewidth": 0,
              "ticks": ""
             }
            },
            "type": "scatterternary"
           }
          ],
          "surface": [
           {
            "colorbar": {
             "outlinewidth": 0,
             "ticks": ""
            },
            "colorscale": [
             [
              0,
              "#0d0887"
             ],
             [
              0.1111111111111111,
              "#46039f"
             ],
             [
              0.2222222222222222,
              "#7201a8"
             ],
             [
              0.3333333333333333,
              "#9c179e"
             ],
             [
              0.4444444444444444,
              "#bd3786"
             ],
             [
              0.5555555555555556,
              "#d8576b"
             ],
             [
              0.6666666666666666,
              "#ed7953"
             ],
             [
              0.7777777777777778,
              "#fb9f3a"
             ],
             [
              0.8888888888888888,
              "#fdca26"
             ],
             [
              1,
              "#f0f921"
             ]
            ],
            "type": "surface"
           }
          ],
          "table": [
           {
            "cells": {
             "fill": {
              "color": "#EBF0F8"
             },
             "line": {
              "color": "white"
             }
            },
            "header": {
             "fill": {
              "color": "#C8D4E3"
             },
             "line": {
              "color": "white"
             }
            },
            "type": "table"
           }
          ]
         },
         "layout": {
          "annotationdefaults": {
           "arrowcolor": "#2a3f5f",
           "arrowhead": 0,
           "arrowwidth": 1
          },
          "autotypenumbers": "strict",
          "coloraxis": {
           "colorbar": {
            "outlinewidth": 0,
            "ticks": ""
           }
          },
          "colorscale": {
           "diverging": [
            [
             0,
             "#8e0152"
            ],
            [
             0.1,
             "#c51b7d"
            ],
            [
             0.2,
             "#de77ae"
            ],
            [
             0.3,
             "#f1b6da"
            ],
            [
             0.4,
             "#fde0ef"
            ],
            [
             0.5,
             "#f7f7f7"
            ],
            [
             0.6,
             "#e6f5d0"
            ],
            [
             0.7,
             "#b8e186"
            ],
            [
             0.8,
             "#7fbc41"
            ],
            [
             0.9,
             "#4d9221"
            ],
            [
             1,
             "#276419"
            ]
           ],
           "sequential": [
            [
             0,
             "#0d0887"
            ],
            [
             0.1111111111111111,
             "#46039f"
            ],
            [
             0.2222222222222222,
             "#7201a8"
            ],
            [
             0.3333333333333333,
             "#9c179e"
            ],
            [
             0.4444444444444444,
             "#bd3786"
            ],
            [
             0.5555555555555556,
             "#d8576b"
            ],
            [
             0.6666666666666666,
             "#ed7953"
            ],
            [
             0.7777777777777778,
             "#fb9f3a"
            ],
            [
             0.8888888888888888,
             "#fdca26"
            ],
            [
             1,
             "#f0f921"
            ]
           ],
           "sequentialminus": [
            [
             0,
             "#0d0887"
            ],
            [
             0.1111111111111111,
             "#46039f"
            ],
            [
             0.2222222222222222,
             "#7201a8"
            ],
            [
             0.3333333333333333,
             "#9c179e"
            ],
            [
             0.4444444444444444,
             "#bd3786"
            ],
            [
             0.5555555555555556,
             "#d8576b"
            ],
            [
             0.6666666666666666,
             "#ed7953"
            ],
            [
             0.7777777777777778,
             "#fb9f3a"
            ],
            [
             0.8888888888888888,
             "#fdca26"
            ],
            [
             1,
             "#f0f921"
            ]
           ]
          },
          "colorway": [
           "#636efa",
           "#EF553B",
           "#00cc96",
           "#ab63fa",
           "#FFA15A",
           "#19d3f3",
           "#FF6692",
           "#B6E880",
           "#FF97FF",
           "#FECB52"
          ],
          "font": {
           "color": "#2a3f5f"
          },
          "geo": {
           "bgcolor": "white",
           "lakecolor": "white",
           "landcolor": "#E5ECF6",
           "showlakes": true,
           "showland": true,
           "subunitcolor": "white"
          },
          "hoverlabel": {
           "align": "left"
          },
          "hovermode": "closest",
          "mapbox": {
           "style": "light"
          },
          "paper_bgcolor": "white",
          "plot_bgcolor": "#E5ECF6",
          "polar": {
           "angularaxis": {
            "gridcolor": "white",
            "linecolor": "white",
            "ticks": ""
           },
           "bgcolor": "#E5ECF6",
           "radialaxis": {
            "gridcolor": "white",
            "linecolor": "white",
            "ticks": ""
           }
          },
          "scene": {
           "xaxis": {
            "backgroundcolor": "#E5ECF6",
            "gridcolor": "white",
            "gridwidth": 2,
            "linecolor": "white",
            "showbackground": true,
            "ticks": "",
            "zerolinecolor": "white"
           },
           "yaxis": {
            "backgroundcolor": "#E5ECF6",
            "gridcolor": "white",
            "gridwidth": 2,
            "linecolor": "white",
            "showbackground": true,
            "ticks": "",
            "zerolinecolor": "white"
           },
           "zaxis": {
            "backgroundcolor": "#E5ECF6",
            "gridcolor": "white",
            "gridwidth": 2,
            "linecolor": "white",
            "showbackground": true,
            "ticks": "",
            "zerolinecolor": "white"
           }
          },
          "shapedefaults": {
           "line": {
            "color": "#2a3f5f"
           }
          },
          "ternary": {
           "aaxis": {
            "gridcolor": "white",
            "linecolor": "white",
            "ticks": ""
           },
           "baxis": {
            "gridcolor": "white",
            "linecolor": "white",
            "ticks": ""
           },
           "bgcolor": "#E5ECF6",
           "caxis": {
            "gridcolor": "white",
            "linecolor": "white",
            "ticks": ""
           }
          },
          "title": {
           "x": 0.05
          },
          "xaxis": {
           "automargin": true,
           "gridcolor": "white",
           "linecolor": "white",
           "ticks": "",
           "title": {
            "standoff": 15
           },
           "zerolinecolor": "white",
           "zerolinewidth": 2
          },
          "yaxis": {
           "automargin": true,
           "gridcolor": "white",
           "linecolor": "white",
           "ticks": "",
           "title": {
            "standoff": 15
           },
           "zerolinecolor": "white",
           "zerolinewidth": 2
          }
         }
        },
        "title": {
         "text": "gas-tariffs/G-1R-SILVER-FLEX-22-11-25-A Price Forecast for Next 90 Days"
        },
        "xaxis": {
         "title": {
          "text": "Date and Time"
         }
        },
        "yaxis": {
         "title": {
          "text": "Price (p/kWh)"
         }
        }
       }
      }
     },
     "metadata": {},
     "output_type": "display_data"
    }
   ],
   "source": [
    "# Loop through each unique Tariff Code (assuming TARIFF_CODES contains the codes for gas and electricity)\n",
    "for utility, tariff_code in config['TARIFF_CODE'].items():\n",
    "    # Prepare data for Prophet (ds: timestamp, y: value to forecast)\n",
    "    prices = df[df['Tariff Code'] == tariff_code][['Valid From', 'Price (p/kWh)']]\n",
    "    prices.columns = ['ds', 'y']\n",
    "    prices['ds'] = pd.to_datetime(prices['ds']).dt.tz_localize(None)  # Remove timezone\n",
    "\n",
    "    # Create and fit a Prophet model\n",
    "    model = Prophet()\n",
    "    model.fit(prices)\n",
    "\n",
    "    # Predict future prices for the next PROPHET_FUTURE_PERIOD_DAYS days\n",
    "    future = model.make_future_dataframe(periods=config['PROPHET_FUTURE_PERIOD_DAYS'], freq='D')\n",
    "    forecast = model.predict(future)\n",
    "\n",
    "    # Create interactive plot using Plotly\n",
    "    fig = go.Figure()\n",
    "\n",
    "    # Add actual price trace\n",
    "    fig.add_trace(go.Scatter(x=prices['ds'], y=prices['y'], mode='lines', name='Actual'))\n",
    "\n",
    "    # Add forecast trace\n",
    "    fig.add_trace(go.Scatter(x=forecast['ds'], y=forecast['yhat'], mode='lines', name='Forecast'))\n",
    "\n",
    "    # Add uncertainty intervals\n",
    "    fig.add_trace(go.Scatter(x=forecast['ds'], y=forecast['yhat_upper'], fill='tonexty', mode='none', name='Upper Confidence Interval'))\n",
    "    fig.add_trace(go.Scatter(x=forecast['ds'], y=forecast['yhat_lower'], fill='tonexty', mode='none', name='Lower Confidence Interval'))\n",
    "\n",
    "    # Update layout\n",
    "    fig.update_layout(\n",
    "        title=f\"{tariff_code} Price Forecast for Next {config['PROPHET_FUTURE_PERIOD_DAYS']} Days\",\n",
    "        xaxis_title='Date and Time',\n",
    "        yaxis_title='Price (p/kWh)',\n",
    "        hovermode=\"x unified\"\n",
    "    )\n",
    "\n",
    "    # Sanitize Tariff Code for use in a filename\n",
    "    sanitized_code = re.sub(r'[\\\\/*?:\"<>|]', '_', tariff_code).lower()\n",
    "    # Save as HTML\n",
    "    fig.write_html(f\"{sanitized_code.lower()}_prices_3_month_prophet_anomalies_plot_interactive.html\")\n",
    "\n",
    "    # Show the plot\n",
    "    fig.show()\n"
   ]
  }
 ],
 "metadata": {
  "kernelspec": {
   "display_name": "Python 3",
   "language": "python",
   "name": "python3"
  },
  "language_info": {
   "codemirror_mode": {
    "name": "ipython",
    "version": 3
   },
   "file_extension": ".py",
   "mimetype": "text/x-python",
   "name": "python",
   "nbconvert_exporter": "python",
   "pygments_lexer": "ipython3",
   "version": "3.11.3"
  },
  "orig_nbformat": 4
 },
 "nbformat": 4,
 "nbformat_minor": 2
}
